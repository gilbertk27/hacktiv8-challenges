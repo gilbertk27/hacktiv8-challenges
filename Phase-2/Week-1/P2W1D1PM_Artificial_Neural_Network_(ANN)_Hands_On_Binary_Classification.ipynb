{
  "cells": [
    {
      "cell_type": "markdown",
      "metadata": {
        "id": "xsYKL7lWmfXr"
      },
      "source": [
        "# Phase 2 - Week 1 - Day 1 PM - Artificial Neural Network (ANN) - Binary Classification"
      ]
    },
    {
      "cell_type": "markdown",
      "metadata": {
        "id": "NA2_JwHtnBLD"
      },
      "source": [
        "> **NOTES**\n",
        "\n",
        "> Before you run the notebook below, **it is recommended to run the program using the GPU** so that the training process doesn't take too long.\n",
        "> If you use Google Colab, then you can set it by following the steps: `Runtime` >> `Change runtime type` >> `T4 GPU`."
      ]
    },
    {
      "cell_type": "markdown",
      "metadata": {
        "id": "xnNZkBcBlgfo"
      },
      "source": [
        "# A. Binary Classification"
      ]
    },
    {
      "cell_type": "markdown",
      "metadata": {
        "id": "T5ov8qr_m2sn"
      },
      "source": [
        "## A.1 - Import Libraries & Data Loading"
      ]
    },
    {
      "cell_type": "markdown",
      "metadata": {
        "id": "h9F_T6NBm_8y"
      },
      "source": [
        "In the first tutorial, we will implement Binary Classification using Titanic dataset to build neural network models.\n",
        "\n",
        "The purpose of this notebook is to demonstrate the creation of an ANN model in a general sense, so some details such as EDA, handling outliers, checking types of missing values, etc., are omitted.\n",
        "\n",
        "In reality, you should consider these aspects for the project you are working on so that your ANN model is an optimal model."
      ]
    },
    {
      "cell_type": "code",
      "execution_count": 59,
      "metadata": {
        "id": "J6jA7U8BPm3P"
      },
      "outputs": [],
      "source": [
        "# Import Libraries\n",
        "\n",
        "import numpy as np\n",
        "import pandas as pd\n",
        "import seaborn as sns\n",
        "import matplotlib.pyplot as plt\n",
        "\n",
        "from sklearn.model_selection import train_test_split\n",
        "from sklearn.pipeline import make_pipeline\n",
        "from sklearn.compose import ColumnTransformer\n",
        "from sklearn.impute import SimpleImputer\n",
        "from sklearn.preprocessing import StandardScaler, OneHotEncoder\n",
        "from sklearn.metrics import classification_report"
      ]
    },
    {
      "cell_type": "code",
      "execution_count": 60,
      "metadata": {
        "colab": {
          "base_uri": "https://localhost:8080/",
          "height": 206
        },
        "id": "6GQOP4YTncZb",
        "outputId": "fe86669b-1db2-4cb4-c8cd-333625afd667"
      },
      "outputs": [
        {
          "data": {
            "text/html": [
              "<div>\n",
              "<style scoped>\n",
              "    .dataframe tbody tr th:only-of-type {\n",
              "        vertical-align: middle;\n",
              "    }\n",
              "\n",
              "    .dataframe tbody tr th {\n",
              "        vertical-align: top;\n",
              "    }\n",
              "\n",
              "    .dataframe thead th {\n",
              "        text-align: right;\n",
              "    }\n",
              "</style>\n",
              "<table border=\"1\" class=\"dataframe\">\n",
              "  <thead>\n",
              "    <tr style=\"text-align: right;\">\n",
              "      <th></th>\n",
              "      <th>PassengerId</th>\n",
              "      <th>Survived</th>\n",
              "      <th>Pclass</th>\n",
              "      <th>Name</th>\n",
              "      <th>Sex</th>\n",
              "      <th>Age</th>\n",
              "      <th>SibSp</th>\n",
              "      <th>Parch</th>\n",
              "      <th>Ticket</th>\n",
              "      <th>Fare</th>\n",
              "      <th>Cabin</th>\n",
              "      <th>Embarked</th>\n",
              "    </tr>\n",
              "  </thead>\n",
              "  <tbody>\n",
              "    <tr>\n",
              "      <th>0</th>\n",
              "      <td>1</td>\n",
              "      <td>0</td>\n",
              "      <td>3</td>\n",
              "      <td>Braund, Mr. Owen Harris</td>\n",
              "      <td>male</td>\n",
              "      <td>22.0</td>\n",
              "      <td>1</td>\n",
              "      <td>0</td>\n",
              "      <td>A/5 21171</td>\n",
              "      <td>7.2500</td>\n",
              "      <td>NaN</td>\n",
              "      <td>S</td>\n",
              "    </tr>\n",
              "    <tr>\n",
              "      <th>1</th>\n",
              "      <td>2</td>\n",
              "      <td>1</td>\n",
              "      <td>1</td>\n",
              "      <td>Cumings, Mrs. John Bradley (Florence Briggs Th...</td>\n",
              "      <td>female</td>\n",
              "      <td>38.0</td>\n",
              "      <td>1</td>\n",
              "      <td>0</td>\n",
              "      <td>PC 17599</td>\n",
              "      <td>71.2833</td>\n",
              "      <td>C85</td>\n",
              "      <td>C</td>\n",
              "    </tr>\n",
              "    <tr>\n",
              "      <th>2</th>\n",
              "      <td>3</td>\n",
              "      <td>1</td>\n",
              "      <td>3</td>\n",
              "      <td>Heikkinen, Miss. Laina</td>\n",
              "      <td>female</td>\n",
              "      <td>26.0</td>\n",
              "      <td>0</td>\n",
              "      <td>0</td>\n",
              "      <td>STON/O2. 3101282</td>\n",
              "      <td>7.9250</td>\n",
              "      <td>NaN</td>\n",
              "      <td>S</td>\n",
              "    </tr>\n",
              "    <tr>\n",
              "      <th>3</th>\n",
              "      <td>4</td>\n",
              "      <td>1</td>\n",
              "      <td>1</td>\n",
              "      <td>Futrelle, Mrs. Jacques Heath (Lily May Peel)</td>\n",
              "      <td>female</td>\n",
              "      <td>35.0</td>\n",
              "      <td>1</td>\n",
              "      <td>0</td>\n",
              "      <td>113803</td>\n",
              "      <td>53.1000</td>\n",
              "      <td>C123</td>\n",
              "      <td>S</td>\n",
              "    </tr>\n",
              "    <tr>\n",
              "      <th>4</th>\n",
              "      <td>5</td>\n",
              "      <td>0</td>\n",
              "      <td>3</td>\n",
              "      <td>Allen, Mr. William Henry</td>\n",
              "      <td>male</td>\n",
              "      <td>35.0</td>\n",
              "      <td>0</td>\n",
              "      <td>0</td>\n",
              "      <td>373450</td>\n",
              "      <td>8.0500</td>\n",
              "      <td>NaN</td>\n",
              "      <td>S</td>\n",
              "    </tr>\n",
              "  </tbody>\n",
              "</table>\n",
              "</div>"
            ],
            "text/plain": [
              "   PassengerId  Survived  Pclass  \\\n",
              "0            1         0       3   \n",
              "1            2         1       1   \n",
              "2            3         1       3   \n",
              "3            4         1       1   \n",
              "4            5         0       3   \n",
              "\n",
              "                                                Name     Sex   Age  SibSp  \\\n",
              "0                            Braund, Mr. Owen Harris    male  22.0      1   \n",
              "1  Cumings, Mrs. John Bradley (Florence Briggs Th...  female  38.0      1   \n",
              "2                             Heikkinen, Miss. Laina  female  26.0      0   \n",
              "3       Futrelle, Mrs. Jacques Heath (Lily May Peel)  female  35.0      1   \n",
              "4                           Allen, Mr. William Henry    male  35.0      0   \n",
              "\n",
              "   Parch            Ticket     Fare Cabin Embarked  \n",
              "0      0         A/5 21171   7.2500   NaN        S  \n",
              "1      0          PC 17599  71.2833   C85        C  \n",
              "2      0  STON/O2. 3101282   7.9250   NaN        S  \n",
              "3      0            113803  53.1000  C123        S  \n",
              "4      0            373450   8.0500   NaN        S  "
            ]
          },
          "execution_count": 60,
          "metadata": {},
          "output_type": "execute_result"
        }
      ],
      "source": [
        "# Load the Titanic dataset\n",
        "\n",
        "url = 'https://raw.githubusercontent.com/FTDS-learning-materials/phase-1/master/w1/P1W1D3AM%20-%20Feature%20Engineering%20-%20Part%201%20-%20Titanic.csv'\n",
        "data = pd.read_csv(url)\n",
        "data.head()"
      ]
    },
    {
      "cell_type": "markdown",
      "metadata": {
        "id": "qkaeQN8Mnq-o"
      },
      "source": [
        "## A.2 - Feature Engineering"
      ]
    },
    {
      "cell_type": "markdown",
      "metadata": {
        "id": "fK1vpzYinu0f"
      },
      "source": [
        "### A.2.1 - Data Splitting"
      ]
    },
    {
      "cell_type": "code",
      "execution_count": 61,
      "metadata": {
        "id": "ljD7hbEjn0Af"
      },
      "outputs": [],
      "source": [
        "# Splitting between `X` and `y`\n",
        "\n",
        "X = data.drop('Survived', axis=1)\n",
        "y = data['Survived']"
      ]
    },
    {
      "cell_type": "code",
      "execution_count": 62,
      "metadata": {
        "colab": {
          "base_uri": "https://localhost:8080/"
        },
        "id": "y-R3NClgomt4",
        "outputId": "bad3f343-3d74-4241-cbe5-02fdd7ff9ecf"
      },
      "outputs": [
        {
          "name": "stdout",
          "output_type": "stream",
          "text": [
            "Train Size :  (643, 11)\n",
            "Val Size   :  (114, 11)\n",
            "Test Size  :  (134, 11)\n"
          ]
        }
      ],
      "source": [
        "# Splitting between Train-Set, Val-Set, and Test-Set\n",
        "\n",
        "X_train_val, X_test, y_train_val, y_test = train_test_split(X, y, test_size=0.15, random_state=42)\n",
        "X_train, X_val, y_train, y_val = train_test_split(X_train_val, y_train_val, test_size=0.15, random_state=42)\n",
        "\n",
        "print('Train Size : ', X_train.shape)\n",
        "print('Val Size   : ', X_val.shape)\n",
        "print('Test Size  : ', X_test.shape)"
      ]
    },
    {
      "cell_type": "markdown",
      "metadata": {
        "id": "WS5Gxi6BpgaN"
      },
      "source": [
        "### A.2.2 - Handling Missing Values"
      ]
    },
    {
      "cell_type": "code",
      "execution_count": 63,
      "metadata": {
        "colab": {
          "base_uri": "https://localhost:8080/"
        },
        "id": "KtXBqv2jpjtO",
        "outputId": "58945ce6-7668-4037-ffd7-5e9cdb5f37eb"
      },
      "outputs": [
        {
          "data": {
            "text/plain": [
              "PassengerId      0\n",
              "Pclass           0\n",
              "Name             0\n",
              "Sex              0\n",
              "Age            131\n",
              "SibSp            0\n",
              "Parch            0\n",
              "Ticket           0\n",
              "Fare             0\n",
              "Cabin          497\n",
              "Embarked         2\n",
              "dtype: int64"
            ]
          },
          "execution_count": 63,
          "metadata": {},
          "output_type": "execute_result"
        }
      ],
      "source": [
        "# Check Missing Values on X_train\n",
        "\n",
        "X_train.isnull().sum()"
      ]
    },
    {
      "cell_type": "code",
      "execution_count": 64,
      "metadata": {
        "colab": {
          "base_uri": "https://localhost:8080/"
        },
        "id": "aV1EGNDcpq9S",
        "outputId": "e4b9af54-d12d-42cc-d1f3-45365f61737b"
      },
      "outputs": [
        {
          "data": {
            "text/plain": [
              "PassengerId     0\n",
              "Pclass          0\n",
              "Name            0\n",
              "Sex             0\n",
              "Age            22\n",
              "SibSp           0\n",
              "Parch           0\n",
              "Ticket          0\n",
              "Fare            0\n",
              "Cabin          94\n",
              "Embarked        0\n",
              "dtype: int64"
            ]
          },
          "execution_count": 64,
          "metadata": {},
          "output_type": "execute_result"
        }
      ],
      "source": [
        "# Check Missing Values on X_val\n",
        "\n",
        "X_val.isnull().sum()"
      ]
    },
    {
      "cell_type": "code",
      "execution_count": 65,
      "metadata": {
        "colab": {
          "base_uri": "https://localhost:8080/"
        },
        "id": "5HK72vbwpxKU",
        "outputId": "a566e539-d430-4b18-b67d-094ebbcd9544"
      },
      "outputs": [
        {
          "data": {
            "text/plain": [
              "PassengerId     0\n",
              "Pclass          0\n",
              "Name            0\n",
              "Sex             0\n",
              "Age            24\n",
              "SibSp           0\n",
              "Parch           0\n",
              "Ticket          0\n",
              "Fare            0\n",
              "Cabin          96\n",
              "Embarked        0\n",
              "dtype: int64"
            ]
          },
          "execution_count": 65,
          "metadata": {},
          "output_type": "execute_result"
        }
      ],
      "source": [
        "# Check Missing Values on X_test\n",
        "\n",
        "X_test.isnull().sum()"
      ]
    },
    {
      "cell_type": "markdown",
      "metadata": {
        "id": "Bu1fRHLypdkY"
      },
      "source": [
        "We will impute this missing values in Pipeline using median imputation."
      ]
    },
    {
      "cell_type": "markdown",
      "metadata": {
        "id": "_WdLmllOp_SB"
      },
      "source": [
        "### A.2.3 - Feature Selection"
      ]
    },
    {
      "cell_type": "markdown",
      "metadata": {
        "id": "4y00dzUsqQhq"
      },
      "source": [
        "Let's assume columns `PassengerId`, `Cabin`, `Ticket`, `Embarked`, and `Name` do not have strong correlations against the target (column `Survived`)."
      ]
    },
    {
      "cell_type": "code",
      "execution_count": 66,
      "metadata": {
        "colab": {
          "base_uri": "https://localhost:8080/",
          "height": 424
        },
        "id": "wSHaQrqSqgEB",
        "outputId": "37f4ec9c-a2af-4a47-c844-9228e4af564b"
      },
      "outputs": [
        {
          "data": {
            "text/html": [
              "<div>\n",
              "<style scoped>\n",
              "    .dataframe tbody tr th:only-of-type {\n",
              "        vertical-align: middle;\n",
              "    }\n",
              "\n",
              "    .dataframe tbody tr th {\n",
              "        vertical-align: top;\n",
              "    }\n",
              "\n",
              "    .dataframe thead th {\n",
              "        text-align: right;\n",
              "    }\n",
              "</style>\n",
              "<table border=\"1\" class=\"dataframe\">\n",
              "  <thead>\n",
              "    <tr style=\"text-align: right;\">\n",
              "      <th></th>\n",
              "      <th>Pclass</th>\n",
              "      <th>Sex</th>\n",
              "      <th>Age</th>\n",
              "      <th>SibSp</th>\n",
              "      <th>Parch</th>\n",
              "      <th>Fare</th>\n",
              "    </tr>\n",
              "  </thead>\n",
              "  <tbody>\n",
              "    <tr>\n",
              "      <th>868</th>\n",
              "      <td>3</td>\n",
              "      <td>male</td>\n",
              "      <td>NaN</td>\n",
              "      <td>0</td>\n",
              "      <td>0</td>\n",
              "      <td>9.5000</td>\n",
              "    </tr>\n",
              "    <tr>\n",
              "      <th>223</th>\n",
              "      <td>3</td>\n",
              "      <td>male</td>\n",
              "      <td>NaN</td>\n",
              "      <td>0</td>\n",
              "      <td>0</td>\n",
              "      <td>7.8958</td>\n",
              "    </tr>\n",
              "    <tr>\n",
              "      <th>846</th>\n",
              "      <td>3</td>\n",
              "      <td>male</td>\n",
              "      <td>NaN</td>\n",
              "      <td>8</td>\n",
              "      <td>2</td>\n",
              "      <td>69.5500</td>\n",
              "    </tr>\n",
              "    <tr>\n",
              "      <th>171</th>\n",
              "      <td>3</td>\n",
              "      <td>male</td>\n",
              "      <td>4.0</td>\n",
              "      <td>4</td>\n",
              "      <td>1</td>\n",
              "      <td>29.1250</td>\n",
              "    </tr>\n",
              "    <tr>\n",
              "      <th>435</th>\n",
              "      <td>1</td>\n",
              "      <td>female</td>\n",
              "      <td>14.0</td>\n",
              "      <td>1</td>\n",
              "      <td>2</td>\n",
              "      <td>120.0000</td>\n",
              "    </tr>\n",
              "    <tr>\n",
              "      <th>...</th>\n",
              "      <td>...</td>\n",
              "      <td>...</td>\n",
              "      <td>...</td>\n",
              "      <td>...</td>\n",
              "      <td>...</td>\n",
              "      <td>...</td>\n",
              "    </tr>\n",
              "    <tr>\n",
              "      <th>533</th>\n",
              "      <td>3</td>\n",
              "      <td>female</td>\n",
              "      <td>NaN</td>\n",
              "      <td>0</td>\n",
              "      <td>2</td>\n",
              "      <td>22.3583</td>\n",
              "    </tr>\n",
              "    <tr>\n",
              "      <th>302</th>\n",
              "      <td>3</td>\n",
              "      <td>male</td>\n",
              "      <td>19.0</td>\n",
              "      <td>0</td>\n",
              "      <td>0</td>\n",
              "      <td>0.0000</td>\n",
              "    </tr>\n",
              "    <tr>\n",
              "      <th>473</th>\n",
              "      <td>2</td>\n",
              "      <td>female</td>\n",
              "      <td>23.0</td>\n",
              "      <td>0</td>\n",
              "      <td>0</td>\n",
              "      <td>13.7917</td>\n",
              "    </tr>\n",
              "    <tr>\n",
              "      <th>283</th>\n",
              "      <td>3</td>\n",
              "      <td>male</td>\n",
              "      <td>19.0</td>\n",
              "      <td>0</td>\n",
              "      <td>0</td>\n",
              "      <td>8.0500</td>\n",
              "    </tr>\n",
              "    <tr>\n",
              "      <th>829</th>\n",
              "      <td>1</td>\n",
              "      <td>female</td>\n",
              "      <td>62.0</td>\n",
              "      <td>0</td>\n",
              "      <td>0</td>\n",
              "      <td>80.0000</td>\n",
              "    </tr>\n",
              "  </tbody>\n",
              "</table>\n",
              "<p>643 rows × 6 columns</p>\n",
              "</div>"
            ],
            "text/plain": [
              "     Pclass     Sex   Age  SibSp  Parch      Fare\n",
              "868       3    male   NaN      0      0    9.5000\n",
              "223       3    male   NaN      0      0    7.8958\n",
              "846       3    male   NaN      8      2   69.5500\n",
              "171       3    male   4.0      4      1   29.1250\n",
              "435       1  female  14.0      1      2  120.0000\n",
              "..      ...     ...   ...    ...    ...       ...\n",
              "533       3  female   NaN      0      2   22.3583\n",
              "302       3    male  19.0      0      0    0.0000\n",
              "473       2  female  23.0      0      0   13.7917\n",
              "283       3    male  19.0      0      0    8.0500\n",
              "829       1  female  62.0      0      0   80.0000\n",
              "\n",
              "[643 rows x 6 columns]"
            ]
          },
          "execution_count": 66,
          "metadata": {},
          "output_type": "execute_result"
        }
      ],
      "source": [
        "# Drop Columns\n",
        "\n",
        "X_train.drop(['PassengerId', 'Cabin', 'Ticket', 'Embarked', 'Name'], axis=1, inplace=True)\n",
        "X_val.drop(['PassengerId', 'Cabin', 'Ticket', 'Embarked', 'Name'], axis=1, inplace=True)\n",
        "X_test.drop(['PassengerId', 'Cabin', 'Ticket', 'Embarked', 'Name'], axis=1, inplace=True)\n",
        "\n",
        "X_train"
      ]
    },
    {
      "cell_type": "markdown",
      "metadata": {
        "id": "6W2UomEQru4G"
      },
      "source": [
        "### A.2.4 - Pipeline"
      ]
    },
    {
      "cell_type": "code",
      "execution_count": 67,
      "metadata": {
        "colab": {
          "base_uri": "https://localhost:8080/"
        },
        "id": "l147CuSHrNjp",
        "outputId": "26d2cd69-afdc-4258-8c89-c21d5a78222d"
      },
      "outputs": [
        {
          "name": "stdout",
          "output_type": "stream",
          "text": [
            "Numerical Columns :  ['Pclass', 'Age', 'SibSp', 'Parch', 'Fare']\n",
            "Categorical Columns :  ['Sex']\n"
          ]
        }
      ],
      "source": [
        "# Get Numerical Columns and Categorical Columns\n",
        "\n",
        "num_columns = X_train.select_dtypes(include=np.number).columns.tolist()\n",
        "cat_columns = X_train.select_dtypes(include=['object']).columns.tolist()\n",
        "\n",
        "print('Numerical Columns : ', num_columns)\n",
        "print('Categorical Columns : ', cat_columns)"
      ]
    },
    {
      "cell_type": "code",
      "execution_count": 68,
      "metadata": {
        "id": "iIXoFIgkrx2c"
      },
      "outputs": [],
      "source": [
        "# Create A Pipeline\n",
        "\n",
        "num_pipeline = make_pipeline(SimpleImputer(strategy='median'),\n",
        "                             StandardScaler())\n",
        "\n",
        "cat_pipeline = make_pipeline(OneHotEncoder())\n",
        "\n",
        "final_pipeline = ColumnTransformer([\n",
        "    ('pipe_num', num_pipeline, num_columns),\n",
        "    ('pipe_cat', cat_pipeline, cat_columns)\n",
        "])"
      ]
    },
    {
      "cell_type": "code",
      "execution_count": 69,
      "metadata": {
        "colab": {
          "base_uri": "https://localhost:8080/"
        },
        "id": "j2YSScWesTm5",
        "outputId": "5adee4b5-0f7e-47f6-ccc6-28a5e11a3532"
      },
      "outputs": [
        {
          "data": {
            "text/plain": [
              "(643, 7)"
            ]
          },
          "execution_count": 69,
          "metadata": {},
          "output_type": "execute_result"
        }
      ],
      "source": [
        "# Fit and Transform\n",
        "\n",
        "X_train = final_pipeline.fit_transform(X_train)\n",
        "X_val = final_pipeline.transform(X_val)\n",
        "X_test = final_pipeline.transform(X_test)\n",
        "X_train.shape"
      ]
    },
    {
      "cell_type": "markdown",
      "metadata": {},
      "source": [
        "### A. 3 - Sequential API"
      ]
    },
    {
      "cell_type": "markdown",
      "metadata": {},
      "source": [
        "#### A.3.1 - Model Definition"
      ]
    },
    {
      "cell_type": "code",
      "execution_count": 70,
      "metadata": {},
      "outputs": [],
      "source": [
        "import tensorflow as tf\n",
        "seed = 20   \n",
        "tf.keras.backend.clear_session()\n",
        "np.random.seed(seed)\n",
        "tf.random.set_seed(seed)"
      ]
    },
    {
      "cell_type": "code",
      "execution_count": 71,
      "metadata": {},
      "outputs": [
        {
          "name": "stdout",
          "output_type": "stream",
          "text": [
            "Model: \"sequential\"\n",
            "_________________________________________________________________\n",
            " Layer (type)                Output Shape              Param #   \n",
            "=================================================================\n",
            " dense (Dense)               (None, 16)                128       \n",
            "                                                                 \n",
            " dense_1 (Dense)             (None, 8)                 136       \n",
            "                                                                 \n",
            " dense_2 (Dense)             (None, 1)                 9         \n",
            "                                                                 \n",
            "=================================================================\n",
            "Total params: 273 (1.07 KB)\n",
            "Trainable params: 273 (1.07 KB)\n",
            "Non-trainable params: 0 (0.00 Byte)\n",
            "_________________________________________________________________\n"
          ]
        }
      ],
      "source": [
        "# create sequential API\n",
        "from tensorflow.keras.models import Sequential\n",
        "from tensorflow.keras.layers import Dense\n",
        "\n",
        "model_seq = Sequential()\n",
        "model_seq.add(Dense(16, \n",
        "                    activation='relu', \n",
        "                    kernel_initializer=tf.keras.initializers.HeNormal(seed),\n",
        "                    input_shape=(7,)))\n",
        "model_seq.add(Dense(8,\n",
        "                    activation='relu',\n",
        "                    kernel_initializer=tf.keras.initializers.HeNormal(seed)))\n",
        "model_seq.add(Dense(1, \n",
        "                    activation='sigmoid',\n",
        "                    kernel_initializer=tf.keras.initializers.GlorotNormal(seed)))\n",
        "\n",
        "#compile model\n",
        "model_seq.compile(loss='binary_crossentropy',\n",
        "                  optimizer='adam',\n",
        "                  metrics=['accuracy'])\n",
        "model_seq.summary()"
      ]
    },
    {
      "cell_type": "code",
      "execution_count": 72,
      "metadata": {},
      "outputs": [
        {
          "data": {
            "image/png": "[encoded data removed]",
            "text/plain": [
              "<IPython.core.display.Image object>"
            ]
          },
          "execution_count": 72,
          "metadata": {},
          "output_type": "execute_result"
        }
      ],
      "source": [
        "tf.keras.utils.plot_model(model_seq, show_shapes=True)"
      ]
    },
    {
      "cell_type": "markdown",
      "metadata": {},
      "source": [
        "#### A.3.2 - Model Training"
      ]
    },
    {
      "cell_type": "code",
      "execution_count": 73,
      "metadata": {},
      "outputs": [
        {
          "name": "stdout",
          "output_type": "stream",
          "text": [
            "Epoch 1/20\n"
          ]
        },
        {
          "name": "stdout",
          "output_type": "stream",
          "text": [
            "65/65 [==============================] - 4s 16ms/step - loss: 0.8321 - accuracy: 0.4541 - val_loss: 0.7100 - val_accuracy: 0.4561\n",
            "Epoch 2/20\n",
            "65/65 [==============================] - 0s 7ms/step - loss: 0.6695 - accuracy: 0.5925 - val_loss: 0.6356 - val_accuracy: 0.5877\n",
            "Epoch 3/20\n",
            "65/65 [==============================] - 0s 7ms/step - loss: 0.6027 - accuracy: 0.6656 - val_loss: 0.5930 - val_accuracy: 0.6491\n",
            "Epoch 4/20\n",
            "65/65 [==============================] - 0s 7ms/step - loss: 0.5610 - accuracy: 0.7201 - val_loss: 0.5565 - val_accuracy: 0.6754\n",
            "Epoch 5/20\n",
            "65/65 [==============================] - 0s 6ms/step - loss: 0.5287 - accuracy: 0.7543 - val_loss: 0.5222 - val_accuracy: 0.7807\n",
            "Epoch 6/20\n",
            "65/65 [==============================] - 0s 7ms/step - loss: 0.5023 - accuracy: 0.7807 - val_loss: 0.4905 - val_accuracy: 0.7982\n",
            "Epoch 7/20\n",
            "65/65 [==============================] - 0s 6ms/step - loss: 0.4815 - accuracy: 0.7963 - val_loss: 0.4674 - val_accuracy: 0.8070\n",
            "Epoch 8/20\n",
            "65/65 [==============================] - 1s 12ms/step - loss: 0.4656 - accuracy: 0.7963 - val_loss: 0.4499 - val_accuracy: 0.8246\n",
            "Epoch 9/20\n",
            "65/65 [==============================] - 1s 8ms/step - loss: 0.4543 - accuracy: 0.8025 - val_loss: 0.4343 - val_accuracy: 0.8421\n",
            "Epoch 10/20\n",
            "65/65 [==============================] - 0s 6ms/step - loss: 0.4437 - accuracy: 0.8103 - val_loss: 0.4221 - val_accuracy: 0.8421\n",
            "Epoch 11/20\n",
            "65/65 [==============================] - 0s 7ms/step - loss: 0.4368 - accuracy: 0.8196 - val_loss: 0.4150 - val_accuracy: 0.8421\n",
            "Epoch 12/20\n",
            "65/65 [==============================] - 0s 6ms/step - loss: 0.4319 - accuracy: 0.8040 - val_loss: 0.4108 - val_accuracy: 0.8509\n",
            "Epoch 13/20\n",
            "65/65 [==============================] - 0s 7ms/step - loss: 0.4269 - accuracy: 0.8165 - val_loss: 0.4049 - val_accuracy: 0.8509\n",
            "Epoch 14/20\n",
            "65/65 [==============================] - 0s 7ms/step - loss: 0.4230 - accuracy: 0.8118 - val_loss: 0.4030 - val_accuracy: 0.8509\n",
            "Epoch 15/20\n",
            "65/65 [==============================] - 0s 6ms/step - loss: 0.4190 - accuracy: 0.8212 - val_loss: 0.4009 - val_accuracy: 0.8509\n",
            "Epoch 16/20\n",
            "65/65 [==============================] - 0s 7ms/step - loss: 0.4166 - accuracy: 0.8258 - val_loss: 0.4008 - val_accuracy: 0.8509\n",
            "Epoch 17/20\n",
            "65/65 [==============================] - 0s 6ms/step - loss: 0.4144 - accuracy: 0.8212 - val_loss: 0.3986 - val_accuracy: 0.8509\n",
            "Epoch 18/20\n",
            "65/65 [==============================] - 0s 7ms/step - loss: 0.4122 - accuracy: 0.8149 - val_loss: 0.3997 - val_accuracy: 0.8509\n",
            "Epoch 19/20\n",
            "65/65 [==============================] - 1s 10ms/step - loss: 0.4097 - accuracy: 0.8212 - val_loss: 0.3987 - val_accuracy: 0.8509\n",
            "Epoch 20/20\n",
            "65/65 [==============================] - 0s 6ms/step - loss: 0.4081 - accuracy: 0.8227 - val_loss: 0.3976 - val_accuracy: 0.8596\n"
          ]
        }
      ],
      "source": [
        "history_seq = model_seq.fit(X_train,\n",
        "                     y_train,\n",
        "                     epochs=20,\n",
        "                     validation_data = (X_val, y_val),\n",
        "                     batch_size = 10)"
      ]
    },
    {
      "cell_type": "code",
      "execution_count": 74,
      "metadata": {},
      "outputs": [
        {
          "name": "stderr",
          "output_type": "stream",
          "text": [
            "C:\\Users\\Gilbert KH\\AppData\\Local\\Packages\\PythonSoftwareFoundation.Python.3.9_qbz5n2kfra8p0\\LocalCache\\local-packages\\Python39\\site-packages\\seaborn\\_oldcore.py:1119: FutureWarning: use_inf_as_na option is deprecated and will be removed in a future version. Convert inf values to NaN before operating instead.\n",
            "  with pd.option_context('mode.use_inf_as_na', True):\n",
            "C:\\Users\\Gilbert KH\\AppData\\Local\\Packages\\PythonSoftwareFoundation.Python.3.9_qbz5n2kfra8p0\\LocalCache\\local-packages\\Python39\\site-packages\\seaborn\\_oldcore.py:1119: FutureWarning: use_inf_as_na option is deprecated and will be removed in a future version. Convert inf values to NaN before operating instead.\n",
            "  with pd.option_context('mode.use_inf_as_na', True):\n",
            "C:\\Users\\Gilbert KH\\AppData\\Local\\Packages\\PythonSoftwareFoundation.Python.3.9_qbz5n2kfra8p0\\LocalCache\\local-packages\\Python39\\site-packages\\seaborn\\_oldcore.py:1119: FutureWarning: use_inf_as_na option is deprecated and will be removed in a future version. Convert inf values to NaN before operating instead.\n",
            "  with pd.option_context('mode.use_inf_as_na', True):\n",
            "C:\\Users\\Gilbert KH\\AppData\\Local\\Packages\\PythonSoftwareFoundation.Python.3.9_qbz5n2kfra8p0\\LocalCache\\local-packages\\Python39\\site-packages\\seaborn\\_oldcore.py:1119: FutureWarning: use_inf_as_na option is deprecated and will be removed in a future version. Convert inf values to NaN before operating instead.\n",
            "  with pd.option_context('mode.use_inf_as_na', True):\n"
          ]
        },
        {
          "data": {
            "image/png": "[encoded data removed]",
            "text/plain": [
              "<Figure size 1200x800 with 2 Axes>"
            ]
          },
          "metadata": {},
          "output_type": "display_data"
        }
      ],
      "source": [
        "# plot training result\n",
        "\n",
        "\n",
        "hist_seq_df = pd.DataFrame(history_seq.history)\n",
        "\n",
        "plt.figure(figsize=(12, 8))\n",
        "plt.subplot(1, 2, 1)\n",
        "sns.lineplot(data=hist_seq_df[['loss', 'val_loss']])\n",
        "plt.grid()\n",
        "plt.title('Training Loss vs Validation Loss')\n",
        "\n",
        "plt.subplot(1, 2, 2)\n",
        "sns.lineplot(data=hist_seq_df[['accuracy', 'val_accuracy']])\n",
        "plt.grid()\n",
        "plt.title('Training Accuracy vs Validation Accuracy')\n",
        "plt.show()"
      ]
    },
    {
      "cell_type": "code",
      "execution_count": 75,
      "metadata": {},
      "outputs": [
        {
          "name": "stdout",
          "output_type": "stream",
          "text": [
            "5/5 [==============================] - 0s 4ms/step\n"
          ]
        },
        {
          "data": {
            "text/plain": [
              "array([[0.12382911],\n",
              "       [0.12069277],\n",
              "       [0.12904467],\n",
              "       [0.9185033 ],\n",
              "       [0.5857138 ],\n",
              "       [0.97652173],\n",
              "       [0.5852254 ],\n",
              "       [0.2897221 ],\n",
              "       [0.64999425],\n",
              "       [0.9825831 ],\n",
              "       [0.3311544 ],\n",
              "       [0.05529008],\n",
              "       [0.21587929],\n",
              "       [0.08672831],\n",
              "       [0.11386398],\n",
              "       [0.9674488 ],\n",
              "       [0.3024563 ],\n",
              "       [0.5851948 ],\n",
              "       [0.1355707 ],\n",
              "       [0.3283293 ],\n",
              "       [0.10810123],\n",
              "       [0.3173875 ],\n",
              "       [0.5757433 ],\n",
              "       [0.1296778 ],\n",
              "       [0.0941648 ],\n",
              "       [0.23842837],\n",
              "       [0.26812005],\n",
              "       [0.12670818],\n",
              "       [0.33332276],\n",
              "       [0.5953379 ],\n",
              "       [0.13498363],\n",
              "       [0.60431683],\n",
              "       [0.40057552],\n",
              "       [0.5853028 ],\n",
              "       [0.14116001],\n",
              "       [0.15429778],\n",
              "       [0.41913012],\n",
              "       [0.5852254 ],\n",
              "       [0.97177035],\n",
              "       [0.09159248],\n",
              "       [0.40817094],\n",
              "       [0.13748336],\n",
              "       [0.09160424],\n",
              "       [0.09158135],\n",
              "       [0.4180541 ],\n",
              "       [0.25814998],\n",
              "       [0.1351059 ],\n",
              "       [0.1131172 ],\n",
              "       [0.10788389],\n",
              "       [0.38552126],\n",
              "       [0.4492976 ],\n",
              "       [0.96998686],\n",
              "       [0.03577087],\n",
              "       [0.7977897 ],\n",
              "       [0.04053015],\n",
              "       [0.9755124 ],\n",
              "       [0.11826088],\n",
              "       [0.98102546],\n",
              "       [0.889368  ],\n",
              "       [0.6430958 ],\n",
              "       [0.12321831],\n",
              "       [0.9126829 ],\n",
              "       [0.84367096],\n",
              "       [0.374668  ],\n",
              "       [0.09158135],\n",
              "       [0.93209034],\n",
              "       [0.45433378],\n",
              "       [0.08921547],\n",
              "       [0.22170176],\n",
              "       [0.97846895],\n",
              "       [0.87820923],\n",
              "       [0.8110943 ],\n",
              "       [0.44241226],\n",
              "       [0.94388753],\n",
              "       [0.11272248],\n",
              "       [0.10777162],\n",
              "       [0.5931169 ],\n",
              "       [0.9802069 ],\n",
              "       [0.88490224],\n",
              "       [0.3515596 ],\n",
              "       [0.14195861],\n",
              "       [0.84761894],\n",
              "       [0.93276256],\n",
              "       [0.0915804 ],\n",
              "       [0.25411102],\n",
              "       [0.35898495],\n",
              "       [0.92699164],\n",
              "       [0.9820642 ],\n",
              "       [0.2128289 ],\n",
              "       [0.09154319],\n",
              "       [0.4542951 ],\n",
              "       [0.1219474 ],\n",
              "       [0.25363067],\n",
              "       [0.09157977],\n",
              "       [0.09159248],\n",
              "       [0.0915893 ],\n",
              "       [0.2715955 ],\n",
              "       [0.05345567],\n",
              "       [0.8842645 ],\n",
              "       [0.09519565],\n",
              "       [0.24244827],\n",
              "       [0.075092  ],\n",
              "       [0.9098299 ],\n",
              "       [0.06881564],\n",
              "       [0.08553533],\n",
              "       [0.16915408],\n",
              "       [0.9102359 ],\n",
              "       [0.28601557],\n",
              "       [0.08683985],\n",
              "       [0.2780492 ],\n",
              "       [0.9351498 ],\n",
              "       [0.12586035],\n",
              "       [0.93315196],\n",
              "       [0.29829594],\n",
              "       [0.58723927],\n",
              "       [0.13035588],\n",
              "       [0.30906302],\n",
              "       [0.11357476],\n",
              "       [0.87478113],\n",
              "       [0.22318974],\n",
              "       [0.55246633],\n",
              "       [0.981507  ],\n",
              "       [0.9860151 ],\n",
              "       [0.9069905 ],\n",
              "       [0.10347705],\n",
              "       [0.30830663],\n",
              "       [0.97683924],\n",
              "       [0.53042614],\n",
              "       [0.6331618 ],\n",
              "       [0.12332733],\n",
              "       [0.58517545],\n",
              "       [0.12382911],\n",
              "       [0.11429767],\n",
              "       [0.70199084]], dtype=float32)"
            ]
          },
          "execution_count": 75,
          "metadata": {},
          "output_type": "execute_result"
        }
      ],
      "source": [
        "# predict test_set\n",
        "model_seq.predict(X_test)"
      ]
    },
    {
      "cell_type": "code",
      "execution_count": 76,
      "metadata": {},
      "outputs": [
        {
          "name": "stdout",
          "output_type": "stream",
          "text": [
            "5/5 [==============================] - 0s 5ms/step\n"
          ]
        },
        {
          "name": "stdout",
          "output_type": "stream",
          "text": [
            "              precision    recall  f1-score   support\n",
            "\n",
            "           0       0.81      0.87      0.84        78\n",
            "           1       0.80      0.71      0.75        56\n",
            "\n",
            "    accuracy                           0.81       134\n",
            "   macro avg       0.80      0.79      0.80       134\n",
            "weighted avg       0.81      0.81      0.80       134\n",
            "\n"
          ]
        }
      ],
      "source": [
        "# model evaluation  on test set\n",
        "\n",
        "y_pred_seq = model_seq.predict(X_test)\n",
        "y_pred_seq = np.where(y_pred_seq > 0.5, 1, 0)\n",
        "print(classification_report(y_test, y_pred_seq))"
      ]
    },
    {
      "cell_type": "markdown",
      "metadata": {},
      "source": [
        "### A. 4 - Functional API"
      ]
    },
    {
      "cell_type": "markdown",
      "metadata": {},
      "source": [
        "#### A.4.1 - Model Definition  "
      ]
    },
    {
      "cell_type": "code",
      "execution_count": 77,
      "metadata": {},
      "outputs": [],
      "source": [
        "# clear session\n",
        "\n",
        "import tensorflow as tf\n",
        "seed = 20\n",
        "tf.keras.backend.clear_session()\n",
        "np.random.seed(seed)\n",
        "tf.random.set_seed(seed)"
      ]
    },
    {
      "cell_type": "code",
      "execution_count": 78,
      "metadata": {},
      "outputs": [
        {
          "name": "stdout",
          "output_type": "stream",
          "text": [
            "Model: \"model\"\n",
            "__________________________________________________________________________________________________\n",
            " Layer (type)                Output Shape                 Param #   Connected to                  \n",
            "==================================================================================================\n",
            " input_1 (InputLayer)        [(None, 7)]                  0         []                            \n",
            "                                                                                                  \n",
            " dense (Dense)               (None, 16)                   128       ['input_1[0][0]']             \n",
            "                                                                                                  \n",
            " dense_1 (Dense)             (None, 8)                    136       ['dense[0][0]']               \n",
            "                                                                                                  \n",
            " concatenate (Concatenate)   (None, 15)                   0         ['input_1[0][0]',             \n",
            "                                                                     'dense_1[0][0]']             \n",
            "                                                                                                  \n",
            " dense_2 (Dense)             (None, 1)                    16        ['concatenate[0][0]']         \n",
            "                                                                                                  \n",
            "==================================================================================================\n",
            "Total params: 280 (1.09 KB)\n",
            "Trainable params: 280 (1.09 KB)\n",
            "Non-trainable params: 0 (0.00 Byte)\n",
            "__________________________________________________________________________________________________\n"
          ]
        }
      ],
      "source": [
        "# create functional model\n",
        "\n",
        "from tensorflow.keras.layers import Input, concatenate\n",
        "from tensorflow.keras import Model\n",
        "\n",
        "input_layer = Input(shape=(7,))\n",
        "hidden_layer_1 = Dense(16, activation='relu', \n",
        "                        kernel_initializer=tf.keras.initializers.HeNormal(seed))(input_layer)\n",
        "hidden_layer_2 = Dense(8, activation='relu',\n",
        "                        kernel_initializer=tf.keras.initializers.HeNormal(seed))(hidden_layer_1)\n",
        "\n",
        "concat_layer = concatenate([input_layer, hidden_layer_2])\n",
        "output_layer = Dense(1, activation='sigmoid',\n",
        "                        kernel_initializer=tf.keras.initializers.GlorotNormal(seed))(concat_layer)\n",
        "\n",
        "model_func = Model(inputs=input_layer, outputs=output_layer)\n",
        "\n",
        "# compile model\n",
        "model_func.compile(loss='binary_crossentropy',\n",
        "                  optimizer='adam',\n",
        "                  metrics=['accuracy'])\n",
        "model_func.summary()"
      ]
    },
    {
      "cell_type": "code",
      "execution_count": 79,
      "metadata": {},
      "outputs": [
        {
          "data": {
            "image/png": "[encoded data removed]",
            "text/plain": [
              "<IPython.core.display.Image object>"
            ]
          },
          "execution_count": 79,
          "metadata": {},
          "output_type": "execute_result"
        }
      ],
      "source": [
        "# plot model\n",
        "tf.keras.utils.plot_model(model_func, show_shapes=True)"
      ]
    },
    {
      "cell_type": "markdown",
      "metadata": {},
      "source": [
        "#### A.4.2 - Model Training"
      ]
    },
    {
      "cell_type": "code",
      "execution_count": 80,
      "metadata": {},
      "outputs": [
        {
          "name": "stdout",
          "output_type": "stream",
          "text": [
            "Epoch 1/20\n"
          ]
        },
        {
          "name": "stdout",
          "output_type": "stream",
          "text": [
            "65/65 [==============================] - 4s 14ms/step - loss: 0.7717 - accuracy: 0.4137 - val_loss: 0.6628 - val_accuracy: 0.5965\n",
            "Epoch 2/20\n",
            "65/65 [==============================] - 0s 8ms/step - loss: 0.6520 - accuracy: 0.6128 - val_loss: 0.6049 - val_accuracy: 0.7982\n",
            "Epoch 3/20\n",
            "65/65 [==============================] - 0s 6ms/step - loss: 0.5999 - accuracy: 0.7605 - val_loss: 0.5626 - val_accuracy: 0.8158\n",
            "Epoch 4/20\n",
            "65/65 [==============================] - 0s 5ms/step - loss: 0.5540 - accuracy: 0.7838 - val_loss: 0.5034 - val_accuracy: 0.8070\n",
            "Epoch 5/20\n",
            "65/65 [==============================] - 0s 6ms/step - loss: 0.5027 - accuracy: 0.7932 - val_loss: 0.4579 - val_accuracy: 0.8158\n",
            "Epoch 6/20\n",
            "65/65 [==============================] - 0s 6ms/step - loss: 0.4722 - accuracy: 0.8118 - val_loss: 0.4303 - val_accuracy: 0.8509\n",
            "Epoch 7/20\n",
            "65/65 [==============================] - 0s 6ms/step - loss: 0.4531 - accuracy: 0.8072 - val_loss: 0.4120 - val_accuracy: 0.8509\n",
            "Epoch 8/20\n",
            "65/65 [==============================] - 1s 8ms/step - loss: 0.4406 - accuracy: 0.8134 - val_loss: 0.4037 - val_accuracy: 0.8421\n",
            "Epoch 9/20\n",
            "65/65 [==============================] - 0s 5ms/step - loss: 0.4346 - accuracy: 0.8134 - val_loss: 0.3980 - val_accuracy: 0.8421\n",
            "Epoch 10/20\n",
            "65/65 [==============================] - 1s 10ms/step - loss: 0.4296 - accuracy: 0.8134 - val_loss: 0.3944 - val_accuracy: 0.8421\n",
            "Epoch 11/20\n",
            "65/65 [==============================] - 0s 6ms/step - loss: 0.4274 - accuracy: 0.8149 - val_loss: 0.3926 - val_accuracy: 0.8421\n",
            "Epoch 12/20\n",
            "65/65 [==============================] - 0s 6ms/step - loss: 0.4254 - accuracy: 0.8149 - val_loss: 0.3934 - val_accuracy: 0.8509\n",
            "Epoch 13/20\n",
            "65/65 [==============================] - 1s 8ms/step - loss: 0.4226 - accuracy: 0.8227 - val_loss: 0.3882 - val_accuracy: 0.8421\n",
            "Epoch 14/20\n",
            "65/65 [==============================] - 0s 6ms/step - loss: 0.4203 - accuracy: 0.8243 - val_loss: 0.3882 - val_accuracy: 0.8421\n",
            "Epoch 15/20\n",
            "65/65 [==============================] - 0s 5ms/step - loss: 0.4185 - accuracy: 0.8243 - val_loss: 0.3871 - val_accuracy: 0.8421\n",
            "Epoch 16/20\n",
            "65/65 [==============================] - 0s 5ms/step - loss: 0.4181 - accuracy: 0.8227 - val_loss: 0.3874 - val_accuracy: 0.8421\n",
            "Epoch 17/20\n",
            "65/65 [==============================] - 0s 6ms/step - loss: 0.4166 - accuracy: 0.8258 - val_loss: 0.3857 - val_accuracy: 0.8509\n",
            "Epoch 18/20\n",
            "65/65 [==============================] - 0s 5ms/step - loss: 0.4150 - accuracy: 0.8274 - val_loss: 0.3863 - val_accuracy: 0.8421\n",
            "Epoch 19/20\n",
            "65/65 [==============================] - 1s 9ms/step - loss: 0.4137 - accuracy: 0.8258 - val_loss: 0.3854 - val_accuracy: 0.8509\n",
            "Epoch 20/20\n",
            "65/65 [==============================] - 1s 9ms/step - loss: 0.4126 - accuracy: 0.8258 - val_loss: 0.3846 - val_accuracy: 0.8509\n"
          ]
        }
      ],
      "source": [
        "# Train Model\n",
        "history_func = model_func.fit(X_train,\n",
        "                     y_train,\n",
        "                     epochs=20,\n",
        "                     validation_data = (X_val, y_val),\n",
        "                     batch_size = 10)"
      ]
    },
    {
      "cell_type": "markdown",
      "metadata": {},
      "source": [
        "#### A.4.3 - Model Evaluation"
      ]
    },
    {
      "cell_type": "code",
      "execution_count": 81,
      "metadata": {},
      "outputs": [
        {
          "name": "stderr",
          "output_type": "stream",
          "text": [
            "C:\\Users\\Gilbert KH\\AppData\\Local\\Packages\\PythonSoftwareFoundation.Python.3.9_qbz5n2kfra8p0\\LocalCache\\local-packages\\Python39\\site-packages\\seaborn\\_oldcore.py:1119: FutureWarning: use_inf_as_na option is deprecated and will be removed in a future version. Convert inf values to NaN before operating instead.\n",
            "  with pd.option_context('mode.use_inf_as_na', True):\n",
            "C:\\Users\\Gilbert KH\\AppData\\Local\\Packages\\PythonSoftwareFoundation.Python.3.9_qbz5n2kfra8p0\\LocalCache\\local-packages\\Python39\\site-packages\\seaborn\\_oldcore.py:1119: FutureWarning: use_inf_as_na option is deprecated and will be removed in a future version. Convert inf values to NaN before operating instead.\n",
            "  with pd.option_context('mode.use_inf_as_na', True):\n",
            "C:\\Users\\Gilbert KH\\AppData\\Local\\Packages\\PythonSoftwareFoundation.Python.3.9_qbz5n2kfra8p0\\LocalCache\\local-packages\\Python39\\site-packages\\seaborn\\_oldcore.py:1119: FutureWarning: use_inf_as_na option is deprecated and will be removed in a future version. Convert inf values to NaN before operating instead.\n",
            "  with pd.option_context('mode.use_inf_as_na', True):\n",
            "C:\\Users\\Gilbert KH\\AppData\\Local\\Packages\\PythonSoftwareFoundation.Python.3.9_qbz5n2kfra8p0\\LocalCache\\local-packages\\Python39\\site-packages\\seaborn\\_oldcore.py:1119: FutureWarning: use_inf_as_na option is deprecated and will be removed in a future version. Convert inf values to NaN before operating instead.\n",
            "  with pd.option_context('mode.use_inf_as_na', True):\n"
          ]
        },
        {
          "data": {
            "image/png": "[encoded data removed]",
            "text/plain": [
              "<Figure size 1200x800 with 2 Axes>"
            ]
          },
          "metadata": {},
          "output_type": "display_data"
        }
      ],
      "source": [
        "# plot training result\n",
        "\n",
        "\n",
        "hist_func_df = pd.DataFrame(history_func.history)\n",
        "\n",
        "plt.figure(figsize=(12, 8))\n",
        "plt.subplot(1, 2, 1)\n",
        "sns.lineplot(data=hist_func_df[['loss', 'val_loss']])\n",
        "plt.grid()\n",
        "plt.title('Training Loss vs Validation Loss')\n",
        "\n",
        "plt.subplot(1, 2, 2)\n",
        "sns.lineplot(data=hist_func_df[['accuracy', 'val_accuracy']])\n",
        "plt.grid()\n",
        "plt.title('Training Accuracy vs Validation Accuracy')\n",
        "plt.show()"
      ]
    },
    {
      "cell_type": "code",
      "execution_count": 82,
      "metadata": {},
      "outputs": [
        {
          "name": "stdout",
          "output_type": "stream",
          "text": [
            "5/5 [==============================] - 0s 4ms/step\n",
            "              precision    recall  f1-score   support\n",
            "\n",
            "           0       0.80      0.90      0.85        78\n",
            "           1       0.83      0.70      0.76        56\n",
            "\n",
            "    accuracy                           0.81       134\n",
            "   macro avg       0.82      0.80      0.80       134\n",
            "weighted avg       0.82      0.81      0.81       134\n",
            "\n"
          ]
        }
      ],
      "source": [
        "# predict test_set\n",
        "y_pred_func = model_func.predict(X_test)\n",
        "y_pred_func = np.where(y_pred_func > 0.5, 1, 0)\n",
        "print(classification_report(y_test, y_pred_func))"
      ]
    },
    {
      "cell_type": "markdown",
      "metadata": {},
      "source": [
        "### A.5 - Model Saving"
      ]
    },
    {
      "cell_type": "code",
      "execution_count": 83,
      "metadata": {},
      "outputs": [],
      "source": [
        "import pickle\n",
        "with open('titanic_pipeline.pkl', 'wb') as file:\n",
        "    pickle.dump(final_pipeline, file)"
      ]
    },
    {
      "cell_type": "code",
      "execution_count": 84,
      "metadata": {},
      "outputs": [
        {
          "name": "stdout",
          "output_type": "stream",
          "text": [
            "Model: \"sequential\"\n",
            "_________________________________________________________________\n",
            " Layer (type)                Output Shape              Param #   \n",
            "=================================================================\n",
            " dense (Dense)               (None, 16)                128       \n",
            "                                                                 \n",
            " dense_1 (Dense)             (None, 8)                 136       \n",
            "                                                                 \n",
            " dense_2 (Dense)             (None, 1)                 9         \n",
            "                                                                 \n",
            "=================================================================\n",
            "Total params: 273 (1.07 KB)\n",
            "Trainable params: 273 (1.07 KB)\n",
            "Non-trainable params: 0 (0.00 Byte)\n",
            "_________________________________________________________________\n"
          ]
        }
      ],
      "source": [
        "# model summary\n",
        "model_seq.summary()"
      ]
    },
    {
      "cell_type": "code",
      "execution_count": 85,
      "metadata": {},
      "outputs": [
        {
          "name": "stdout",
          "output_type": "stream",
          "text": [
            "Model: \"sequential\"\n",
            "_________________________________________________________________\n",
            " Layer (type)                Output Shape              Param #   \n",
            "=================================================================\n",
            " dense (Dense)               (None, 16)                128       \n",
            "                                                                 \n",
            " dense_1 (Dense)             (None, 8)                 136       \n",
            "                                                                 \n",
            " dense_2 (Dense)             (None, 1)                 9         \n",
            "                                                                 \n",
            "=================================================================\n",
            "Total params: 273 (1.07 KB)\n",
            "Trainable params: 0 (0.00 Byte)\n",
            "Non-trainable params: 273 (1.07 KB)\n",
            "_________________________________________________________________\n"
          ]
        }
      ],
      "source": [
        "# freeze model \n",
        "model_seq.trainable = False\n",
        "model_seq.summary()"
      ]
    },
    {
      "cell_type": "code",
      "execution_count": 86,
      "metadata": {},
      "outputs": [
        {
          "name": "stderr",
          "output_type": "stream",
          "text": [
            "C:\\Users\\Gilbert KH\\AppData\\Local\\Packages\\PythonSoftwareFoundation.Python.3.9_qbz5n2kfra8p0\\LocalCache\\local-packages\\Python39\\site-packages\\keras\\src\\engine\\training.py:3103: UserWarning: You are saving your model as an HDF5 file via `model.save()`. This file format is considered legacy. We recommend using instead the native Keras format, e.g. `model.save('my_model.keras')`.\n",
            "  saving_api.save_model(\n"
          ]
        }
      ],
      "source": [
        "# save ANN model\n",
        "\n",
        "model_seq.save('titanic_model.h5')"
      ]
    },
    {
      "cell_type": "code",
      "execution_count": 87,
      "metadata": {},
      "outputs": [],
      "source": [
        "# save ANN model (new but unstable)\n",
        "\n",
        "model_seq.save('titanic_model.keras')"
      ]
    }
  ],
  "metadata": {
    "accelerator": "GPU",
    "colab": {
      "gpuType": "T4",
      "provenance": [],
      "toc_visible": true
    },
    "kernelspec": {
      "display_name": "Python 3",
      "name": "python3"
    },
    "language_info": {
      "codemirror_mode": {
        "name": "ipython",
        "version": 3
      },
      "file_extension": ".py",
      "mimetype": "text/x-python",
      "name": "python",
      "nbconvert_exporter": "python",
      "pygments_lexer": "ipython3",
      "version": "3.9.13"
    }
  },
  "nbformat": 4,
  "nbformat_minor": 0
}
