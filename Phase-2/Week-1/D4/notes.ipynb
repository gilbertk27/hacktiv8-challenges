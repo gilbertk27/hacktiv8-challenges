{
 "cells": [
  {
   "cell_type": "markdown",
   "metadata": {},
   "source": [
    "# Docker"
   ]
  },
  {
   "cell_type": "markdown",
   "metadata": {},
   "source": [
    "## Definition"
   ]
  },
  {
   "cell_type": "markdown",
   "metadata": {},
   "source": [
    "- Docker is a set of platform as a service products that use OS-level virtualisation to deliver software in packages called **containers**\n",
    "    \n",
    "    ![](https://www.shutterstock.com/image-illustration/comparative-illustration-virtual-machine-container-600nw-2288187441.jpg)"
   ]
  },
  {
   "cell_type": "markdown",
   "metadata": {},
   "source": [
    "## Requirement"
   ]
  },
  {
   "cell_type": "markdown",
   "metadata": {},
   "source": [
    "- Docker Desktop https://www.docker.com/products/docker-desktop/"
   ]
  },
  {
   "cell_type": "markdown",
   "metadata": {},
   "source": [
    "## Create Container"
   ]
  },
  {
   "cell_type": "markdown",
   "metadata": {},
   "source": [
    "Ingredients:\n",
    "- Dockerfile -> instructions for compiling an image\n",
    "- Image -> compiled arthifact\n",
    "    ![](https://miro.medium.com/v2/resize:fit:1400/0*CP98BIIBgMG2K3u5.png)"
   ]
  },
  {
   "cell_type": "markdown",
   "metadata": {},
   "source": [
    "### Dockerfile"
   ]
  },
  {
   "cell_type": "markdown",
   "metadata": {},
   "source": [
    "- is a text file named `Dockerfile` that contains list of instruction to build an image\n",
    "- Some keywords/commands that will be used in `Dockerfile`\n",
    "    - `FROM` -> describes a base environment, so we don't need to start from scratch.\n",
    "        > we can use any base image from DockerHub\n",
    "    - `RUN` -> an instruction to change the environment.\n",
    "    - `COPY` -> copies a file from your local disk, like the requirements.txt, into the image.\n",
    "- To execute `Dockerfile` we can use this command\n",
    "    ```bash\n",
    "    docker build . -t h8image:1.0\n",
    "    ```\n",
    "    - `.` locate Dockerfile in current directory\n",
    "    - `-t` defines the image_name:tag, example: `h8image:1.0`\n",
    "- Example - build python image that includes tensorflow and pandas\n",
    "    ```dockerfile\n",
    "    FROM python:3.9\n",
    "    RUN pip install tensorflow pandas\n",
    "    ```\n",
    "    ![](https://k21academy.com/wp-content/uploads/2020/06/Table.png)"
   ]
  },
  {
   "cell_type": "markdown",
   "metadata": {},
   "source": [
    "### Image"
   ]
  },
  {
   "cell_type": "markdown",
   "metadata": {},
   "source": [
    "- After building image, we can use this command to check image list\n",
    "    ```bash\n",
    "    docker image list\n",
    "    ```"
   ]
  },
  {
   "cell_type": "markdown",
   "metadata": {},
   "source": [
    "### Container"
   ]
  },
  {
   "cell_type": "markdown",
   "metadata": {},
   "source": [
    "- We can build a container by run our image\n",
    "    ```bash\n",
    "    # run docker container in background\n",
    "    docker run -p host_port:container_port -d image_name:tag\n",
    "    ```"
   ]
  },
  {
   "cell_type": "markdown",
   "metadata": {},
   "source": [
    "## Docker Compose"
   ]
  },
  {
   "cell_type": "markdown",
   "metadata": {},
   "source": [
    "- is a tool that was developed to help define and share multi-container applications\n",
    "- It's good if our system have more than 1 services, where each services can work together and communicate\n",
    "- Using a file named `docker-compose.yml`\n",
    "- Example:\n",
    "    ```yaml\n",
    "    services:\n",
    "        app:\n",
    "            # if we already have a dockerfile, we can use it as an image in compose\n",
    "            build: .\n",
    "            ports: \n",
    "                # define port to access the service <host_port>:<container_port>\n",
    "                - 8000:8000\n",
    "    ```\n",
    "    to run it we'll use this command\n",
    "    ```bash\n",
    "    docker compose up\n",
    "    # or\n",
    "    docker compose up -d # to run in background\n",
    "    ```"
   ]
  },
  {
   "cell_type": "markdown",
   "metadata": {},
   "source": [
    "## Docker Command Cheat-sheet"
   ]
  },
  {
   "cell_type": "markdown",
   "metadata": {},
   "source": [
    "![](https://miro.medium.com/v2/resize:fit:1200/1*jtJOYTzsB8k48ssLzi0F6g.png)"
   ]
  },
  {
   "cell_type": "markdown",
   "metadata": {},
   "source": [
    "## References"
   ]
  },
  {
   "cell_type": "markdown",
   "metadata": {},
   "source": [
    "- https://docs.docker.com/get-started/\n",
    "- https://dev.to/aws-builders/understanding-the-dockerfile-format-3cc6\n",
    "- https://aws.plainenglish.io/the-ultimate-cheat-sheet-for-basic-docker-and-git-docker-compose-6e08e3f861da"
   ]
  }
 ],
 "metadata": {
  "kernelspec": {
   "display_name": "base",
   "language": "python",
   "name": "python3"
  },
  "language_info": {
   "name": "python",
   "version": "3.11.5"
  }
 },
 "nbformat": 4,
 "nbformat_minor": 2
}
