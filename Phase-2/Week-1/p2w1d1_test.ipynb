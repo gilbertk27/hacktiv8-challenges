{
 "cells": [
  {
   "cell_type": "markdown",
   "metadata": {},
   "source": [
    "## Import Library"
   ]
  },
  {
   "cell_type": "code",
   "execution_count": 5,
   "metadata": {},
   "outputs": [],
   "source": [
    "# import lib\n",
    "\n",
    "import pickle\n",
    "import pandas as pd\n",
    "import numpy as np\n",
    "from tensorflow.keras.models import load_model"
   ]
  },
  {
   "cell_type": "markdown",
   "metadata": {},
   "source": [
    "## Load Model"
   ]
  },
  {
   "cell_type": "code",
   "execution_count": null,
   "metadata": {},
   "outputs": [],
   "source": [
    "# load model\n",
    "\n",
    "with open('titanic_piepline.pkl', 'rb') as f:\n",
    "    model_pipeline = pickle.load(f)\n",
    "\n",
    "model_ann = load_model('titanic_model.h5')"
   ]
  },
  {
   "cell_type": "markdown",
   "metadata": {},
   "source": [
    "## Inferencing"
   ]
  },
  {
   "cell_type": "code",
   "execution_count": null,
   "metadata": {},
   "outputs": [],
   "source": [
    "# create new data\n",
    "data_inf = {\n",
    "    'PassangerId': 900,\n",
    "    'Pclass': 2,\n",
    "    'Name' : 'Kelly, Mr. James',\n",
    "    'Sex' : 'Male',\n",
    "    'SibSp' : 0,\n",
    "    'Parch' : 0,\n",
    "    'Ticket' : 'PC 330911',\n",
    "    'Fare' : 7.8292,\n",
    "    'Cabin' : 'A1',\n",
    "    'Embarked' : 'C',\n",
    "    'Age' : 34\n",
    "}\n",
    "\n",
    "data_inf = pd.DataFrame(data_inf)\n",
    "data_inf"
   ]
  },
  {
   "cell_type": "code",
   "execution_count": null,
   "metadata": {},
   "outputs": [],
   "source": [
    "# predict using ANN\n",
    "\n",
    "data_inf_transformed = model_pipeline.transform(data_inf)\n",
    "y_pred = model_ann.predict(data_inf_transformed)\n"
   ]
  }
 ],
 "metadata": {
  "kernelspec": {
   "display_name": "Python 3",
   "language": "python",
   "name": "python3"
  },
  "language_info": {
   "codemirror_mode": {
    "name": "ipython",
    "version": 3
   },
   "file_extension": ".py",
   "mimetype": "text/x-python",
   "name": "python",
   "nbconvert_exporter": "python",
   "pygments_lexer": "ipython3",
   "version": "3.9.13"
  }
 },
 "nbformat": 4,
 "nbformat_minor": 2
}
