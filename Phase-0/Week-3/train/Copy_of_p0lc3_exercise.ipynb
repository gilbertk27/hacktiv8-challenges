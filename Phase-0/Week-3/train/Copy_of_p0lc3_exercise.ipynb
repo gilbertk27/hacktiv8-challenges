{
  "cells": [
    {
      "attachments": {},
      "cell_type": "markdown",
      "metadata": {},
      "source": [
        "# LC 3 - \n",
        "- Nama : Gilbert Kurniawan Hariyanto\n",
        "- Batch : RMT-026\n",
        "- Program ini dibuat sebagai jobdesk Data Engineer untuk membantu divisi Finance dalam mengatur data transaksi mereka dan membuatkan database dengan PostgreSQL server"
      ]
    },
    {
      "cell_type": "markdown",
      "metadata": {
        "id": "A3oM9pFnN2wR"
      },
      "source": [
        "# P0 LC3 Exercise"
      ]
    },
    {
      "cell_type": "markdown",
      "metadata": {
        "id": "SGqE3FKON87V"
      },
      "source": [
        "- Bigquery project_id: **`bigquery-public-data`**\n",
        "- Dataset: **`austin_bikeshare`**\n",
        "- Tabel: **`bikeshare_trips`**\n",
        "- Hanya ambil kolom **`duration_minutes`** saja\n",
        "- Berikan LIMIT pada data yang diambil sebesar **3000** entry data"
      ]
    },
    {
      "cell_type": "markdown",
      "metadata": {
        "id": "Q2cRu8gycdLa"
      },
      "source": [
        "# Setup"
      ]
    },
    {
      "cell_type": "code",
      "execution_count": 7,
      "metadata": {
        "colab": {
          "base_uri": "https://localhost:8080/"
        },
        "id": "Rcf92H3KYtvY",
        "outputId": "625c1580-9c6a-48e0-96c7-700e16208157"
      },
      "outputs": [
        {
          "name": "stdout",
          "output_type": "stream",
          "text": [
            "Authenticated\n"
          ]
        }
      ],
      "source": [
        "from google.colab import auth\n",
        "from google.cloud import bigquery\n",
        "import scipy\n",
        "import statistics\n",
        "from scipy.stats import skew\n",
        "from scipy.stats import kurtosis\n",
        "\n",
        "import pandas as pd\n",
        "from scipy import stats\n",
        "import matplotlib.pyplot as plt\n",
        "import seaborn as sns\n",
        "from IPython.core.display import display, HTML\n",
        "\n",
        "auth.authenticate_user()\n",
        "print('Authenticated')\n",
        "\n",
        "project_id = \"ngc7-405813\" #GUNAKAN GCP PROJECT-ID KALIAN MASING-MASING\n",
        "client = bigquery.Client(project=project_id)"
      ]
    },
    {
      "cell_type": "markdown",
      "metadata": {
        "id": "4l2Qjp9mNuox"
      },
      "source": [
        "# Soal"
      ]
    },
    {
      "cell_type": "markdown",
      "metadata": {
        "id": "BZjCZetTZLyx"
      },
      "source": [
        "## Statistic Descriptive"
      ]
    },
    {
      "cell_type": "markdown",
      "metadata": {
        "id": "UK_u7ti_Oqea"
      },
      "source": [
        "1. Lakukan measurement central tendency (mean, median, dan modus).\n",
        "2. Cek skewness dan kurtosis.\n",
        "3. Cari outlier dari sebaran data.\n",
        "4. Berapa persentase outlier nya?\n",
        "5. Hapus data outlier, kemudian bandingkan data sebelum dan sesudah penghapusan"
      ]
    },
    {
      "cell_type": "markdown",
      "metadata": {
        "id": "ZkQ0sEbEcfap"
      },
      "source": [
        "## Sample Query"
      ]
    },
    {
      "cell_type": "code",
      "execution_count": 13,
      "metadata": {
        "colab": {
          "base_uri": "https://localhost:8080/",
          "height": 206
        },
        "id": "q_Yh4RFecjm2",
        "outputId": "c6e9f465-aa7c-4678-e6b7-d54a8214dc88"
      },
      "outputs": [
        {
          "data": {
            "text/html": [
              "\n",
              "  <div id=\"df-3b097dfc-ebfe-4920-bd17-16695b88ec64\" class=\"colab-df-container\">\n",
              "    <div>\n",
              "<style scoped>\n",
              "    .dataframe tbody tr th:only-of-type {\n",
              "        vertical-align: middle;\n",
              "    }\n",
              "\n",
              "    .dataframe tbody tr th {\n",
              "        vertical-align: top;\n",
              "    }\n",
              "\n",
              "    .dataframe thead th {\n",
              "        text-align: right;\n",
              "    }\n",
              "</style>\n",
              "<table border=\"1\" class=\"dataframe\">\n",
              "  <thead>\n",
              "    <tr style=\"text-align: right;\">\n",
              "      <th></th>\n",
              "      <th>duration_sec</th>\n",
              "    </tr>\n",
              "  </thead>\n",
              "  <tbody>\n",
              "    <tr>\n",
              "      <th>0</th>\n",
              "      <td>6079</td>\n",
              "    </tr>\n",
              "    <tr>\n",
              "      <th>1</th>\n",
              "      <td>5913</td>\n",
              "    </tr>\n",
              "    <tr>\n",
              "      <th>2</th>\n",
              "      <td>1055</td>\n",
              "    </tr>\n",
              "    <tr>\n",
              "      <th>3</th>\n",
              "      <td>272</td>\n",
              "    </tr>\n",
              "    <tr>\n",
              "      <th>4</th>\n",
              "      <td>318</td>\n",
              "    </tr>\n",
              "  </tbody>\n",
              "</table>\n",
              "</div>\n",
              "    <div class=\"colab-df-buttons\">\n",
              "\n",
              "  <div class=\"colab-df-container\">\n",
              "    <button class=\"colab-df-convert\" onclick=\"convertToInteractive('df-3b097dfc-ebfe-4920-bd17-16695b88ec64')\"\n",
              "            title=\"Convert this dataframe to an interactive table.\"\n",
              "            style=\"display:none;\">\n",
              "\n",
              "  <svg xmlns=\"http://www.w3.org/2000/svg\" height=\"24px\" viewBox=\"0 -960 960 960\">\n",
              "    <path d=\"M120-120v-720h720v720H120Zm60-500h600v-160H180v160Zm220 220h160v-160H400v160Zm0 220h160v-160H400v160ZM180-400h160v-160H180v160Zm440 0h160v-160H620v160ZM180-180h160v-160H180v160Zm440 0h160v-160H620v160Z\"/>\n",
              "  </svg>\n",
              "    </button>\n",
              "\n",
              "  <style>\n",
              "    .colab-df-container {\n",
              "      display:flex;\n",
              "      gap: 12px;\n",
              "    }\n",
              "\n",
              "    .colab-df-convert {\n",
              "      background-color: #E8F0FE;\n",
              "      border: none;\n",
              "      border-radius: 50%;\n",
              "      cursor: pointer;\n",
              "      display: none;\n",
              "      fill: #1967D2;\n",
              "      height: 32px;\n",
              "      padding: 0 0 0 0;\n",
              "      width: 32px;\n",
              "    }\n",
              "\n",
              "    .colab-df-convert:hover {\n",
              "      background-color: #E2EBFA;\n",
              "      box-shadow: 0px 1px 2px rgba(60, 64, 67, 0.3), 0px 1px 3px 1px rgba(60, 64, 67, 0.15);\n",
              "      fill: #174EA6;\n",
              "    }\n",
              "\n",
              "    .colab-df-buttons div {\n",
              "      margin-bottom: 4px;\n",
              "    }\n",
              "\n",
              "    [theme=dark] .colab-df-convert {\n",
              "      background-color: #3B4455;\n",
              "      fill: #D2E3FC;\n",
              "    }\n",
              "\n",
              "    [theme=dark] .colab-df-convert:hover {\n",
              "      background-color: #434B5C;\n",
              "      box-shadow: 0px 1px 3px 1px rgba(0, 0, 0, 0.15);\n",
              "      filter: drop-shadow(0px 1px 2px rgba(0, 0, 0, 0.3));\n",
              "      fill: #FFFFFF;\n",
              "    }\n",
              "  </style>\n",
              "\n",
              "    <script>\n",
              "      const buttonEl =\n",
              "        document.querySelector('#df-3b097dfc-ebfe-4920-bd17-16695b88ec64 button.colab-df-convert');\n",
              "      buttonEl.style.display =\n",
              "        google.colab.kernel.accessAllowed ? 'block' : 'none';\n",
              "\n",
              "      async function convertToInteractive(key) {\n",
              "        const element = document.querySelector('#df-3b097dfc-ebfe-4920-bd17-16695b88ec64');\n",
              "        const dataTable =\n",
              "          await google.colab.kernel.invokeFunction('convertToInteractive',\n",
              "                                                    [key], {});\n",
              "        if (!dataTable) return;\n",
              "\n",
              "        const docLinkHtml = 'Like what you see? Visit the ' +\n",
              "          '<a target=\"_blank\" href=https://colab.research.google.com/notebooks/data_table.ipynb>data table notebook</a>'\n",
              "          + ' to learn more about interactive tables.';\n",
              "        element.innerHTML = '';\n",
              "        dataTable['output_type'] = 'display_data';\n",
              "        await google.colab.output.renderOutput(dataTable, element);\n",
              "        const docLink = document.createElement('div');\n",
              "        docLink.innerHTML = docLinkHtml;\n",
              "        element.appendChild(docLink);\n",
              "      }\n",
              "    </script>\n",
              "  </div>\n",
              "\n",
              "\n",
              "<div id=\"df-d5b0dd7b-dc5a-4a62-bd24-fac93d465f2c\">\n",
              "  <button class=\"colab-df-quickchart\" onclick=\"quickchart('df-d5b0dd7b-dc5a-4a62-bd24-fac93d465f2c')\"\n",
              "            title=\"Suggest charts\"\n",
              "            style=\"display:none;\">\n",
              "\n",
              "<svg xmlns=\"http://www.w3.org/2000/svg\" height=\"24px\"viewBox=\"0 0 24 24\"\n",
              "     width=\"24px\">\n",
              "    <g>\n",
              "        <path d=\"M19 3H5c-1.1 0-2 .9-2 2v14c0 1.1.9 2 2 2h14c1.1 0 2-.9 2-2V5c0-1.1-.9-2-2-2zM9 17H7v-7h2v7zm4 0h-2V7h2v10zm4 0h-2v-4h2v4z\"/>\n",
              "    </g>\n",
              "</svg>\n",
              "  </button>\n",
              "\n",
              "<style>\n",
              "  .colab-df-quickchart {\n",
              "      --bg-color: #E8F0FE;\n",
              "      --fill-color: #1967D2;\n",
              "      --hover-bg-color: #E2EBFA;\n",
              "      --hover-fill-color: #174EA6;\n",
              "      --disabled-fill-color: #AAA;\n",
              "      --disabled-bg-color: #DDD;\n",
              "  }\n",
              "\n",
              "  [theme=dark] .colab-df-quickchart {\n",
              "      --bg-color: #3B4455;\n",
              "      --fill-color: #D2E3FC;\n",
              "      --hover-bg-color: #434B5C;\n",
              "      --hover-fill-color: #FFFFFF;\n",
              "      --disabled-bg-color: #3B4455;\n",
              "      --disabled-fill-color: #666;\n",
              "  }\n",
              "\n",
              "  .colab-df-quickchart {\n",
              "    background-color: var(--bg-color);\n",
              "    border: none;\n",
              "    border-radius: 50%;\n",
              "    cursor: pointer;\n",
              "    display: none;\n",
              "    fill: var(--fill-color);\n",
              "    height: 32px;\n",
              "    padding: 0;\n",
              "    width: 32px;\n",
              "  }\n",
              "\n",
              "  .colab-df-quickchart:hover {\n",
              "    background-color: var(--hover-bg-color);\n",
              "    box-shadow: 0 1px 2px rgba(60, 64, 67, 0.3), 0 1px 3px 1px rgba(60, 64, 67, 0.15);\n",
              "    fill: var(--button-hover-fill-color);\n",
              "  }\n",
              "\n",
              "  .colab-df-quickchart-complete:disabled,\n",
              "  .colab-df-quickchart-complete:disabled:hover {\n",
              "    background-color: var(--disabled-bg-color);\n",
              "    fill: var(--disabled-fill-color);\n",
              "    box-shadow: none;\n",
              "  }\n",
              "\n",
              "  .colab-df-spinner {\n",
              "    border: 2px solid var(--fill-color);\n",
              "    border-color: transparent;\n",
              "    border-bottom-color: var(--fill-color);\n",
              "    animation:\n",
              "      spin 1s steps(1) infinite;\n",
              "  }\n",
              "\n",
              "  @keyframes spin {\n",
              "    0% {\n",
              "      border-color: transparent;\n",
              "      border-bottom-color: var(--fill-color);\n",
              "      border-left-color: var(--fill-color);\n",
              "    }\n",
              "    20% {\n",
              "      border-color: transparent;\n",
              "      border-left-color: var(--fill-color);\n",
              "      border-top-color: var(--fill-color);\n",
              "    }\n",
              "    30% {\n",
              "      border-color: transparent;\n",
              "      border-left-color: var(--fill-color);\n",
              "      border-top-color: var(--fill-color);\n",
              "      border-right-color: var(--fill-color);\n",
              "    }\n",
              "    40% {\n",
              "      border-color: transparent;\n",
              "      border-right-color: var(--fill-color);\n",
              "      border-top-color: var(--fill-color);\n",
              "    }\n",
              "    60% {\n",
              "      border-color: transparent;\n",
              "      border-right-color: var(--fill-color);\n",
              "    }\n",
              "    80% {\n",
              "      border-color: transparent;\n",
              "      border-right-color: var(--fill-color);\n",
              "      border-bottom-color: var(--fill-color);\n",
              "    }\n",
              "    90% {\n",
              "      border-color: transparent;\n",
              "      border-bottom-color: var(--fill-color);\n",
              "    }\n",
              "  }\n",
              "</style>\n",
              "\n",
              "  <script>\n",
              "    async function quickchart(key) {\n",
              "      const quickchartButtonEl =\n",
              "        document.querySelector('#' + key + ' button');\n",
              "      quickchartButtonEl.disabled = true;  // To prevent multiple clicks.\n",
              "      quickchartButtonEl.classList.add('colab-df-spinner');\n",
              "      try {\n",
              "        const charts = await google.colab.kernel.invokeFunction(\n",
              "            'suggestCharts', [key], {});\n",
              "      } catch (error) {\n",
              "        console.error('Error during call to suggestCharts:', error);\n",
              "      }\n",
              "      quickchartButtonEl.classList.remove('colab-df-spinner');\n",
              "      quickchartButtonEl.classList.add('colab-df-quickchart-complete');\n",
              "    }\n",
              "    (() => {\n",
              "      let quickchartButtonEl =\n",
              "        document.querySelector('#df-d5b0dd7b-dc5a-4a62-bd24-fac93d465f2c button');\n",
              "      quickchartButtonEl.style.display =\n",
              "        google.colab.kernel.accessAllowed ? 'block' : 'none';\n",
              "    })();\n",
              "  </script>\n",
              "</div>\n",
              "    </div>\n",
              "  </div>\n"
            ],
            "text/plain": [
              "   duration_sec\n",
              "0          6079\n",
              "1          5913\n",
              "2          1055\n",
              "3           272\n",
              "4           318"
            ]
          },
          "execution_count": 13,
          "metadata": {},
          "output_type": "execute_result"
        }
      ],
      "source": [
        "df = client.query('''\n",
        "SELECT duration_sec\n",
        "FROM `bigquery-public-data.san_francisco_bikeshare.bikeshare_trips`\n",
        "LIMIT 3000\n",
        "''').to_dataframe()\n",
        "\n",
        "df.head()\n",
        "\n",
        "# - Project_id: `bigquery-public-data`\n",
        "# - Dataset: `san_francisco_bikeshare`\n",
        "# - Table: `bikeshare_trips`\n",
        "# - Ambil hanya kolom `duration_sec` saja\n",
        "# - Berikan LIMIT pada data yang diambil sebesar 3000 entry data"
      ]
    },
    {
      "cell_type": "markdown",
      "metadata": {
        "id": "U9dotH94bsSL"
      },
      "source": [
        "# Statistic Descriptive"
      ]
    },
    {
      "cell_type": "markdown",
      "metadata": {
        "id": "lUS-7zlScE-7"
      },
      "source": [
        "## 1. Lakukan measurement central tendency (mean, median, dan modus)."
      ]
    },
    {
      "cell_type": "code",
      "execution_count": 14,
      "metadata": {
        "colab": {
          "base_uri": "https://localhost:8080/"
        },
        "id": "0WG-wIfacQXF",
        "outputId": "ae525c74-50ef-4d8a-ccd8-c83c96ebd2e9"
      },
      "outputs": [
        {
          "name": "stdout",
          "output_type": "stream",
          "text": [
            "mean:  872.6733333333333\n",
            "median:  523.0\n",
            "mode:  194\n"
          ]
        }
      ],
      "source": [
        "# code here\n",
        "mean = df['duration_sec'].mean()\n",
        "median = df['duration_sec'].median()\n",
        "mode = df['duration_sec'].mode().values[0]\n",
        "\n",
        "print(\"mean: \",mean)\n",
        "print(\"median: \",median)\n",
        "print(\"mode: \",mode)"
      ]
    },
    {
      "cell_type": "markdown",
      "metadata": {
        "id": "G8ytx1gahb8R"
      },
      "source": [
        "insight: Dari hasil measurement cetral tendency diatas, diketahui:\n",
        "\n",
        "\n",
        "*   Mean = 872.6733333333333\n",
        "* Median =  523.0\n",
        "* Mode =  194\n"
      ]
    },
    {
      "cell_type": "markdown",
      "metadata": {
        "id": "O67Py3i6cJMu"
      },
      "source": [
        "## 2. Cek skewness dan kurtosis."
      ]
    },
    {
      "cell_type": "code",
      "execution_count": 5,
      "metadata": {
        "colab": {
          "base_uri": "https://localhost:8080/"
        },
        "id": "GExtJrWucRpE",
        "outputId": "af8a1f94-a6c9-4c93-f758-b9e70debb2bb"
      },
      "outputs": [
        {
          "name": "stdout",
          "output_type": "stream",
          "text": [
            "Skewness: 15.65049585570272\n",
            "Kurtosis: 302.2266033186931\n"
          ]
        }
      ],
      "source": [
        "# code here\n",
        "\n",
        "print(f\"Skewness: {df['duration_sec'].skew()}\")\n",
        "print(f\"Kurtosis: {df['duration_sec'].kurtosis()}\")\n"
      ]
    },
    {
      "cell_type": "markdown",
      "metadata": {
        "id": "NlIIrL71Cnsj"
      },
      "source": [
        "insight: Dari hasil skewness dan kurtosis diatas, diketahui:\n",
        "\n",
        "* Skewness: 15.65049585570272\n",
        "* Kurtosis: 302.266033186931"
      ]
    },
    {
      "cell_type": "markdown",
      "metadata": {
        "id": "qU10hETycK7I"
      },
      "source": [
        "## 3. Cari outlier dari sebaran data."
      ]
    },
    {
      "cell_type": "code",
      "execution_count": 8,
      "metadata": {
        "colab": {
          "base_uri": "https://localhost:8080/",
          "height": 385
        },
        "id": "K86H--iCcVEY",
        "outputId": "3dd600ff-8204-4322-cee4-c66bf3a647c0"
      },
      "outputs": [
        {
          "data": {
            "text/plain": [
              "<Axes: >"
            ]
          },
          "execution_count": 8,
          "metadata": {},
          "output_type": "execute_result"
        },
        {
          "data": {
            "image/png": "[encoded data removed]",
            "text/plain": [
              "<Figure size 1000x400 with 2 Axes>"
            ]
          },
          "metadata": {},
          "output_type": "display_data"
        }
      ],
      "source": [
        "# code here\n",
        "# z-score / turkey rule?\n",
        "\n",
        "fig, ax = plt.subplots(ncols=2,figsize=(10,4))\n",
        "\n",
        "df['duration_sec'].plot(kind='hist',bins=20,ax=ax[0])\n",
        "df['duration_sec'].plot(kind='box',ax=ax[1])\n"
      ]
    },
    {
      "cell_type": "code",
      "execution_count": 9,
      "metadata": {
        "colab": {
          "base_uri": "https://localhost:8080/"
        },
        "id": "G_MIcOJrC4NY",
        "outputId": "69516f6d-8d41-462e-aa83-e191a033e821"
      },
      "outputs": [
        {
          "name": "stdout",
          "output_type": "stream",
          "text": [
            "Upper Boundary: 1685.50\n",
            "Lower Boundary: -526.50\n"
          ]
        }
      ],
      "source": [
        "# Z-SCORE: Used for normal distribution (skewness < |±0.5|)\n",
        "# TURKEY RULE: Used for skewed distribution (skewness > |±0.5|)\n",
        "\n",
        "# LEBIH DARI 0.5 - > TURKEY RULE\n",
        "\n",
        "q1 = df['duration_sec'].quantile(0.25)\n",
        "q3 = df['duration_sec'].quantile(0.75)\n",
        "iqr = q3-q1\n",
        "\n",
        "up_bound = q3 + 1.5*iqr\n",
        "low_bound = q1 - 1.5*iqr\n",
        "\n",
        "print(f'Upper Boundary: {up_bound:.2f}' )\n",
        "print(f'Lower Boundary: {low_bound:.2f}')"
      ]
    },
    {
      "cell_type": "markdown",
      "metadata": {
        "id": "UK1A_3qMFiER"
      },
      "source": [
        "insight: Dari hasil koding diatas, diketahui:\n",
        "\n",
        "* Didapati persebaran data yang membentuk skewed distribution dan banyak terdapat outlier bila dilihat dari histogram dan box plot\n",
        "* Pengecekan skewed yang lebih dari 0.5 - > dikonfirmasi untuk mengecek batas atas dan bawah dan melihat data outlier yang melebihi batas tersebut"
      ]
    },
    {
      "cell_type": "markdown",
      "metadata": {
        "id": "mZnvxgF5cMNs"
      },
      "source": [
        "## 4. Berapa persentase outlier nya?"
      ]
    },
    {
      "cell_type": "code",
      "execution_count": 11,
      "metadata": {
        "colab": {
          "base_uri": "https://localhost:8080/"
        },
        "id": "lVD4yt-NcWMf",
        "outputId": "79dd4ab1-e128-496b-beb3-33368600f84c"
      },
      "outputs": [
        {
          "name": "stdout",
          "output_type": "stream",
          "text": [
            "Percentage of outliers: 6.00%\n"
          ]
        }
      ],
      "source": [
        "# code here\n",
        "outlier = df['duration_sec'][(df['duration_sec']<low_bound) | (df['duration_sec']>up_bound)]\n",
        "no_outlier = df['duration_sec'][(df['duration_sec']>=low_bound) & (df['duration_sec']<=up_bound)]\n",
        "\n",
        "print(f'Percentage of outliers: {len(outlier)*100/len(df[\"duration_sec\"]):.2f}%')\n"
      ]
    },
    {
      "cell_type": "markdown",
      "metadata": {
        "id": "LC8M4xh0G7HA"
      },
      "source": [
        "Insight: dari pengecekan presentase diatas, didapati data yang kita gunakan memiliki outlier sebesar 6%."
      ]
    },
    {
      "cell_type": "markdown",
      "metadata": {
        "id": "dSPj2BhLcOFN"
      },
      "source": [
        "## 5. Hapus data outlier, kemudian bandingkan data sebelum dan sesudah penghapusan"
      ]
    },
    {
      "cell_type": "code",
      "execution_count": 19,
      "metadata": {
        "colab": {
          "base_uri": "https://localhost:8080/"
        },
        "id": "uSTaiN43cXVI",
        "outputId": "62784df2-85fb-46a1-dec6-9ee47c4604ec"
      },
      "outputs": [
        {
          "name": "stdout",
          "output_type": "stream",
          "text": [
            "mean_before:  872.6733333333333\n",
            "median_before:  523.0\n",
            "mode_before:  194\n",
            "skewedness_before:  15.65049585570272\n",
            "mean_after:  577.8663120567376\n",
            "median_after:  496.0\n",
            "mode_after:  194\n",
            "skewedness_after:  0.9475825319611878\n"
          ]
        }
      ],
      "source": [
        "# perbandingan mean median modus\n",
        "mean_after = no_outlier.mean()\n",
        "median_after = no_outlier.median()\n",
        "mode_after = no_outlier.mode().values[0]\n",
        "\n",
        "print(\"mean_before: \",mean)\n",
        "print(\"median_before: \",median)\n",
        "print(\"mode_before: \",mode)\n",
        "print(\"skewedness_before: \", df['duration_sec'].skew())\n",
        "\n",
        "print(\"mean_after: \",mean_after)\n",
        "print(\"median_after: \",median_after)\n",
        "print(\"mode_after: \",mode_after)\n",
        "print(\"skewedness_after: \", no_outlier.skew())\n",
        "\n"
      ]
    },
    {
      "cell_type": "code",
      "execution_count": 18,
      "metadata": {
        "colab": {
          "base_uri": "https://localhost:8080/",
          "height": 385
        },
        "id": "3yk3HpICH9un",
        "outputId": "9398913b-b783-411e-8bcc-4ec7ea5fa767"
      },
      "outputs": [
        {
          "data": {
            "text/plain": [
              "<Axes: >"
            ]
          },
          "execution_count": 18,
          "metadata": {},
          "output_type": "execute_result"
        },
        {
          "data": {
            "image/png": "[encoded data removed]",
            "text/plain": [
              "<Figure size 1000x400 with 2 Axes>"
            ]
          },
          "metadata": {},
          "output_type": "display_data"
        }
      ],
      "source": [
        "fig, ax = plt.subplots(ncols=2,figsize=(10,4))\n",
        "\n",
        "no_outlier.plot(kind='hist',bins=20,ax=ax[0])\n",
        "no_outlier.plot(kind='box',ax=ax[1])"
      ]
    },
    {
      "cell_type": "markdown",
      "metadata": {
        "id": "UYGqSjdxILJg"
      },
      "source": [
        "Insight: dari hasil pembersihan dan analisis diatas, dapat dilihat:\n",
        "* Perubahan pada mean, median, dan skewedness yang cukup signifikan\n",
        "* Persebaran data yang berubah dilihat dari grafik histogram dan boxplot diatas"
      ]
    },
    {
      "cell_type": "code",
      "execution_count": 22,
      "metadata": {
        "id": "ofjTIGb-I4-_"
      },
      "outputs": [],
      "source": [
        "no_outlier.to_csv(\"result.csv\", index = False)"
      ]
    },
    {
      "cell_type": "markdown",
      "metadata": {
        "id": "mah7gp77byaI"
      },
      "source": [
        "# API"
      ]
    },
    {
      "attachments": {},
      "cell_type": "markdown",
      "metadata": {},
      "source": [
        "1. Buat URL untuk **menampilkan** seluruh data sesudah penghapusan outlier\n",
        "2. Buat URL untuk **menambahkan** data\n",
        "\n",
        "clue:\n",
        "- Load data csv yang sudah diolah dengan pandas, kemudian konversi data ke dictionary `df.to_dict()` atau json `df.to_json()` untuk dapat diolah lebih lanjut dengan API menggunakan FastAPI.\n",
        "- Pembuatan API dilakukan pada script `.py`\n",
        "- Endpoint dan penamaan function pada API dibebaskan."
      ]
    },
    {
      "cell_type": "code",
      "execution_count": null,
      "metadata": {
        "id": "5gsp-QAucS_j"
      },
      "outputs": [],
      "source": [
        "# buat API di file .py"
      ]
    },
    {
      "cell_type": "code",
      "execution_count": null,
      "metadata": {
        "id": "RkJwFjjsih2R"
      },
      "outputs": [],
      "source": []
    }
  ],
  "metadata": {
    "colab": {
      "provenance": []
    },
    "kernelspec": {
      "display_name": "Python 3",
      "name": "python3"
    },
    "language_info": {
      "name": "python"
    }
  },
  "nbformat": 4,
  "nbformat_minor": 0
}
