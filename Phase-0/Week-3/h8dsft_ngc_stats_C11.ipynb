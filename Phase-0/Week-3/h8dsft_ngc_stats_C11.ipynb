{
 "cells": [
  {
   "attachments": {},
   "cell_type": "markdown",
   "metadata": {},
   "source": [
    "# Task 1 \n",
    "\n",
    "The \"Top 10000 Spotify Songs - ARIA and Billboard Charts\" is a comprehensive collection of 10,000 of the most popular songs that have dominated the music scene from 1960 to the present day.\n",
    "\n",
    "You can get the Data [here](https://raw.githubusercontent.com/DianCA26/Dataset/main/top_10000_1960-now.csv).\n",
    "\n",
    "1. Get the Measures of the Central Tendency and Measures of Variation from data `Top 10000 Spotify Songs`. \n",
    "\n",
    "2. Measure the popularity based on the year. \n",
    "\n",
    "3. Comment on the results.\n"
   ]
  },
  {
   "cell_type": "code",
   "execution_count": null,
   "metadata": {},
   "outputs": [],
   "source": []
  },
  {
   "attachments": {},
   "cell_type": "markdown",
   "metadata": {},
   "source": [
    "# Task 2 \n",
    "\n",
    "1. Conduct the hypothesis testing from data “Top 10000 Spotify Songs” to check whether the Popularity of Britney Spears and Taylor Swift is statistically different by using a `0.05` significance level to evaluate the null and alternative hypotheses. \n",
    "\n",
    "2. Before doing hypothesis testing, check the related assumptions. \n",
    "\n",
    "3. Comment on the results.\n",
    "\n"
   ]
  },
  {
   "cell_type": "code",
   "execution_count": null,
   "metadata": {},
   "outputs": [],
   "source": []
  }
 ],
 "metadata": {
  "language_info": {
   "name": "python"
  },
  "orig_nbformat": 4
 },
 "nbformat": 4,
 "nbformat_minor": 2
}
