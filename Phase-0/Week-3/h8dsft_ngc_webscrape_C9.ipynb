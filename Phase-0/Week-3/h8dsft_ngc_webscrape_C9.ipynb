{
 "cells": [
  {
   "attachments": {},
   "cell_type": "markdown",
   "metadata": {},
   "source": [
    "# Task 1 \n",
    "\n",
    "Scrape coins price from https://coinmarketcap.com/ with following requirements:\n",
    "1. Scrape up to 1000 coins\n",
    "2. Including Price, Market Cap, Volume, and Coin supply\n",
    "3. Save into Pandas DataFrame and then save into excel or csv file\n"
   ]
  },
  {
   "cell_type": "code",
   "execution_count": null,
   "metadata": {},
   "outputs": [],
   "source": []
  },
  {
   "attachments": {},
   "cell_type": "markdown",
   "metadata": {},
   "source": [
    "# Task 2 \n",
    "\n",
    "1. Get weather data from 54 locations in Indonesia from https://www.timeanddate.com/weather/indonesia. You should include the information of:\n",
    "    - Temperature\n",
    "    - Feels Like\n",
    "    - Wind Speed\n",
    "    - Wind Direction\n",
    "    - Humidity\n",
    "    - Dew Point\n",
    "    - Visibility\n",
    "    - Probability of Rain\n",
    "    - Amount of Rain\n",
    "2. Only take the closest day and time (morning/evening) from the time you do this task\n",
    "3. Save into Pandas DataFrame and then save into excel or csv file"
   ]
  },
  {
   "cell_type": "code",
   "execution_count": null,
   "metadata": {},
   "outputs": [],
   "source": []
  }
 ],
 "metadata": {
  "language_info": {
   "name": "python"
  },
  "orig_nbformat": 4
 },
 "nbformat": 4,
 "nbformat_minor": 2
}
