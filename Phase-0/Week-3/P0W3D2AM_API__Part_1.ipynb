{
  "cells": [
    {
      "cell_type": "markdown",
      "metadata": {
        "id": "_sYB7fYd3KT5"
      },
      "source": [
        "# Fetching Data"
      ]
    },
    {
      "cell_type": "markdown",
      "metadata": {
        "id": "9vfqh3dw-Fq9"
      },
      "source": [
        "## Using `requests`"
      ]
    },
    {
      "cell_type": "markdown",
      "metadata": {
        "id": "KhUsETxwVi1W"
      },
      "source": [
        "`requests` used for making HTTP requests to interact with APIs and web services. It provides a simple and user-friendly interface for sending various types of HTTP requests, such as GET, POST, PUT, DELETE, etc., and handling responses. The `requests` library is widely used for web scraping, API integration, and making HTTP calls in general.\n",
        "\n",
        "Next, we will send HTTP requests, specifically `GET` to access an API that stores weather and earthquake data in Indonesia."
      ]
    },
    {
      "cell_type": "code",
      "execution_count": 1,
      "metadata": {
        "id": "R-WhXtCowg6S"
      },
      "outputs": [],
      "source": [
        "import requests"
      ]
    },
    {
      "cell_type": "markdown",
      "metadata": {
        "id": "bgZCj2zeWJiX"
      },
      "source": [
        "To access the API, we just call the `.get` method and input the API's url. The output will be an information of request status. If we successfully access the API, it will give a 200 response."
      ]
    },
    {
      "cell_type": "code",
      "execution_count": 2,
      "metadata": {
        "colab": {
          "base_uri": "https://localhost:8080/"
        },
        "id": "fqo_65Dn69YF",
        "outputId": "90f35bd4-ce81-4f9c-9bea-b7bc0e3da6f1"
      },
      "outputs": [
        {
          "data": {
            "text/plain": [
              "<Response [200]>"
            ]
          },
          "execution_count": 2,
          "metadata": {},
          "output_type": "execute_result"
        }
      ],
      "source": [
        "response = requests.get(\"https://cuaca-gempa-rest-api.vercel.app\")\n",
        "response"
      ]
    },
    {
      "cell_type": "markdown",
      "metadata": {
        "id": "77-G9fAnWby2"
      },
      "source": [
        "We can specifically access the response status code by `.status_code` attribute."
      ]
    },
    {
      "cell_type": "code",
      "execution_count": 3,
      "metadata": {
        "colab": {
          "base_uri": "https://localhost:8080/"
        },
        "id": "Ry8Opa9jFMR5",
        "outputId": "3f5e3843-0383-4696-8c41-eedeb64416cc"
      },
      "outputs": [
        {
          "data": {
            "text/plain": [
              "['__attrs__',\n",
              " '__bool__',\n",
              " '__class__',\n",
              " '__delattr__',\n",
              " '__dict__',\n",
              " '__dir__',\n",
              " '__doc__',\n",
              " '__enter__',\n",
              " '__eq__',\n",
              " '__exit__',\n",
              " '__format__',\n",
              " '__ge__',\n",
              " '__getattribute__',\n",
              " '__getstate__',\n",
              " '__gt__',\n",
              " '__hash__',\n",
              " '__init__',\n",
              " '__init_subclass__',\n",
              " '__iter__',\n",
              " '__le__',\n",
              " '__lt__',\n",
              " '__module__',\n",
              " '__ne__',\n",
              " '__new__',\n",
              " '__nonzero__',\n",
              " '__reduce__',\n",
              " '__reduce_ex__',\n",
              " '__repr__',\n",
              " '__setattr__',\n",
              " '__setstate__',\n",
              " '__sizeof__',\n",
              " '__str__',\n",
              " '__subclasshook__',\n",
              " '__weakref__',\n",
              " '_content',\n",
              " '_content_consumed',\n",
              " '_next',\n",
              " 'apparent_encoding',\n",
              " 'close',\n",
              " 'connection',\n",
              " 'content',\n",
              " 'cookies',\n",
              " 'elapsed',\n",
              " 'encoding',\n",
              " 'headers',\n",
              " 'history',\n",
              " 'is_permanent_redirect',\n",
              " 'is_redirect',\n",
              " 'iter_content',\n",
              " 'iter_lines',\n",
              " 'json',\n",
              " 'links',\n",
              " 'next',\n",
              " 'ok',\n",
              " 'raise_for_status',\n",
              " 'raw',\n",
              " 'reason',\n",
              " 'request',\n",
              " 'status_code',\n",
              " 'text',\n",
              " 'url']"
            ]
          },
          "execution_count": 3,
          "metadata": {},
          "output_type": "execute_result"
        }
      ],
      "source": [
        "dir(response)"
      ]
    },
    {
      "cell_type": "code",
      "execution_count": null,
      "metadata": {
        "colab": {
          "base_uri": "https://localhost:8080/"
        },
        "id": "hcp5QOrq-Rm5",
        "outputId": "5b13dd0a-81dd-4de3-ecec-aef2e542a503"
      },
      "outputs": [
        {
          "data": {
            "text/plain": [
              "200"
            ]
          },
          "execution_count": 4,
          "metadata": {},
          "output_type": "execute_result"
        }
      ],
      "source": [
        "response.status_code"
      ]
    },
    {
      "cell_type": "markdown",
      "metadata": {
        "id": "NvQZEyPZWjOH"
      },
      "source": [
        "All data or information that stored in API, will be in `json` format. So, by default, we can extract the json from the API using `.json()` method."
      ]
    },
    {
      "cell_type": "code",
      "execution_count": 4,
      "metadata": {
        "colab": {
          "base_uri": "https://localhost:8080/"
        },
        "id": "4K5TVULZ7GjS",
        "outputId": "f6e30601-f419-4362-bf88-b3638fe58c16"
      },
      "outputs": [
        {
          "data": {
            "text/plain": [
              "{'maintainer': 'Renova Muhamad Reza',\n",
              " 'source': 'https://github.com/renomureza/cuaca-gempa-rest-api',\n",
              " 'endpoint': {'quake': 'https://cuaca-gempa-rest-api.vercel.app/quake',\n",
              "  'weather': {'province': {'example': 'https://cuaca-gempa-rest-api.vercel.app/weather/jawa-barat'},\n",
              "   'city': {'example': 'https://cuaca-gempa-rest-api.vercel.app/weather/jawa-barat/bandung'}}}}"
            ]
          },
          "execution_count": 4,
          "metadata": {},
          "output_type": "execute_result"
        }
      ],
      "source": [
        "response.json()"
      ]
    },
    {
      "cell_type": "markdown",
      "metadata": {
        "id": "v8cQvlBtW5Jx"
      },
      "source": [
        "Another example. We access the latest earthquake event:"
      ]
    },
    {
      "cell_type": "code",
      "execution_count": 8,
      "metadata": {
        "colab": {
          "base_uri": "https://localhost:8080/"
        },
        "id": "xZAVI6DXE4f9",
        "outputId": "31d60812-34a2-42eb-c555-cc199d0883de"
      },
      "outputs": [
        {
          "name": "stdout",
          "output_type": "stream",
          "text": [
            "200\n"
          ]
        },
        {
          "data": {
            "text/plain": [
              "{'success': True,\n",
              " 'message': None,\n",
              " 'data': {'tanggal': '27 Nov 2023',\n",
              "  'jam': '15:19:01 WIB',\n",
              "  'datetime': '2023-11-27T08:19:01+00:00',\n",
              "  'coordinates': '-8.86,112.81',\n",
              "  'lintang': '8.86 LS',\n",
              "  'bujur': '112.81 BT',\n",
              "  'magnitude': '4.7',\n",
              "  'kedalaman': '109 km',\n",
              "  'wilayah': 'Pusat gempa berada di laut 84 km Tenggara Kab. Malang',\n",
              "  'potensi': 'Gempa ini dirasakan untuk diteruskan pada masyarakat',\n",
              "  'dirasakan': 'II Trenggalek, II Gunung Kidul, II Karangkates, II Jember, II Banyuwangi, II Blitar',\n",
              "  'shakemap': 'https://data.bmkg.go.id/DataMKG/TEWS/20231127151901.mmi.jpg'}}"
            ]
          },
          "execution_count": 8,
          "metadata": {},
          "output_type": "execute_result"
        }
      ],
      "source": [
        "url = 'https://cuaca-gempa-rest-api.vercel.app/quake'\n",
        "response = requests.get(url)\n",
        "\n",
        "print(response.status_code)\n",
        "json = response.json()\n",
        "json"
      ]
    },
    {
      "cell_type": "code",
      "execution_count": 9,
      "metadata": {},
      "outputs": [
        {
          "data": {
            "text/plain": [
              "dict_keys(['success', 'message', 'data'])"
            ]
          },
          "execution_count": 9,
          "metadata": {},
          "output_type": "execute_result"
        }
      ],
      "source": [
        "json.keys()"
      ]
    },
    {
      "cell_type": "markdown",
      "metadata": {
        "id": "wt_LsObjXAkg"
      },
      "source": [
        "We can interact with data in the API by set the input parameter. The input parameters will be unique for each API and you only know by the documentation.\n",
        "\n",
        "Example below, we want to know the currency rate of USD to IDR."
      ]
    },
    {
      "cell_type": "code",
      "execution_count": 10,
      "metadata": {
        "colab": {
          "base_uri": "https://localhost:8080/"
        },
        "id": "x7OMRseLELip",
        "outputId": "15ec1baf-44e5-4587-f0c9-b2fddebfcf73"
      },
      "outputs": [
        {
          "name": "stdout",
          "output_type": "stream",
          "text": [
            "{'success': False, 'error': {'code': 101, 'type': 'missing_access_key', 'info': 'You have not supplied an API Access Key. [Required format: access_key=YOUR_ACCESS_KEY]'}}\n"
          ]
        }
      ],
      "source": [
        "url = 'https://api.exchangerate.host/convert?from=USD&to=IDR'\n",
        "response = requests.get(url)\n",
        "data = response.json()\n",
        "\n",
        "print(data)"
      ]
    },
    {
      "cell_type": "code",
      "execution_count": 11,
      "metadata": {
        "colab": {
          "base_uri": "https://localhost:8080/"
        },
        "id": "_fR3JkEXulSe",
        "outputId": "a25cf0ec-1d5d-4829-8e96-da467633c23f"
      },
      "outputs": [
        {
          "name": "stdout",
          "output_type": "stream",
          "text": [
            "{'error': {'code': 101,\n",
            "           'info': 'You have not supplied an API Access Key. [Required format: '\n",
            "                   'access_key=YOUR_ACCESS_KEY]',\n",
            "           'type': 'missing_access_key'},\n",
            " 'success': False}\n"
          ]
        }
      ],
      "source": [
        "# [UPDATE] To display the results vertically rather than horizontally\n",
        "\n",
        "from pprint import pprint\n",
        "pprint(data)"
      ]
    },
    {
      "cell_type": "markdown",
      "metadata": {
        "id": "fMb6jC1z-Ivx"
      },
      "source": [
        "## Read Data from API with Pandas\n",
        "\n",
        "Pandas is a powerful library to read and manipulation data. Pandas can read json that stored in API (online) or a json file, and then stored to a Data Frame."
      ]
    },
    {
      "cell_type": "code",
      "execution_count": 12,
      "metadata": {
        "colab": {
          "base_uri": "https://localhost:8080/"
        },
        "id": "4mGtWV5EFIs7",
        "outputId": "3b4ef05d-a9a4-492e-d650-4423c964a413"
      },
      "outputs": [
        {
          "name": "stderr",
          "output_type": "stream",
          "text": [
            "C:\\Users\\Gilbert KH\\AppData\\Roaming\\Python\\Python38\\site-packages\\pandas\\core\\computation\\expressions.py:20: UserWarning: Pandas requires version '2.7.3' or newer of 'numexpr' (version '2.7.1' currently installed).\n",
            "  from pandas.core.computation.check import NUMEXPR_INSTALLED\n"
          ]
        },
        {
          "name": "stdout",
          "output_type": "stream",
          "text": [
            "200\n"
          ]
        }
      ],
      "source": [
        "import pandas as pd\n",
        "import json\n",
        "\n",
        "url = 'https://data.jabarprov.go.id/api-backend/bigdata/diskanlut/od_15086_angka_konsumsi_ikan_berdasarkan_tahun'\n",
        "response = requests.get(url)\n",
        "\n",
        "print(response.status_code)\n",
        "json = response.json()"
      ]
    },
    {
      "cell_type": "markdown",
      "metadata": {
        "id": "KL2JJgkwXpLc"
      },
      "source": [
        "As you know that json is the same as Python dictionary so we can access the keys and the values. For example, we access the keys to give us an overview about the data location."
      ]
    },
    {
      "cell_type": "code",
      "execution_count": 13,
      "metadata": {
        "colab": {
          "base_uri": "https://localhost:8080/"
        },
        "id": "3-aQnEnYMq9y",
        "outputId": "a0f3a04f-5e3a-4e60-cb89-aaabd2f59106"
      },
      "outputs": [
        {
          "data": {
            "text/plain": [
              "dict_keys(['message', 'error', 'data', 'metadata', 'meta', 'metadata_filter'])"
            ]
          },
          "execution_count": 13,
          "metadata": {},
          "output_type": "execute_result"
        }
      ],
      "source": [
        "json.keys()"
      ]
    },
    {
      "cell_type": "markdown",
      "metadata": {
        "id": "G3muKo_3X40w"
      },
      "source": [
        "It seems that the data are stored in `data` key. To make sure our assumption, we need to transform the json into data frame using `pd.json_normalize` or `pd.read_json`"
      ]
    },
    {
      "cell_type": "code",
      "execution_count": 14,
      "metadata": {
        "colab": {
          "base_uri": "https://localhost:8080/"
        },
        "id": "EnIG5QqEQU8-",
        "outputId": "b11e6bdc-ca82-4eb8-b981-27875487ca6e"
      },
      "outputs": [
        {
          "data": {
            "text/plain": [
              "[{'id': 1,\n",
              "  'kode_provinsi': 32,\n",
              "  'nama_provinsi': 'JAWA BARAT',\n",
              "  'target_konsumsi_ikan': 23.89,\n",
              "  'realisasi_konsumsi_ikan': 24.57,\n",
              "  'satuan': 'KILOGRAM PER KAPITA PER TAHUN',\n",
              "  'tahun': 2014},\n",
              " {'id': 2,\n",
              "  'kode_provinsi': 32,\n",
              "  'nama_provinsi': 'JAWA BARAT',\n",
              "  'target_konsumsi_ikan': 25.41,\n",
              "  'realisasi_konsumsi_ikan': 25.88,\n",
              "  'satuan': 'KILOGRAM PER KAPITA PER TAHUN',\n",
              "  'tahun': 2015},\n",
              " {'id': 3,\n",
              "  'kode_provinsi': 32,\n",
              "  'nama_provinsi': 'JAWA BARAT',\n",
              "  'target_konsumsi_ikan': 27.35,\n",
              "  'realisasi_konsumsi_ikan': 27.7,\n",
              "  'satuan': 'KILOGRAM PER KAPITA PER TAHUN',\n",
              "  'tahun': 2016},\n",
              " {'id': 4,\n",
              "  'kode_provinsi': 32,\n",
              "  'nama_provinsi': 'JAWA BARAT',\n",
              "  'target_konsumsi_ikan': 28.53,\n",
              "  'realisasi_konsumsi_ikan': 28.6,\n",
              "  'satuan': 'KILOGRAM PER KAPITA PER TAHUN',\n",
              "  'tahun': 2017},\n",
              " {'id': 5,\n",
              "  'kode_provinsi': 32,\n",
              "  'nama_provinsi': 'JAWA BARAT',\n",
              "  'target_konsumsi_ikan': 29.46,\n",
              "  'realisasi_konsumsi_ikan': 29.64,\n",
              "  'satuan': 'KILOGRAM PER KAPITA PER TAHUN',\n",
              "  'tahun': 2018},\n",
              " {'id': 6,\n",
              "  'kode_provinsi': 32,\n",
              "  'nama_provinsi': 'JAWA BARAT',\n",
              "  'target_konsumsi_ikan': 30.34,\n",
              "  'realisasi_konsumsi_ikan': 30.53,\n",
              "  'satuan': 'KILOGRAM PER KAPITA PER TAHUN',\n",
              "  'tahun': 2019},\n",
              " {'id': 7,\n",
              "  'kode_provinsi': 32,\n",
              "  'nama_provinsi': 'JAWA BARAT',\n",
              "  'target_konsumsi_ikan': 28.0,\n",
              "  'realisasi_konsumsi_ikan': 37.01,\n",
              "  'satuan': 'KILOGRAM PER KAPITA PER TAHUN',\n",
              "  'tahun': 2020},\n",
              " {'id': 8,\n",
              "  'kode_provinsi': 32,\n",
              "  'nama_provinsi': 'JAWA BARAT',\n",
              "  'target_konsumsi_ikan': 28.31,\n",
              "  'realisasi_konsumsi_ikan': 37.71,\n",
              "  'satuan': 'KILOGRAM PER KAPITA PER TAHUN',\n",
              "  'tahun': 2021}]"
            ]
          },
          "execution_count": 14,
          "metadata": {},
          "output_type": "execute_result"
        }
      ],
      "source": [
        "# [UPDATE] See the data\n",
        "\n",
        "json['data']"
      ]
    },
    {
      "cell_type": "code",
      "execution_count": 15,
      "metadata": {
        "colab": {
          "base_uri": "https://localhost:8080/",
          "height": 483
        },
        "id": "3II0IWy4GigP",
        "outputId": "ab305481-3502-43c9-db5c-6bdb9e5d1f57"
      },
      "outputs": [
        {
          "data": {
            "text/html": [
              "<div>\n",
              "<style scoped>\n",
              "    .dataframe tbody tr th:only-of-type {\n",
              "        vertical-align: middle;\n",
              "    }\n",
              "\n",
              "    .dataframe tbody tr th {\n",
              "        vertical-align: top;\n",
              "    }\n",
              "\n",
              "    .dataframe thead th {\n",
              "        text-align: right;\n",
              "    }\n",
              "</style>\n",
              "<table border=\"1\" class=\"dataframe\">\n",
              "  <thead>\n",
              "    <tr style=\"text-align: right;\">\n",
              "      <th></th>\n",
              "      <th>id</th>\n",
              "      <th>kode_provinsi</th>\n",
              "      <th>nama_provinsi</th>\n",
              "      <th>target_konsumsi_ikan</th>\n",
              "      <th>realisasi_konsumsi_ikan</th>\n",
              "      <th>satuan</th>\n",
              "      <th>tahun</th>\n",
              "    </tr>\n",
              "  </thead>\n",
              "  <tbody>\n",
              "    <tr>\n",
              "      <th>0</th>\n",
              "      <td>1</td>\n",
              "      <td>32</td>\n",
              "      <td>JAWA BARAT</td>\n",
              "      <td>23.89</td>\n",
              "      <td>24.57</td>\n",
              "      <td>KILOGRAM PER KAPITA PER TAHUN</td>\n",
              "      <td>2014</td>\n",
              "    </tr>\n",
              "    <tr>\n",
              "      <th>1</th>\n",
              "      <td>2</td>\n",
              "      <td>32</td>\n",
              "      <td>JAWA BARAT</td>\n",
              "      <td>25.41</td>\n",
              "      <td>25.88</td>\n",
              "      <td>KILOGRAM PER KAPITA PER TAHUN</td>\n",
              "      <td>2015</td>\n",
              "    </tr>\n",
              "    <tr>\n",
              "      <th>2</th>\n",
              "      <td>3</td>\n",
              "      <td>32</td>\n",
              "      <td>JAWA BARAT</td>\n",
              "      <td>27.35</td>\n",
              "      <td>27.70</td>\n",
              "      <td>KILOGRAM PER KAPITA PER TAHUN</td>\n",
              "      <td>2016</td>\n",
              "    </tr>\n",
              "    <tr>\n",
              "      <th>3</th>\n",
              "      <td>4</td>\n",
              "      <td>32</td>\n",
              "      <td>JAWA BARAT</td>\n",
              "      <td>28.53</td>\n",
              "      <td>28.60</td>\n",
              "      <td>KILOGRAM PER KAPITA PER TAHUN</td>\n",
              "      <td>2017</td>\n",
              "    </tr>\n",
              "    <tr>\n",
              "      <th>4</th>\n",
              "      <td>5</td>\n",
              "      <td>32</td>\n",
              "      <td>JAWA BARAT</td>\n",
              "      <td>29.46</td>\n",
              "      <td>29.64</td>\n",
              "      <td>KILOGRAM PER KAPITA PER TAHUN</td>\n",
              "      <td>2018</td>\n",
              "    </tr>\n",
              "    <tr>\n",
              "      <th>5</th>\n",
              "      <td>6</td>\n",
              "      <td>32</td>\n",
              "      <td>JAWA BARAT</td>\n",
              "      <td>30.34</td>\n",
              "      <td>30.53</td>\n",
              "      <td>KILOGRAM PER KAPITA PER TAHUN</td>\n",
              "      <td>2019</td>\n",
              "    </tr>\n",
              "    <tr>\n",
              "      <th>6</th>\n",
              "      <td>7</td>\n",
              "      <td>32</td>\n",
              "      <td>JAWA BARAT</td>\n",
              "      <td>28.00</td>\n",
              "      <td>37.01</td>\n",
              "      <td>KILOGRAM PER KAPITA PER TAHUN</td>\n",
              "      <td>2020</td>\n",
              "    </tr>\n",
              "    <tr>\n",
              "      <th>7</th>\n",
              "      <td>8</td>\n",
              "      <td>32</td>\n",
              "      <td>JAWA BARAT</td>\n",
              "      <td>28.31</td>\n",
              "      <td>37.71</td>\n",
              "      <td>KILOGRAM PER KAPITA PER TAHUN</td>\n",
              "      <td>2021</td>\n",
              "    </tr>\n",
              "  </tbody>\n",
              "</table>\n",
              "</div>"
            ],
            "text/plain": [
              "   id  kode_provinsi nama_provinsi  target_konsumsi_ikan  \\\n",
              "0   1             32    JAWA BARAT                 23.89   \n",
              "1   2             32    JAWA BARAT                 25.41   \n",
              "2   3             32    JAWA BARAT                 27.35   \n",
              "3   4             32    JAWA BARAT                 28.53   \n",
              "4   5             32    JAWA BARAT                 29.46   \n",
              "5   6             32    JAWA BARAT                 30.34   \n",
              "6   7             32    JAWA BARAT                 28.00   \n",
              "7   8             32    JAWA BARAT                 28.31   \n",
              "\n",
              "   realisasi_konsumsi_ikan                         satuan  tahun  \n",
              "0                    24.57  KILOGRAM PER KAPITA PER TAHUN   2014  \n",
              "1                    25.88  KILOGRAM PER KAPITA PER TAHUN   2015  \n",
              "2                    27.70  KILOGRAM PER KAPITA PER TAHUN   2016  \n",
              "3                    28.60  KILOGRAM PER KAPITA PER TAHUN   2017  \n",
              "4                    29.64  KILOGRAM PER KAPITA PER TAHUN   2018  \n",
              "5                    30.53  KILOGRAM PER KAPITA PER TAHUN   2019  \n",
              "6                    37.01  KILOGRAM PER KAPITA PER TAHUN   2020  \n",
              "7                    37.71  KILOGRAM PER KAPITA PER TAHUN   2021  "
            ]
          },
          "execution_count": 15,
          "metadata": {},
          "output_type": "execute_result"
        }
      ],
      "source": [
        "data = pd.json_normalize(json['data'])\n",
        "data"
      ]
    },
    {
      "cell_type": "markdown",
      "metadata": {
        "id": "rF5T80AJ3GCj"
      },
      "source": [
        "# FastAPI\n",
        "\n",
        "We've already known how to access or fetch an API using `requests` library. However, how to create an API by ourself?\n",
        "\n",
        "Fortunately, Python has a library for building API which is `FastAPI`."
      ]
    },
    {
      "cell_type": "markdown",
      "metadata": {
        "id": "f2Zh1hTMbHUI"
      },
      "source": [
        "## SETUP"
      ]
    },
    {
      "cell_type": "markdown",
      "metadata": {
        "id": "oeq0o_20XZEJ"
      },
      "source": [
        "In order to practice making an API, you will use Visual Studio Code and create a Python script file (.py). After that, you will run it locally.\n",
        "\n",
        "But, before we further do, let's install the FastAPI and Uvicorn using this command:\n",
        "```\n",
        "pip install fastapi uvicorn[standard]\n",
        "```\n",
        "\n",
        "FastAPI is a library that we use for making the APIs and Uvicorn will be our API server."
      ]
    },
    {
      "cell_type": "markdown",
      "metadata": {
        "id": "G1B8nPnmb4-x"
      },
      "source": [
        "## Create Our First API\n",
        "\n",
        "```python\n",
        "from fastapi import FastAPI\n",
        "\n",
        "app = FastAPI()\n",
        "\n",
        "@app.get(\"/\")\n",
        "def root():\n",
        "    return {\"message\": \"Hello World\"}\n",
        "\n",
        "```\n",
        "\n",
        "**Explaination**:\n",
        "\n",
        "1. `from fastapi import FastAPI`: This line imports the `FastAPI` class from the `fastapi` module. `FastAPI` is the main class that allows us to create and define our API routes.\n",
        "\n",
        "2. `app = FastAPI()`: This line creates an instance of the `FastAPI` class and assigns it to the variable `app`. This `app` object will be used to define our API's routes and their corresponding functions.\n",
        "\n",
        "3. `@app.get(\"/\")`: This is a decorator provided by FastAPI, used to define a route for handling GET requests. In this case, the route is specified as \"/\". The function immediately below this decorator (`root()`) will be executed when the server receives a GET request to the root URL (\"/\").\n",
        "\n",
        "4. `def root():`: This is the Python function that handles the GET request to the root URL. When a GET request is made to the root URL (\"/\"), this function is executed.\n",
        "\n",
        "5. `return {\"message\": \"Hello World\"}`: This line returns a Python dictionary as the response to the GET request. The dictionary contains a single key-value pair, where the key is \"message,\" and the value is \"Hello World.\""
      ]
    },
    {
      "cell_type": "code",
      "execution_count": 17,
      "metadata": {},
      "outputs": [
        {
          "name": "stdout",
          "output_type": "stream",
          "text": [
            "Collecting fastapi\n",
            "  Downloading fastapi-0.104.1-py3-none-any.whl (92 kB)\n",
            "Collecting anyio<4.0.0,>=3.7.1\n",
            "  Downloading anyio-3.7.1-py3-none-any.whl (80 kB)\n",
            "Collecting starlette<0.28.0,>=0.27.0\n",
            "  Downloading starlette-0.27.0-py3-none-any.whl (66 kB)\n",
            "Collecting pydantic!=1.8,!=1.8.1,!=2.0.0,!=2.0.1,!=2.1.0,<3.0.0,>=1.7.4\n",
            "  Downloading pydantic-2.5.2-py3-none-any.whl (381 kB)\n",
            "Requirement already satisfied: typing-extensions>=4.8.0 in c:\\users\\gilbert kh\\appdata\\roaming\\python\\python38\\site-packages (from fastapi) (4.8.0)\n",
            "Requirement already satisfied: sniffio>=1.1 in c:\\programdata\\anaconda3\\lib\\site-packages (from anyio<4.0.0,>=3.7.1->fastapi) (1.3.0)\n",
            "Requirement already satisfied: exceptiongroup; python_version < \"3.11\" in c:\\programdata\\anaconda3\\lib\\site-packages (from anyio<4.0.0,>=3.7.1->fastapi) (1.2.0)\n",
            "Requirement already satisfied: idna>=2.8 in c:\\programdata\\anaconda3\\lib\\site-packages (from anyio<4.0.0,>=3.7.1->fastapi) (2.10)\n",
            "Collecting pydantic-core==2.14.5\n",
            "  Downloading pydantic_core-2.14.5-cp38-none-win_amd64.whl (1.9 MB)\n",
            "Collecting annotated-types>=0.4.0\n",
            "  Downloading annotated_types-0.6.0-py3-none-any.whl (12 kB)\n",
            "Installing collected packages: anyio, starlette, pydantic-core, annotated-types, pydantic, fastapi\n",
            "Successfully installed annotated-types-0.6.0 anyio-3.7.1 fastapi-0.104.1 pydantic-2.5.2 pydantic-core-2.14.5 starlette-0.27.0\n"
          ]
        }
      ],
      "source": [
        "! pip install fastapi"
      ]
    },
    {
      "cell_type": "code",
      "execution_count": 22,
      "metadata": {},
      "outputs": [
        {
          "name": "stdout",
          "output_type": "stream",
          "text": [
            "Requirement already satisfied: uvicorn[standard] in c:\\programdata\\anaconda3\\lib\\site-packages (0.24.0.post1)\n",
            "Requirement already satisfied: h11>=0.8 in c:\\programdata\\anaconda3\\lib\\site-packages (from uvicorn[standard]) (0.14.0)\n",
            "Requirement already satisfied: click>=7.0 in c:\\programdata\\anaconda3\\lib\\site-packages (from uvicorn[standard]) (7.1.2)\n",
            "Requirement already satisfied: typing-extensions>=4.0; python_version < \"3.11\" in c:\\users\\gilbert kh\\appdata\\roaming\\python\\python38\\site-packages (from uvicorn[standard]) (4.8.0)\n",
            "Collecting watchfiles>=0.13; extra == \"standard\"\n",
            "  Downloading watchfiles-0.21.0-cp38-none-win_amd64.whl (279 kB)\n",
            "Collecting httptools>=0.5.0; extra == \"standard\"\n",
            "  Downloading httptools-0.6.1-cp38-cp38-win_amd64.whl (60 kB)\n",
            "Requirement already satisfied: colorama>=0.4; sys_platform == \"win32\" and extra == \"standard\" in c:\\programdata\\anaconda3\\lib\\site-packages (from uvicorn[standard]) (0.4.4)\n",
            "Collecting websockets>=10.4; extra == \"standard\"\n",
            "  Downloading websockets-12.0-cp38-cp38-win_amd64.whl (124 kB)\n",
            "Collecting python-dotenv>=0.13; extra == \"standard\"\n",
            "  Downloading python_dotenv-1.0.0-py3-none-any.whl (19 kB)\n",
            "Requirement already satisfied: pyyaml>=5.1; extra == \"standard\" in c:\\programdata\\anaconda3\\lib\\site-packages (from uvicorn[standard]) (5.3.1)\n",
            "Requirement already satisfied: anyio>=3.0.0 in c:\\programdata\\anaconda3\\lib\\site-packages (from watchfiles>=0.13; extra == \"standard\"->uvicorn[standard]) (3.7.1)\n",
            "Requirement already satisfied: sniffio>=1.1 in c:\\programdata\\anaconda3\\lib\\site-packages (from anyio>=3.0.0->watchfiles>=0.13; extra == \"standard\"->uvicorn[standard]) (1.3.0)\n",
            "Requirement already satisfied: idna>=2.8 in c:\\programdata\\anaconda3\\lib\\site-packages (from anyio>=3.0.0->watchfiles>=0.13; extra == \"standard\"->uvicorn[standard]) (2.10)\n",
            "Requirement already satisfied: exceptiongroup; python_version < \"3.11\" in c:\\programdata\\anaconda3\\lib\\site-packages (from anyio>=3.0.0->watchfiles>=0.13; extra == \"standard\"->uvicorn[standard]) (1.2.0)\n",
            "Installing collected packages: watchfiles, httptools, websockets, python-dotenv\n",
            "Successfully installed httptools-0.6.1 python-dotenv-1.0.0 watchfiles-0.21.0 websockets-12.0\n"
          ]
        }
      ],
      "source": [
        "! pip install uvicorn[standard]"
      ]
    },
    {
      "cell_type": "code",
      "execution_count": 18,
      "metadata": {},
      "outputs": [],
      "source": []
    },
    {
      "cell_type": "markdown",
      "metadata": {
        "id": "eXnG211AvPpE"
      },
      "source": [
        "\n",
        "\n",
        "To running the script :\n",
        "\n",
        "```\n",
        "uvicorn <filename-without-the-extension>:<fast-api-instance> --reload\n",
        "```\n",
        "\n",
        "For example if your filename is `main.py` and the instance of `FastAPI()` is called `app`, then the script will be :\n",
        "```\n",
        "uvicorn main:app --reload\n",
        "```\n",
        "\n",
        "or\n",
        "```\n",
        "python -m uvicorn main:app --reload\n",
        "```"
      ]
    },
    {
      "cell_type": "markdown",
      "metadata": {
        "id": "Vds7PBioEYa-"
      },
      "source": [
        "### **Explore the Swagger UI**\n",
        "\n",
        "You may need to access the 'docs' via http://localhost:8000/docs\n",
        "\n",
        "If you already enter the Swagger UI, you can easily interact with your API without any code."
      ]
    },
    {
      "cell_type": "markdown",
      "metadata": {
        "id": "Znx5aSnDd2hv"
      },
      "source": [
        "## Defining Endpoints\n",
        "\n",
        "You may use the Swagger UI or using Python to test your API"
      ]
    },
    {
      "cell_type": "markdown",
      "metadata": {
        "id": "lNGSW9VapiK9"
      },
      "source": [
        "### GET\n",
        "\n",
        "Here's our app.py to practice creating an API for `GET` function only:\n",
        "\n",
        "```python\n",
        "from fastapi import FastAPI\n",
        "\n",
        "app = FastAPI()\n",
        "\n",
        "@app.get(\"/\")\n",
        "def root():\n",
        "  return \"This is the main endpoint of this API\"\n",
        "\n",
        "@app.get(\"/names/{name}\")\n",
        "def read_name(name):\n",
        "  return {\"name\":name,\"message\":f\"Hello, my name is {name}\"}\n",
        "\n",
        "@app.get(\"/items/{id}\")\n",
        "def read_items(id):\n",
        "  return {\"id\":id}\n",
        "```\n",
        "\n",
        "To run, you can run the url, `https://localhost:8000/` or `https://localhost:8000/your_name` or `https://localhost:8000/id` on your browser."
      ]
    },
    {
      "cell_type": "markdown",
      "metadata": {
        "id": "CbWkTTaGplNL"
      },
      "source": [
        "### PUT\n",
        "\n",
        "Here's our app.py for updating existing data:\n",
        "\n",
        "```python\n",
        "from fastapi import FastAPI\n",
        "\n",
        "app = FastAPI()\n",
        "\n",
        "df = {\n",
        "    1: {\"name\": \"Hana\", \"age\": 10},\n",
        "    2: {\"name\": \"Rifdah\", \"age\": 18}\n",
        "}\n",
        "\n",
        "@app.get('/data')\n",
        "def read_data():\n",
        "    return df\n",
        "\n",
        "@app.put(\"/items/{item_id}\")\n",
        "def update_item(item_id: int, update_data: dict):\n",
        "\n",
        "    # Perform the update using the data from the request body\n",
        "    df[item_id].update(update_data)\n",
        "\n",
        "    return {\"message\": f\"Item with ID {item_id} has been updated successfully.\"}\n",
        "```\n",
        "\n",
        "Remember that, the way yout update data, it depends of the data type that stored the data. It's different if we using list or dictionary.\n",
        "\n",
        "To test our API, we can fetch the data using local notebook.\n",
        "\n",
        "Codes to be running on your local notebook:\n",
        "\n",
        "```\n",
        "import requests\n",
        "\n",
        "url = \"http://localhost:8000/items/1\"\n",
        "\n",
        "response = requests.put(url, json={\"name\":\"Fahmi\", \"age\":13})\n",
        "print(response.status_code)\n",
        "print(response.json())\n",
        "```\n",
        "\n",
        "or just access the Swagger UI."
      ]
    },
    {
      "cell_type": "markdown",
      "metadata": {
        "id": "KGIjHkcEpnLL"
      },
      "source": [
        "### POST\n",
        "\n",
        "Here's our app.py for posting a new data:\n",
        "\n",
        "```python\n",
        "from fastapi import FastAPI\n",
        "\n",
        "app = FastAPI()\n",
        "\n",
        "data = []\n",
        "\n",
        "@app.get('/')\n",
        "def cart():\n",
        "    if len(data)==0:\n",
        "        return \"There are no items in your cart\"\n",
        "    else:\n",
        "        return data\n",
        "\n",
        "@app.post('/input_data/')\n",
        "def add_cart(added_item:dict):\n",
        "    id = len(data) + 1\n",
        "    added_item['id'] = id\n",
        "    data.append(added_item)\n",
        "    return added_item\n",
        "```\n",
        "\n",
        "Codes to be running on your local notebook:\n",
        "\n",
        "```python\n",
        "import requests\n",
        "\n",
        "url = \"http://localhost:8000/input_data/\"\n",
        "\n",
        "response = requests.post(url, json={\"id\":1, \"name\":\"Apple\", \"price\":5000})\n",
        "print(response.status_code)\n",
        "print(response.json())\n",
        "\n",
        "```\n",
        "or just access the Swagger UI."
      ]
    },
    {
      "cell_type": "markdown",
      "metadata": {
        "id": "4Yv6bjjipvXX"
      },
      "source": [
        "### DELETE\n",
        "\n",
        "Here's our app.py to detele a row in a data:\n",
        "```python\n",
        "from fastapi import FastAPI\n",
        "\n",
        "app = FastAPI()\n",
        "\n",
        "df = {\n",
        "    1: {\"name\": \"Hana\", \"age\": 10},\n",
        "    2: {\"name\": \"Rifdah\", \"age\": 18},\n",
        "    3: {\"name\": \"Sakinah\", \"age\": 27}\n",
        "}\n",
        "\n",
        "@app.get('/data')\n",
        "def read_data():\n",
        "    return df\n",
        "\n",
        "@app.delete(\"/items/{item_id}\")\n",
        "def delete_item(item_id: int):\n",
        "    df.pop(item_id)\n",
        "    return {\"message\": f\"Item with ID {item_id} has been deleted successfully.\"}\n",
        "```\n",
        "\n",
        "Code to test the endpoint:\n",
        "\n",
        "```python\n",
        "import requests\n",
        "url = \"http://localhost:8000/items/2\"\n",
        "\n",
        "response = requests.delete(url)\n",
        "print(response.status_code)\n",
        "print(response.json())\n",
        "\n",
        "```\n",
        "\n",
        "or just access the Swagger UI."
      ]
    },
    {
      "cell_type": "markdown",
      "metadata": {
        "id": "xAMYrUWQd-u9"
      },
      "source": [
        "## Error Handling\n",
        "\n",
        "Error handling is a crucial aspect of any web application, including APIs built with FastAPI. FastAPI provides robust error handling mechanisms to help developers manage errors, exceptions, and unexpected situations that may occur during the processing of incoming requests. Proper error handling ensures that the API provides meaningful and consistent responses to clients when errors occur."
      ]
    },
    {
      "cell_type": "markdown",
      "metadata": {
        "id": "1lAtr6Gfox2N"
      },
      "source": [
        "Now, let we take an error from this simple endpoint:\n",
        "\n",
        "```python\n",
        "from fastapi import FastAPI\n",
        "\n",
        "app = FastAPI()\n",
        "\n",
        "@app.get(\"/items/{id}\")\n",
        "def route(id: int):\n",
        "    return {\"item_id\": id}\n",
        "```\n",
        "We created an endpoint to handle `GET` requests by calling the `/items/id`. However, we expecting that the `id` to be an integer.\n",
        "\n",
        "If we input the id by using another data type, like this:\n",
        "```\n",
        "https://localhost:8000/items/two\n",
        "```\n",
        "\n",
        "You will get an error like this:\n",
        "\n",
        "```json\n",
        "{\"detail\":[{\"type\":\"int_parsing\",\n",
        "            \"loc\":[\"path\",\"id\"],\n",
        "            \"msg\":\"Input should be a valid integer, unable to parse string as an integer\",\n",
        "            \"input\":\"two\",\n",
        "            \"url\":\"https://errors.pydantic.dev/2.0.3/v/int_parsing\"\n",
        "            }]\n",
        "      }\n",
        "```"
      ]
    },
    {
      "cell_type": "markdown",
      "metadata": {
        "id": "sFfLY3MBOICN"
      },
      "source": [
        "Another example. Our code below only provides two rows of data. Our next step is that we want to edit the existing data.\n",
        "\n",
        "```python\n",
        "from fastapi import FastAPI\n",
        "\n",
        "app = FastAPI()\n",
        "\n",
        "df = {\n",
        "    1: {\"name\": \"Hana\", \"age\": 10},\n",
        "    2: {\"name\": \"Rifdah\", \"age\": 18}\n",
        "}\n",
        "\n",
        "@app.get('/data')\n",
        "def read_data():\n",
        "    return df\n",
        "\n",
        "@app.put(\"/items/{item_id}\")\n",
        "def update_item(item_id: int, update_data: dict):\n",
        "    df[item_id].update(update_data)\n",
        "    return {\"message\": f\"Item with ID {item_id} has been updated successfully.\"}\n",
        "```\n",
        "\n",
        "However we set the item_id exceeding the number of rows consciously:\n",
        "\n",
        "```python\n",
        "import requests\n",
        "url = \"http://localhost:8000/items/5\"\n",
        "\n",
        "response = requests.delete(url)\n",
        "print(response.status_code)\n",
        "print(response.json())\n",
        "```\n",
        "\n",
        "What the error that you received?"
      ]
    },
    {
      "cell_type": "markdown",
      "metadata": {
        "id": "z2pgt5V_10oe"
      },
      "source": [
        "---\n",
        "> **[UPDATE]**\n",
        "\n",
        "```\n",
        "import requests\n",
        "url = \"http://localhost:8000/items/5\"\n",
        "\n",
        "response = requests.put(url)\n",
        "print(response.status_code)\n",
        "print(response.json())\n",
        "```"
      ]
    },
    {
      "cell_type": "markdown",
      "metadata": {
        "id": "oyt1NFmYkQ8V"
      },
      "source": [
        "### Raising HTTPException\n",
        "\n",
        "To handle those errors, we can raise the error using `HTTPException`. Handling errors using `HTTPException` is a common and effective approach in FastAPI. `HTTPException` allows you to raise and handle HTTP-related exceptions with specific status codes and error messages. It simplifies the process of returning meaningful and consistent error responses to clients when errors or exceptional situations occur during request processing.\n",
        "\n",
        "Here's the format of raising the error by response status code:\n",
        "\n",
        "```\n",
        "if condition:\n",
        "  raise HTTPException(status_code=<status>, detail=\"message\")\n",
        "```\n",
        "\n",
        "Example:\n",
        "\n",
        "```python\n",
        "from fastapi import FastAPI, HTTPException\n",
        "\n",
        "app = FastAPI()\n",
        "\n",
        "df = {\n",
        "    1: {\"name\": \"Hana\", \"age\": 10},\n",
        "    2: {\"name\": \"Rifdah\", \"age\": 18}\n",
        "}\n",
        "\n",
        "@app.get('/data')\n",
        "def read_data():\n",
        "    return df\n",
        "\n",
        "@app.put(\"/items/{item_id}\")\n",
        "def update_item(item_id: int, update_data: dict):\n",
        "    if item_id not in df.keys():\n",
        "      raise HTTPException(status_code=404, detail=f\"Item with ID {item_id} not found\")\n",
        "    df[item_id].update(update_data)\n",
        "    return {\"message\": f\"Item with ID {item_id} has been updated successfully.\"}\n",
        "\n",
        "```\n",
        "\n",
        "From the `raise HTTPException` above, when we meet the 404 not-found  error, the API will give message that `Item with ID xx not found`."
      ]
    },
    {
      "cell_type": "markdown",
      "metadata": {
        "id": "tBHYuLxG26cy"
      },
      "source": [
        "---\n",
        "\n",
        "## Use Case - Solve a Problem\n",
        "\n",
        "You are a developer working for a startup called \"Toko H8\" that specializes in online shopping. The company wants to build a simple shopping cart API to manage the items added to the users' shopping carts. They have provided you with some initial requirements and data for the API. Your task is to use FastAPI to create the API that allows users to view, add, edit, and delete items in their shopping carts.\n",
        "\n",
        "\n",
        "\n",
        "```python\n",
        "from fastapi import FastAPI, HTTPException\n",
        "\n",
        "app = FastAPI()\n",
        "\n",
        "data = {\"name\":\"shopping cart\",\n",
        "        \"columns\":[\"prod_name\",\"price\",\"num_items\"],\n",
        "        \"items\":{}}\n",
        "\n",
        "@app.get(\"/\")\n",
        "def root():\n",
        "    return {\"message\":\"Welcome to Toko H8 Shopping Cart! There are some features that you can explore\",\n",
        "            \"menu\":{1:\"See shopping cart (/cart)\",\n",
        "                    2:\"Add item (/add) - You may need request\",\n",
        "                    3:\"Edit shopping cart (/edit/id)\",\n",
        "                    4:\"Delete item from shopping cart (/del/id)\"}}\n",
        "\n",
        "@app.get(\"/cart\")\n",
        "def show():\n",
        "    return data\n",
        "\n",
        "@app.post(\"/add\")\n",
        "def add_item(added_item:dict):\n",
        "    id = len(data[\"items\"].keys())+1\n",
        "    data[\"items\"][id] = added_item\n",
        "    return f\"Item successfully added into your cart with ID {id}\"\n",
        "\n",
        "@app.put(\"/edit/{id}\")\n",
        "def update_cart(id:int,updated_cart:dict):\n",
        "    if id not in data['items'].keys():\n",
        "        raise HTTPException(status_code=404, detail=f\"Item with ID {id} not found\")\n",
        "    else:\n",
        "        data[\"items\"][id].update(updated_cart)\n",
        "        return {\"message\": f\"Item with ID {id} has been updated successfully.\"}\n",
        "\n",
        "@app.delete(\"/del/{id}\")\n",
        "def remove_row(id:int):\n",
        "    if id not in data['items'].keys():\n",
        "        raise HTTPException(status_code=404, detail=f\"Item with ID {id} not found\")\n",
        "    else:\n",
        "        data[\"items\"].pop(id)\n",
        "        return {\"message\": f\"Item with ID {id} has been deleted successfully.\"}\n",
        "\n",
        "```"
      ]
    }
  ],
  "metadata": {
    "colab": {
      "provenance": [],
      "toc_visible": true
    },
    "kernelspec": {
      "display_name": "Python 3",
      "name": "python3"
    },
    "language_info": {
      "codemirror_mode": {
        "name": "ipython",
        "version": 3
      },
      "file_extension": ".py",
      "mimetype": "text/x-python",
      "name": "python",
      "nbconvert_exporter": "python",
      "pygments_lexer": "ipython3",
      "version": "3.8.5"
    }
  },
  "nbformat": 4,
  "nbformat_minor": 0
}
