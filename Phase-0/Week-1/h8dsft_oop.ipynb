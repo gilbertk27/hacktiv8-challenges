{
 "cells": [
  {
   "attachments": {},
   "cell_type": "markdown",
   "metadata": {},
   "source": [
    "### Task \n",
    "\n",
    "Create a library catalog system using OOP. The system should allow users to add books to the catalog, search for books by title or author, and remove books from the catalog.\n",
    "\n",
    "Requirements:\n",
    "\n",
    " 1. Each book should have a title, author, and unique identifier\n",
    "\n",
    " 2. The system should provide the following functionality:\n",
    "   - Adding a book to the catalog.\n",
    "   - Searching for books by title or author.\n",
    "   - Removing a book from the catalog.\n",
    "   - Displaying all books in the catalog.\n",
    " </br>\n",
    " \n",
    " 3. Do the exception handling\n"
   ]
  },
  {
   "cell_type": "code",
   "execution_count": 1,
   "metadata": {},
   "outputs": [],
   "source": [
    "class Library:\n",
    "    def __init__(self, title, author, uniq_id):\n",
    "        self.title = title\n",
    "        self.author = author\n",
    "        self.uniq_id = uniq_id\n",
    "\n",
    "    def add_book(self, new_uniq_id, new_title, new_author):\n",
    "        self.uniq_id = new_uniq_id\n",
    "        self.title = new_title\n",
    "        self.author = new_author\n",
    "\n",
    "    def search_book_author(self, author):\n",
    "        for i in range(len(self.author)):\n",
    "            if self.author[i] == author:\n",
    "                print(f\"Book Title: {self.title}\")\n",
    "                print(f\"Book Unique Id: {self.uniq_id}\")\n",
    "    \n",
    "    def search_book_title(self, title):\n",
    "        for i in range(len(self.title)):\n",
    "            if self.title[i] == title:\n",
    "                print(f\"Book Author: {self.author}\")\n",
    "                print(f\"Book Unique Id: {self.uniq_id}\")\n",
    "\n",
    "    def remove_book(self):\n",
    "        return \n",
    "    \n",
    "    def print_all_book(self):\n",
    "        for i in range(len(self.title)):\n",
    "            print(f\"Book Title: {self.title}\")\n",
    "            print(f\"Book Author: {self.author}\")\n",
    "            print(f\"Book Unique Id: {self.uniq_id}\")\n",
    "            print(\"\")"
   ]
  },
  {
   "cell_type": "code",
   "execution_count": 2,
   "metadata": {},
   "outputs": [],
   "source": [
    "# Creating instances of books\n",
    "cat_1 = Library(\"cinderella\", \"ADAMS_1\", \"1\")\n",
    "cat_1 = Library(\"cinderbelllazo\", \"ADAMS_2\", \"2\")\n",
    "cat_1 = Library(\"cincinbelbelba\", \"ADAMS_3\", \"3\")\n",
    "\n",
    "cat_2 = Library(\"break\", \"ADAMS_a\", \"1\")\n",
    "cat_2 = Library(\"brick\", \"ADAMS_as\", \"2\")\n",
    "cat_2 = Library(\"broke\", \"ADAMS_asd\", \"3\")\n"
   ]
  },
  {
   "cell_type": "code",
   "execution_count": 7,
   "metadata": {},
   "outputs": [],
   "source": [
    "# add book\n",
    "Library.add_book(cat_1, \"cojbnsd\", \"ADAMS_asd\", 4)\n"
   ]
  },
  {
   "cell_type": "code",
   "execution_count": 8,
   "metadata": {},
   "outputs": [
    {
     "name": "stdout",
     "output_type": "stream",
     "text": [
      "Book Title: cincinbelbelba\n",
      "Book Unique Id: 3\n"
     ]
    }
   ],
   "source": [
    "# Printing books details\n",
    "cat_1.search_book_author(author = \"S\") # search book by author\n",
    "# cat_2.search_book_title(\"SWTDI5\") # search book by title"
   ]
  },
  {
   "cell_type": "code",
   "execution_count": 4,
   "metadata": {},
   "outputs": [
    {
     "name": "stdout",
     "output_type": "stream",
     "text": [
      "Book Title: cincinbelbelba\n",
      "Book Author: ADAMS_3\n",
      "Book Unique Id: 3\n",
      "\n",
      "Book Title: cincinbelbelba\n",
      "Book Author: ADAMS_3\n",
      "Book Unique Id: 3\n",
      "\n",
      "Book Title: cincinbelbelba\n",
      "Book Author: ADAMS_3\n",
      "Book Unique Id: 3\n",
      "\n",
      "Book Title: cincinbelbelba\n",
      "Book Author: ADAMS_3\n",
      "Book Unique Id: 3\n",
      "\n",
      "Book Title: cincinbelbelba\n",
      "Book Author: ADAMS_3\n",
      "Book Unique Id: 3\n",
      "\n",
      "Book Title: cincinbelbelba\n",
      "Book Author: ADAMS_3\n",
      "Book Unique Id: 3\n",
      "\n",
      "Book Title: cincinbelbelba\n",
      "Book Author: ADAMS_3\n",
      "Book Unique Id: 3\n",
      "\n",
      "Book Title: cincinbelbelba\n",
      "Book Author: ADAMS_3\n",
      "Book Unique Id: 3\n",
      "\n",
      "Book Title: cincinbelbelba\n",
      "Book Author: ADAMS_3\n",
      "Book Unique Id: 3\n",
      "\n",
      "Book Title: cincinbelbelba\n",
      "Book Author: ADAMS_3\n",
      "Book Unique Id: 3\n",
      "\n",
      "Book Title: cincinbelbelba\n",
      "Book Author: ADAMS_3\n",
      "Book Unique Id: 3\n",
      "\n",
      "Book Title: cincinbelbelba\n",
      "Book Author: ADAMS_3\n",
      "Book Unique Id: 3\n",
      "\n",
      "Book Title: cincinbelbelba\n",
      "Book Author: ADAMS_3\n",
      "Book Unique Id: 3\n",
      "\n",
      "Book Title: cincinbelbelba\n",
      "Book Author: ADAMS_3\n",
      "Book Unique Id: 3\n",
      "\n"
     ]
    }
   ],
   "source": [
    "cat_1.print_all_book()"
   ]
  }
 ],
 "metadata": {
  "kernelspec": {
   "display_name": "base",
   "language": "python",
   "name": "python3"
  },
  "language_info": {
   "codemirror_mode": {
    "name": "ipython",
    "version": 3
   },
   "file_extension": ".py",
   "mimetype": "text/x-python",
   "name": "python",
   "nbconvert_exporter": "python",
   "pygments_lexer": "ipython3",
   "version": "3.8.5"
  },
  "orig_nbformat": 4
 },
 "nbformat": 4,
 "nbformat_minor": 2
}
