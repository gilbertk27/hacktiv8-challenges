{
  "cells": [
    {
      "attachments": {},
      "cell_type": "markdown",
      "metadata": {
        "id": "YL5dG4NcAw4b"
      },
      "source": [
        "# OOP\n",
        "- Class & Object\n",
        "- 4 Konsep OOP\n",
        "    - Abstract\n",
        "    - Encapsilation\n",
        "    - Inheritance\n",
        "    - Polymorph"
      ]
    },
    {
      "cell_type": "code",
      "execution_count": null,
      "metadata": {
        "id": "7mjdjrMUj4C-"
      },
      "outputs": [],
      "source": [
        "class NamaClass():\n",
        "    # init: fungsi pertama yg dijalan saat membuat objek\n",
        "    # digunakan untuk mendefine atribut\" / properti\n",
        "    def __init__(self, param1, param2):\n",
        "        self.attr1 = param1\n",
        "        self.attr2 = param2"
      ]
    },
    {
      "cell_type": "code",
      "execution_count": 12,
      "metadata": {},
      "outputs": [
        {
          "name": "stdout",
          "output_type": "stream",
          "text": [
            "ayu 20\n",
            "ayu 20\n"
          ]
        }
      ],
      "source": [
        "name = 'ayu'\n",
        "age = 20\n",
        "result = f'{name} {age}'\n",
        "# print(name + age)\n",
        "print(result)\n",
        "print(name, age)"
      ]
    },
    {
      "cell_type": "code",
      "execution_count": 13,
      "metadata": {},
      "outputs": [
        {
          "name": "stdout",
          "output_type": "stream",
          "text": [
            "ini adalah sebuah hp dengan baterai 0%\n",
            "ini adalah sebuah hp dengan baterai 45%\n"
          ]
        },
        {
          "data": {
            "text/plain": [
              "45"
            ]
          },
          "execution_count": 13,
          "metadata": {},
          "output_type": "execute_result"
        }
      ],
      "source": [
        "class SmartPhone():\n",
        "    def __init__(self, battery = 0):\n",
        "        self.battery = battery\n",
        "    \n",
        "    def __str__(self):\n",
        "        return f'ini adalah sebuah hp dengan baterai {self.battery}%'\n",
        "\n",
        "# Menghasilkan suatu object dari class\n",
        "hp_ayu = SmartPhone()\n",
        "print(hp_ayu)\n",
        "hp_andre = SmartPhone(45)\n",
        "print(hp_andre)\n",
        "\n",
        "#melihat value secara langsung (atrr)\n",
        "hp_andre.battery"
      ]
    },
    {
      "attachments": {},
      "cell_type": "markdown",
      "metadata": {},
      "source": [
        "# Encapsulation"
      ]
    },
    {
      "cell_type": "code",
      "execution_count": 18,
      "metadata": {},
      "outputs": [
        {
          "name": "stdout",
          "output_type": "stream",
          "text": [
            "ini adalah sebuah hp dengan baterai 100% pin: 1232\n",
            "1234\n"
          ]
        }
      ],
      "source": [
        "# Encapsilation : double underscore\n",
        "class SmartPhone:\n",
        "    def __init__(self, battery = 0):\n",
        "        self.battery = battery\n",
        "        self.__pin = \"1232\"\n",
        "    \n",
        "    def __str__(self):\n",
        "        return f'ini adalah sebuah hp dengan baterai {self.battery}% pin: {self.__pin}'\n",
        "    \n",
        "    def set_pin(self, value):\n",
        "        self.__pin = value\n",
        "        # print(f'pin berhasil diubah menjadi {self.__pin}')\n",
        "    \n",
        "    def get_pin(self):\n",
        "        return self.__pin\n",
        "    \n",
        "    def charge_battery(self):\n",
        "        self.battery += 10\n",
        "    \n",
        "hp_ayu = SmartPhone(100)\n",
        "print(hp_ayu)\n",
        "\n",
        "# hp_ayu.__pin \n",
        "\n",
        "# mau mengubah valuenya?? setter (method)\n",
        "hp_ayu.set_pin(\"1234\")\n",
        "\n",
        "# !!!! KALO BENER\" GAPERLU JANGAN DITULIS GETTER NYA\n",
        "#ingin akese dari luar, property private __\n",
        "#getter (method)\n",
        "print(hp_ayu.get_pin())\n",
        "\n"
      ]
    },
    {
      "attachments": {},
      "cell_type": "markdown",
      "metadata": {},
      "source": [
        "# Inheritance\n",
        "\n",
        "Terdapat orang tua dan anak (yang diwariskan method & attr)"
      ]
    },
    {
      "cell_type": "code",
      "execution_count": 23,
      "metadata": {},
      "outputs": [
        {
          "name": "stdout",
          "output_type": "stream",
          "text": [
            "ini adalah sebuah hp dengan baterai 100% pin: 1234\n",
            "ini adalah sebuah hp dengan baterai 0% pin: 1232\n",
            "1232\n"
          ]
        }
      ],
      "source": [
        "print(hp_ayu)\n",
        "\n",
        "# orang tua: class Smartphone\n",
        "# anak: class Iphony\n",
        "\n",
        "# itu kalo parentclass name deklarasi \n",
        "# awal pake pascalcase trus di child class pake camelcase?\n",
        "# bebas\n",
        "\n",
        "# class childName(parentClassName)\n",
        "class Iphony(SmartPhone):\n",
        "    def __init__(self):\n",
        "        # SmartPhone.__init__(self)\n",
        "        super().__init__()\n",
        "        self.brand = \"Apple\"\n",
        "\n",
        "iphony_ayu = Iphony(50)\n",
        "print(iphony_ayu)\n",
        "# print(iphony_ayu.get_pin())\n",
        "prunt(iphony_ayu.brand)\n",
        "ipunk_ayu = Iphony()\n"
      ]
    },
    {
      "attachments": {},
      "cell_type": "markdown",
      "metadata": {},
      "source": [
        "# Polymorphs\n",
        "\n",
        "banyak bentuk -> Overidding"
      ]
    },
    {
      "cell_type": "code",
      "execution_count": null,
      "metadata": {},
      "outputs": [],
      "source": [
        "class Ipunk(SmartPhone):\n",
        "    def __init__(self, battery):\n",
        "        super().__init__(battery)\n",
        "        self.brand = \"Samsung\"\n",
        "    \n",
        "    def call(self):\n",
        "        print(f'sedang menelpon seseornag')\n",
        "        \n",
        "class Andro(SmartPhone):\n",
        "    def __init__(self, battery):\n",
        "        super().__init__(battery)\n",
        "        self.brand = \"Samsolid\"\n",
        "        \n",
        "ipunk_ayu = Ipunk(100)\n",
        "andro_ayu = Andro(89)\n",
        "\n",
        "print(ipunk_ayu)\n",
        "print(andro_ayu)"
      ]
    }
  ],
  "metadata": {
    "colab": {
      "provenance": []
    },
    "kernelspec": {
      "display_name": "Python 3",
      "name": "python3"
    },
    "language_info": {
      "codemirror_mode": {
        "name": "ipython",
        "version": 3
      },
      "file_extension": ".py",
      "mimetype": "text/x-python",
      "name": "python",
      "nbconvert_exporter": "python",
      "pygments_lexer": "ipython3",
      "version": "3.8.5"
    }
  },
  "nbformat": 4,
  "nbformat_minor": 0
}
