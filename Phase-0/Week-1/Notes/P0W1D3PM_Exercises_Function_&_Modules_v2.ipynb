{
  "cells": [
    {
      "cell_type": "markdown",
      "metadata": {
        "id": "L3KnF6F_IOwh"
      },
      "source": [
        "# LATIHAN - P0W1D3AM : FUNCTION"
      ]
    },
    {
      "cell_type": "markdown",
      "metadata": {
        "id": "KD9SBZu6IWat"
      },
      "source": [
        "## Required/Keyword Argument"
      ]
    },
    {
      "cell_type": "markdown",
      "metadata": {
        "id": "SABgqKWrp27J"
      },
      "source": [
        "**NOMOR 1**\n",
        "\n",
        "Buatlah sebuah function untuk menampilkan tanda plus (`+`) sebanyak\n",
        "`n`.\n",
        "  * Input : `n` | Jumlah tanda plus (`+`) yang diinginkan | int\n",
        "  * Output : Jumlah tanda plus yang ditampilkan\n",
        "\n",
        "| Input | Output |\n",
        "| - | - |\n",
        "| n = 1 | + |\n",
        "| n = 3 | + <br /> + <br /> + |\n",
        "| n = 5 | + <br /> + <br /> + <br /> + <br /> + |\n",
        "| n = 0 | Tampilkan pesan `Input salah` |\n",
        "| n = -1 | Tampilkan pesan `Input salah` |\n",
        "\n"
      ]
    },
    {
      "cell_type": "code",
      "execution_count": 5,
      "metadata": {
        "id": "SbhEwiOmvuIs"
      },
      "outputs": [
        {
          "name": "stdout",
          "output_type": "stream",
          "text": [
            "input salah\n"
          ]
        }
      ],
      "source": [
        "def function(n):\n",
        "    a = 0\n",
        "    if n <= 0:\n",
        "        return print('input salah')\n",
        "\n",
        "    while a != n+1:\n",
        "        print('+')\n",
        "        a += 1\n",
        "\n",
        "function(-1)"
      ]
    },
    {
      "cell_type": "markdown",
      "metadata": {
        "id": "ci9Cw5h8I7_a"
      },
      "source": [
        "**NOMOR 2**\n",
        "\n",
        "Buat sebuah function untuk mereturn hanya angka genap (positif/negatif) dari sekumpulan list yang berisi nilai-nilai (tidak termasuk 0).\n",
        "  * Input : `daftar_angka` : daftar angka-angka | list of int\n",
        "  * Output : daftar angka-angka genap | list of int\n",
        "\n",
        "| No | Input | Output |\n",
        "| - | - | - |\n",
        "| 1 | daftar_angka = [1, 2, 3, 4, 5, 6] | [2, 4, 6] |\n",
        "| 2 | daftar_angka = [0, 1, 3, 5, 7, 9] | [] |\n",
        "| 3 | daftar_angka = [-10, -9, -8, -7]  | [-10, -8] |\n"
      ]
    },
    {
      "cell_type": "code",
      "execution_count": 12,
      "metadata": {},
      "outputs": [
        {
          "name": "stdout",
          "output_type": "stream",
          "text": [
            "[2, 4, 6]\n"
          ]
        }
      ],
      "source": [
        "b = []\n",
        "\n",
        "def function2(n):\n",
        "    a = 0\n",
        "    b = []\n",
        "    while a != len(n):\n",
        "        if n[a] % 2 == 0 and n[a] != 0:\n",
        "            b.append(n[a])\n",
        "        a += 1\n",
        "    return b\n",
        "\n",
        "daftar_angka = [0, 1, 2, 3, 4, 5, 6]\n",
        "\n",
        "x = function2(daftar_angka)\n",
        "print(x)"
      ]
    },
    {
      "cell_type": "code",
      "execution_count": null,
      "metadata": {
        "id": "o3q8Oxxpvu0X"
      },
      "outputs": [],
      "source": []
    },
    {
      "cell_type": "markdown",
      "metadata": {
        "id": "jz00PX1Sp6_S"
      },
      "source": [
        "## Default Argument"
      ]
    },
    {
      "cell_type": "markdown",
      "metadata": {
        "id": "3wEoWefTIg9a"
      },
      "source": [
        "**NOMOR 3**\n",
        "\n",
        "Buatlah sebuah function untuk menampilkan `nama` dan `negara`. Jika tidak ada value pada parameter `negara`, isi dengan `Indonesia`.\n",
        "  * Input : `nama` | str\n",
        "  * Input : `negara` | str\n",
        "\n",
        "| No | Input | Output |\n",
        "| - | - | - |\n",
        "| 1 | nama = Frank <br /> <br /> negara = USA| \"Halo Frank dari USA\" |\n",
        "| 2 | nama = Smith <br /> <br /> negara = Jerman| \"Halo Smith dari Jerman\" |\n",
        "| 3 | nama = Anton | \"Halo Anton dari Indonesia\" |\n",
        "| 4 | negara = Singapura | *--Program Error--* |"
      ]
    },
    {
      "cell_type": "code",
      "execution_count": 23,
      "metadata": {
        "id": "9N_os9wFvvwj"
      },
      "outputs": [
        {
          "name": "stdout",
          "output_type": "stream",
          "text": [
            "Error\n",
            "Halo budi dari as\n"
          ]
        }
      ],
      "source": [
        "def function3(nama, negara):\n",
        "    if negara == None:\n",
        "        print(\"Halo\", nama, \"dari Indonesia\")\n",
        "    elif nama == None:\n",
        "        print(\"Error\")\n",
        "    else:\n",
        "        print(\"Halo\", nama, \"dari\", negara)\n",
        "        \n",
        "nama=None\n",
        "negara=\"jerman\"\n",
        "\n",
        "function3(nama, negara)\n",
        "function3(negara=\"as\", nama=\"budi\")"
      ]
    },
    {
      "cell_type": "markdown",
      "metadata": {
        "id": "318TQDqvcHKR"
      },
      "source": [
        "**NOMOR 4**\n",
        "\n",
        "Buatlah sebuah function untuk me-return luas dari dua angka yang dimasukkan berdasarkan jenis bidangnya.\n",
        "  * Jika hanya 1 angka yang dimasukkan, maka diasumsikan angka tersebut akan digunakan untuk panjang-dan-lebar atau alas-dan-tinggi.\n",
        "  * Input : `mode` : jenis bidang (segitiga/persegi) | str\n",
        "    - `mode = segitiga`\n",
        "    - `mode = persegi`\n",
        "  * Input : `bilangan_1` : bilangan ke-1 | int\n",
        "  * Input : `bilangan_2` : bilangan ke-2 | int\n",
        "  * Jika tidak ada bilangan yang dimasukkan, maka tampilkan pesan **\"Input harus ada angka\"**.\n",
        "  * Jika bilangan_1 tidak dimasukkan dan hanya ada bilangan_2, maka tampilkan pesan **\"Input harus ada bilangan_1\"**.\n",
        "\n",
        "  > *Rumus luas persegi = bilangan_1 (panjang) * bilangan_2 (lebar)*\n",
        "  >\n",
        "  > *Rumus luas segitiga = bilangan_1 (alas) * bilangan_2 (tinggi) / 2*\n",
        "\n",
        "---\n",
        "Asumsi :\n",
        "* Angka yang dimasukkan maksimal 2 angka.\n",
        "* Angka yang dimasukkan hanyalah angka yang lebih besar dari 0.\n",
        "\n",
        "*Hint : Gunakan konsep bahwa sisi bidang tidak mungkin bernilai 0.*\n",
        "\n",
        "\n",
        "| No | Input | Output |\n",
        "| - | - | - |\n",
        "| 1 | mode = persegi, <br /> <br /> bilangan_1 = 10, <br /> <br /> bilangan_2 = 20 | 200 |\n",
        "| 2 | mode = segitiga, <br /> <br /> bilangan_1 = 10, <br /> <br /> bilangan_2 = 20 | 100 |\n",
        "| 3 | mode = persegi | \"Input kurang angka\" |\n",
        "| 4 | mode = persegi, <br /> <br /> bilangan_1 = 8 | 64 |\n",
        "| 5 | mode = persegi, <br /> <br /> bilangan_2 = 8 | \"Input harus ada bilangan_1\" |\n",
        "| 6 | bilangan_1 = 10, <br /> <br /> bilangan_2 = 20 | *-Program Error-* |"
      ]
    },
    {
      "cell_type": "code",
      "execution_count": 35,
      "metadata": {
        "id": "6CC5q28PvxFQ"
      },
      "outputs": [
        {
          "name": "stdout",
          "output_type": "stream",
          "text": [
            "50.0\n"
          ]
        }
      ],
      "source": [
        "def function4(mode, bilangan_1, bilangan_2):\n",
        "    luas = 0\n",
        "    \n",
        "    if bilangan_1 == None and bilangan_2 == None:\n",
        "        return(print(\"Input kurang angka\"))\n",
        "    if bilangan_1 == None:\n",
        "        return(print(\"Input harus ada bilangan 1\"))\n",
        "    \n",
        "    if bilangan_2 == None:    \n",
        "        bilangan_2 = bilangan_1\n",
        "     \n",
        "    if bilangan_2 > 0 and bilangan_1 > 0:           \n",
        "        if mode == \"persegi\":\n",
        "            luas = bilangan_1 * bilangan_2\n",
        "            return luas\n",
        "        elif mode == \"segitiga\":\n",
        "            luas = 0.5 * bilangan_1 * bilangan_2\n",
        "            return luas\n",
        "        else:\n",
        "            return (print(\"mode tidak ditemukan\"))\n",
        "    \n",
        "mode = \"segitiga\"\n",
        "bilangan_1 = 10\n",
        "bilangan_2 = None \n",
        "\n",
        "luas = function4(mode, bilangan_1, bilangan_2)\n",
        "print(luas)"
      ]
    },
    {
      "cell_type": "markdown",
      "metadata": {
        "id": "382AEd81qiuI"
      },
      "source": [
        "## Variable-Length Argument"
      ]
    },
    {
      "cell_type": "markdown",
      "metadata": {
        "id": "gy1BSwZQlhyd"
      },
      "source": [
        "**NOMOR 5**\n",
        "\n",
        "Buatlah sebuah function untuk :\n",
        "  * Mereturn angka disuatu posisi berdasarkan bilangan pertama dari sebuah daftar angka-angka.\n",
        "  * Urutan posisi dimulai dari bilangan kedua.\n",
        "  * Jika bilangan pertama melebihi jumlah banyaknya daftar angka-angka, maka return **-1**.\n",
        "  * Input : daftar angka\n",
        "\n",
        "| No | Input | Output |\n",
        "| - | - | - |\n",
        "| 1 | (3, 10, 20, 30, 40) | 40 |\n",
        "| 2 | (0, -10, 10)| -10 |\n",
        "| 3 | (1, 2, 300, 10) | 300 |\n",
        "| 4 | (100, 200, 300, -400) | -1 |\n",
        "| 5 | (4, 200, 300, -400) | -1 |"
      ]
    },
    {
      "cell_type": "code",
      "execution_count": 41,
      "metadata": {
        "id": "2KJH4Whvvxux"
      },
      "outputs": [
        {
          "name": "stdout",
          "output_type": "stream",
          "text": [
            "-1\n"
          ]
        }
      ],
      "source": [
        "def function5(a, *num):\n",
        "    if a > len(num) or a < 0:\n",
        "        return print(\"-1\")\n",
        "    else:\n",
        "        print(num[a])\n",
        "        return num\n",
        "\n",
        "function5(100, 10, 20, 30, 40)"
      ]
    },
    {
      "cell_type": "markdown",
      "metadata": {
        "id": "1ZrIX3RTzgCH"
      },
      "source": [
        "**NOMOR 6**\n",
        "\n",
        "Buatlah sebuah function untuk menampilkan nama siswa yang memiliki nilai paling besar\n",
        "  * Input : Beberapa nama_siswa beserta nilai_siswa\n",
        "\n",
        "\n",
        "| No | Input | Output |\n",
        "| - | - | - |\n",
        "| 1 | (anwar=90, budi=40, charlie=100) | 'charlie' |\n",
        "| 2 | (tom=30, rian=90, jim=60, lily=70, abby=40)| 'rian' |\n",
        "| 3 | (frank=100) | 'frank' |"
      ]
    },
    {
      "cell_type": "code",
      "execution_count": 56,
      "metadata": {
        "id": "v--M5IeUvydN"
      },
      "outputs": [
        {
          "name": "stdout",
          "output_type": "stream",
          "text": [
            "90 budi\n"
          ]
        }
      ],
      "source": [
        "def function6(**list_nama):\n",
        "    list_nilai = []\n",
        "    list_nama_full = []\n",
        "    \n",
        "    for nilai in list_nama:\n",
        "        list_nilai.append(list_nama[nilai])\n",
        "    for nama in list_nama:\n",
        "        list_nama_full.append(nama)\n",
        "    \n",
        "    max_nilai = max(list_nilai)\n",
        "    index_max_nilai = list_nilai.index(max_nilai)\n",
        "    return max_nilai, list_nama_full[index_max_nilai]\n",
        "\n",
        "max_nilai,nama = function6(budi=90, joni=30, rudi=65)   \n",
        "print(max_nilai, nama)"
      ]
    },
    {
      "attachments": {},
      "cell_type": "markdown",
      "metadata": {},
      "source": [
        "## Module"
      ]
    },
    {
      "cell_type": "code",
      "execution_count": 69,
      "metadata": {},
      "outputs": [],
      "source": [
        "import person"
      ]
    },
    {
      "cell_type": "code",
      "execution_count": 62,
      "metadata": {},
      "outputs": [
        {
          "data": {
            "text/plain": [
              "['laptop', 'smartphone', 'tablet']"
            ]
          },
          "execution_count": 62,
          "metadata": {},
          "output_type": "execute_result"
        }
      ],
      "source": [
        "person.device"
      ]
    },
    {
      "cell_type": "code",
      "execution_count": 64,
      "metadata": {},
      "outputs": [
        {
          "name": "stdout",
          "output_type": "stream",
          "text": [
            "hello world\n"
          ]
        }
      ],
      "source": [
        "person.display()"
      ]
    },
    {
      "cell_type": "code",
      "execution_count": 70,
      "metadata": {},
      "outputs": [
        {
          "data": {
            "text/plain": [
              "'budi'"
            ]
          },
          "execution_count": 70,
          "metadata": {},
          "output_type": "execute_result"
        }
      ],
      "source": [
        "from person import device\n",
        "device\n",
        "nama"
      ]
    },
    {
      "cell_type": "code",
      "execution_count": 68,
      "metadata": {},
      "outputs": [
        {
          "data": {
            "text/plain": [
              "['__builtins__',\n",
              " '__cached__',\n",
              " '__doc__',\n",
              " '__file__',\n",
              " '__loader__',\n",
              " '__name__',\n",
              " '__package__',\n",
              " '__spec__',\n",
              " 'device',\n",
              " 'display',\n",
              " 'nama']"
            ]
          },
          "execution_count": 68,
          "metadata": {},
          "output_type": "execute_result"
        }
      ],
      "source": [
        "dir (person)"
      ]
    },
    {
      "cell_type": "code",
      "execution_count": 71,
      "metadata": {},
      "outputs": [
        {
          "data": {
            "text/plain": [
              "['C:\\\\Users\\\\Gilbert KH\\\\AppData\\\\Roaming\\\\Python\\\\Python38\\\\site-packages\\\\numpy']"
            ]
          },
          "execution_count": 71,
          "metadata": {},
          "output_type": "execute_result"
        }
      ],
      "source": [
        "import numpy as np\n",
        "np.__path__"
      ]
    },
    {
      "cell_type": "markdown",
      "metadata": {
        "id": "SEB_VdwJquxl"
      },
      "source": [
        "## Free Practice"
      ]
    },
    {
      "cell_type": "markdown",
      "metadata": {
        "id": "m6GJVgJLIKkA"
      },
      "source": [
        "**NOMOR 7**\n",
        "\n",
        "Buatlah sebuah function untuk menampilkan tanda plus (`+`) berbentuk segitiga dibawah ini.\n",
        "  * Input : `n` | int\n",
        "  * Output : Jumlah tanda plus yang dimunculkan.\n",
        "\n",
        "| Input | Output |\n",
        "| - | - |\n",
        "| n = 1 | + |\n",
        "| n = 2 | ++ <br /> +|\n",
        "| n = 3 | +++ <br /> ++ <br /> +|\n",
        "| n = 4 | ++++ <br /> +++ <br /> ++ <br /> +|\n",
        "| n = 5 | +++++ <br /> ++++ <br /> +++ <br /> ++ <br /> +|\n",
        "| n = -1 | *--error--* |\n",
        "\n"
      ]
    },
    {
      "cell_type": "code",
      "execution_count": 52,
      "metadata": {
        "id": "knZvKYjYvzVd"
      },
      "outputs": [
        {
          "name": "stdout",
          "output_type": "stream",
          "text": [
            "***"
          ]
        }
      ],
      "source": [
        "def function7(n):\n",
        "    i = 0\n",
        "    j = 0\n",
        "    # while i != n:\n",
        "    #     print(\" \" * (n-i-1), end=\"\")\n",
        "    #     print(\"*\" * (2*i+1))\n",
        "    #     i += 1\n",
        "    while i != n:\n",
        "        while j != i:\n",
        "            print(\"*\", end=\"\")\n",
        "            j += 1\n",
        "        i += 1\n",
        "\n",
        "function7(4)"
      ]
    },
    {
      "cell_type": "markdown",
      "metadata": {
        "id": "IlLSwYyvrf1D"
      },
      "source": [
        "**NOMOR 8**\n",
        "\n",
        "Buatlah sebuah function untuk mengambil huruf vokal dari sebuah teks dan masukkan ke dalam sebuah list. Return list yang terdiri dari huruf vokal tersebut.\n",
        "  * Input : `teks` | str\n",
        "\n",
        "| No | Input | Output |\n",
        "| - | - | - |\n",
        "| 1 | teks = 'selamat pagi' | ['e', 'a', 'a', 'a', 'i'] |\n",
        "| 2 | teks = '1002'| [] |\n",
        "| 3 | teks = 'myth' | [] |"
      ]
    },
    {
      "cell_type": "code",
      "execution_count": null,
      "metadata": {
        "id": "lKQu36j7v0BH"
      },
      "outputs": [],
      "source": []
    },
    {
      "cell_type": "markdown",
      "metadata": {
        "id": "TwH2khkhxONF"
      },
      "source": [
        "**NOMOR 9**\n",
        "\n",
        "Buatlah sebuah function untuk mengambil huruf selain huruf vokal (huruf konsonan) dari sebuah teks dan masukkan ke dalam sebuah list. Return list yang terdiri dari huruf konsonan tersebut.\n",
        "  * Input : `teks` | str\n",
        "  * Jika karakter tersebut merupakan angka, maka jangan diambil.\n",
        "\n",
        "| No | Input | Output |\n",
        "| - | - | - |\n",
        "| 1 | teks = 'selamat pagi' | ['s', 'l', 'm', 't', 'p', 'g] |\n",
        "| 2 | teks = '1002'| [] |\n",
        "| 3 | teks = 'myth' | ['m', 'y', 't', 'h'] |\n",
        "\n"
      ]
    },
    {
      "cell_type": "code",
      "execution_count": null,
      "metadata": {
        "id": "9LJJ8WO1v0pR"
      },
      "outputs": [],
      "source": []
    },
    {
      "cell_type": "markdown",
      "metadata": {
        "id": "v7T-3NfFVM6E"
      },
      "source": [
        "**NOMOR 10**\n",
        "\n",
        "Buatlah sebuah function untuk mereturn hasil pengecekan dari sekumpulan angka yang dimasukkan, apakah bilangan pertama merupakan penjumlahan dari bilangan kedua, ketiga, dst (asumsikan bilangan yang dimasukkan tidak terbatas).\n",
        "  * Input : `bil_1` : bilangan ke-1 | int\n",
        "  * Input : `bil_2` : bilangan ke-2 | int\n",
        "  * Input : `bil_3` : bilangan ke-3 | int\n",
        "  * Input : `bil_4` : bilangan ke-4 | int\n",
        "  * dst\n",
        "\n",
        "| No | Input | Output |\n",
        "| - | - | - |\n",
        "| 1 | bil_1 = 10, <br/><br/> bil_2 = 20, <br/><br/> bil_3 = 50, <br/><br/> bil_4 = 600 | False |\n",
        "| 2 | bil_1 = 0, <br/><br/> bil_2 = 10, <br/><br/> bil_3 = -10 | True |\n",
        "| 3 | bil_1 = 20, <br/><br/> bil_2 = 20 | True |\n",
        "| 4 | bil_1 = 20 | False |\n",
        "| 5 | bil_1 = 10, <br/><br/> bil_2 = 200, <br/><br/> bil_3 = 300, <br/><br/> bil_4 = 400 <br/> <br/> bil_5 = 500 | False |"
      ]
    },
    {
      "cell_type": "code",
      "execution_count": null,
      "metadata": {
        "id": "IvCJHSapv1Pi"
      },
      "outputs": [],
      "source": []
    }
  ],
  "metadata": {
    "colab": {
      "provenance": []
    },
    "kernelspec": {
      "display_name": "Python 3",
      "name": "python3"
    },
    "language_info": {
      "codemirror_mode": {
        "name": "ipython",
        "version": 3
      },
      "file_extension": ".py",
      "mimetype": "text/x-python",
      "name": "python",
      "nbconvert_exporter": "python",
      "pygments_lexer": "ipython3",
      "version": "3.8.5"
    }
  },
  "nbformat": 4,
  "nbformat_minor": 0
}
