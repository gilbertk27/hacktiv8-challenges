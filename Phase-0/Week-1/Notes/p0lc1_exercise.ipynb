{
  "cells": [
    {
      "cell_type": "markdown",
      "metadata": {
        "id": "A3oM9pFnN2wR"
      },
      "source": [
        "# P0 LC1 Exercise"
      ]
    },
    {
      "cell_type": "markdown",
      "metadata": {
        "id": "BBQGXBW3HBde"
      },
      "source": [
        "## Soal 1"
      ]
    },
    {
      "cell_type": "markdown",
      "metadata": {
        "id": "NvsStBMLFDMX"
      },
      "source": [
        "Buatlah fungsi untuk menghitung skor kebahagiaan berdasarkan jenis `aktivitas`, dengan ketentuan di bawah:\n",
        "\n",
        "- Aktivitas `Minum Coklat Panas` = 5 poin per jam\n",
        "- Aktivitas `Memberi Makan Gary` = 8 poin per jam\n",
        "- Aktivitas `Bermain Tic Tac Toe` = 7 poin per jam\n",
        "\n",
        "contoh:\n",
        "```\n",
        ">>> input: happiness_score(duration=2, activity='Minum Coklat Panas')\n",
        ">>> output: 10\n",
        "\n",
        ">>> input: happiness_score(duration=3,5, activity='Memberi Makan Gary')\n",
        ">>> output: 28\n",
        "```"
      ]
    },
    {
      "cell_type": "code",
      "execution_count": 8,
      "metadata": {
        "id": "POKA9UdOEBjC"
      },
      "outputs": [
        {
          "name": "stdout",
          "output_type": "stream",
          "text": [
            "28.0\n",
            "10\n",
            "140\n"
          ]
        }
      ],
      "source": [
        "# code here\n",
        "\n",
        "def happiness_score(duration, activity):\n",
        "    if activity == 'Memberi Makan Gary':\n",
        "        return(duration*8)\n",
        "    elif activity == 'Minum Coklat Panas':\n",
        "        return(duration*5)\n",
        "    elif activity == 'Bermain Tic Tac Toe':\n",
        "        return(duration*7)\n",
        "\n",
        "cal_1 = happiness_score(3.5, 'Memberi Makan Gary')\n",
        "cal_2 = happiness_score(2, 'Minum Coklat Panas')\n",
        "cal_3 = happiness_score(20, 'Bermain Tic Tac Toe')\n",
        "\n",
        "print(cal_1)\n",
        "print(cal_2)\n",
        "print(cal_3)"
      ]
    },
    {
      "cell_type": "markdown",
      "metadata": {
        "id": "HfaSatTLHDdG"
      },
      "source": [
        "## Soal 2"
      ]
    },
    {
      "cell_type": "markdown",
      "metadata": {
        "id": "xXFe7ev9G9M2"
      },
      "source": [
        "Buat function untuk menghitung `total poin` dari beberapa `aktivitas` yang dilakukan, manfaatkan fungsi yang telah dibuat sebelumnya di dalam function ini.\n",
        "\n",
        "Notes:\n",
        "- Function yang dibuat memiliki paremeter berupa:\n",
        "  - `activity_duration`: menyimpan lama durasi untuk tiap aktivitas\n",
        "  - `*activities`: menyimpan nama-nama aktivitas\n",
        "- Dalam kasus ini diasumsikan setiap aktivitas memiliki durasi yang sama (`activity_duration`).\n",
        "\n",
        "Contoh:\n",
        "```\n",
        ">>> input: total_score('Minum Coklat Panas', 'Bermain Tic Tac Toe', activity_duration=3)\n",
        ">>> output: 36\n",
        "\n",
        "penjelasan:\n",
        "- Minum Coklat panas -> 5 poin per jam -> 3 * 5 = 15 poin\n",
        "- Bermain Tic Tac Toe -> 7 poin per jam -> 3 * 7 = 21 poin\n",
        "- Total: 36\n",
        "```"
      ]
    },
    {
      "cell_type": "code",
      "execution_count": 16,
      "metadata": {
        "id": "XvQZ85SeMdOn"
      },
      "outputs": [
        {
          "name": "stdout",
          "output_type": "stream",
          "text": [
            "36\n"
          ]
        }
      ],
      "source": [
        "# code here\n",
        "    \n",
        "# kalo di soal kan yg diminta activity_duration di blkng, berarti ngga masalah mas kita ubah urutannya? no prob\n",
        "    \n",
        "def total_score(*activities, activity_duration):\n",
        "# def total_score(activity_duration, *activities,):\n",
        "    calculate = 0\n",
        "    for key in activities:\n",
        "        calculate = calculate + happiness_score(activity_duration, key)\n",
        "        # if key == 'Minum Coklat Panas':\n",
        "        #     calculate += activity_duration*5\n",
        "        # elif key == 'Bermain Tic Tac Toe':\n",
        "        #     calculate += activity_duration*7\n",
        "        # elif key == 'Memberi Makan Gary':\n",
        "        #     calculate += activity_duration*8\n",
        "    return(calculate)\n",
        "\n",
        "total = total_score(\"Minum Coklat Panas\", \"Bermain Tic Tac Toe\", activity_duration = 3)\n",
        "print(total)"
      ]
    },
    {
      "cell_type": "markdown",
      "metadata": {
        "id": "1lvQ1eR8M55T"
      },
      "source": [
        "## Flowchart"
      ]
    },
    {
      "cell_type": "markdown",
      "metadata": {
        "id": "TvHIHPAtM8-G"
      },
      "source": [
        "Buatlah flowchart untuk menggambarkan proses di `Soal 2`"
      ]
    },
    {
      "cell_type": "markdown",
      "metadata": {
        "id": "7Y2802VlPD4l"
      },
      "source": [
        "## Unit Testing"
      ]
    },
    {
      "cell_type": "markdown",
      "metadata": {
        "id": "G7oE24blPGoW"
      },
      "source": [
        "Lakukan Unit Testing pada kedua function yang telah dibuat.\n",
        "\n",
        "***Notes:***\n",
        "  \n",
        "Pengujian Unit testing dapat dilakukan pada cell .ipynb dengan cara:\n",
        "- Cukup tulis kerangka unit test pada cell code tanpa menggunakan idiom ini:\n",
        "  \n",
        "  ```py\n",
        "  if __name__() == '__main__'\n",
        "  ```\n",
        "\n",
        "- Sebagai gantinya gunakan:\n",
        "\n",
        "  ```py\n",
        "  unittest.main(argv=[''], exit=False)\n",
        "  ```"
      ]
    },
    {
      "cell_type": "code",
      "execution_count": 17,
      "metadata": {
        "id": "GxRr_8bLPxrj"
      },
      "outputs": [
        {
          "name": "stderr",
          "output_type": "stream",
          "text": [
            "..\n",
            "----------------------------------------------------------------------\n",
            "Ran 2 tests in 0.004s\n",
            "\n",
            "OK\n"
          ]
        },
        {
          "data": {
            "text/plain": [
              "<unittest.main.TestProgram at 0x23a49e11730>"
            ]
          },
          "execution_count": 17,
          "metadata": {},
          "output_type": "execute_result"
        }
      ],
      "source": [
        "# code here\n",
        "\n",
        "cal_1 = happiness_score(3.5, 'Memberi makan Gary')\n",
        "cal_2 = happiness_score(2, 'Minum Coklat Panas')\n",
        "cal_3 = happiness_score(20, 'Memberi makan Gary')\n",
        "\n",
        "total = total_score(\"Minum Coklat Panas\", \"Bermain Tic Tac Toe\", activity_duration = 3)\n",
        "\n",
        "\n",
        "# working area\n",
        "import unittest\n",
        "\n",
        "class TestActivities(unittest.TestCase):\n",
        "    def test_happiness_score(self):\n",
        "        self.assertEqual(happiness_score(3.5, 'Memberi Makan Gary'), 28)\n",
        "        self.assertEqual(happiness_score(2, 'Minum Coklat Panas'), 10)\n",
        "        self.assertEqual(happiness_score(20, 'Bermain Tic Tac Toe'), 140)\n",
        "\n",
        "    def test_total_session_burned_cal(self):\n",
        "        self.assertEqual(total_score(\"Minum Coklat Panas\", \"Bermain Tic Tac Toe\", activity_duration = 3), 36)\n",
        "\n",
        "unittest.main(argv=[''], exit=False)\n",
        "\n",
        "# unittest()=='main'\n",
        "\n",
        "# if __name__ == \"__main__\":\n",
        "#       unittest.main()"
      ]
    }
  ],
  "metadata": {
    "colab": {
      "collapsed_sections": [
        "BZjCZetTZLyx",
        "ZkQ0sEbEcfap",
        "_bpBYiN2fuDG",
        "EcSGp8-BvU_D",
        "aQacdO4Y1Uyp",
        "ZM2jY2aLyRAD"
      ],
      "provenance": []
    },
    "kernelspec": {
      "display_name": "Python 3",
      "name": "python3"
    },
    "language_info": {
      "codemirror_mode": {
        "name": "ipython",
        "version": 3
      },
      "file_extension": ".py",
      "mimetype": "text/x-python",
      "name": "python",
      "nbconvert_exporter": "python",
      "pygments_lexer": "ipython3",
      "version": "3.8.5"
    }
  },
  "nbformat": 4,
  "nbformat_minor": 0
}
