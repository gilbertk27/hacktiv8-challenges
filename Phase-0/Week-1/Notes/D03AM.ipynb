{
 "cells": [
  {
   "attachments": {},
   "cell_type": "markdown",
   "metadata": {},
   "source": [
    "### Exercise - 1\n",
    "\n",
    "Write a Python program to construct the following pattern, using a nested loop number. \n",
    "\n",
    "Expected Output: \n",
    "```\n",
    "1\n",
    "22\n",
    "333\n",
    "4444\n",
    "55555\n",
    "666666\n",
    "7777777\n",
    "88888888\n",
    "999999999\n",
    "```"
   ]
  },
  {
   "cell_type": "code",
   "execution_count": 41,
   "metadata": {},
   "outputs": [
    {
     "name": "stdout",
     "output_type": "stream",
     "text": [
      "1\n",
      "22\n",
      "333\n",
      "4444\n",
      "55555\n",
      "666666\n",
      "7777777\n",
      "88888888\n",
      "999999999\n"
     ]
    }
   ],
   "source": [
    "input = 9\n",
    "n = 1\n",
    "m = 2\n",
    "a = 1\n",
    "\n",
    "while m != input+2:\n",
    "    while a != m:\n",
    "        print(n, end=\"\")\n",
    "        a += 1\n",
    "    print(\"\")\n",
    "    m += 1\n",
    "    n += 1\n",
    "    a = 1"
   ]
  },
  {
   "attachments": {},
   "cell_type": "markdown",
   "metadata": {},
   "source": [
    "### Exercise - 2\n",
    "\n",
    "Write a Python program to check the validity of passwords input by users. \n",
    "\n",
    "Validation : \n",
    "1. At least 1 letter between [a-z] and 1 letter between [A-Z]. \n",
    "2. At least 1 number between [0-9].\n",
    "3. At least 1 character from [$#@].\n",
    "4. Minimum length 6 characters.\n",
    "5. Maximum length 16 characters.\n"
   ]
  },
  {
   "cell_type": "code",
   "execution_count": 48,
   "metadata": {},
   "outputs": [
    {
     "name": "stdout",
     "output_type": "stream",
     "text": [
      "3 1 7 1\n",
      "Valid\n"
     ]
    }
   ],
   "source": [
    "input = \"Password123$\"\n",
    "specialCharacters = set('$#@')\n",
    "number = 0\n",
    "upper = 0\n",
    "lower = 0\n",
    "special = 0\n",
    "\n",
    "if len(input) < 6:\n",
    "    print(\"Invalid\")\n",
    "    exit()\n",
    "elif len(input) > 16:\n",
    "    print(\"Invalid\")\n",
    "    exit()\n",
    "    \n",
    "for ele in input:\n",
    "    if ele.isnumeric() == True:\n",
    "        number += 1\n",
    "    elif ele.isupper() == True:\n",
    "        upper += 1\n",
    "    elif ele.islower() == True:\n",
    "        lower += 1\n",
    "    elif specialCharacters.intersection(ele):\n",
    "        special += 1\n",
    "\n",
    "if (number > 0) and (upper > 0) and (lower > 0) and (special > 0):\n",
    "    print(number, upper, lower, special)\n",
    "    print(\"Valid\")\n",
    "else:\n",
    "    print(number, upper, lower, special)\n",
    "    print(\"Invalid\")\n"
   ]
  }
 ],
 "metadata": {
  "kernelspec": {
   "display_name": "base",
   "language": "python",
   "name": "python3"
  },
  "language_info": {
   "codemirror_mode": {
    "name": "ipython",
    "version": 3
   },
   "file_extension": ".py",
   "mimetype": "text/x-python",
   "name": "python",
   "nbconvert_exporter": "python",
   "pygments_lexer": "ipython3",
   "version": "3.8.5"
  },
  "orig_nbformat": 4
 },
 "nbformat": 4,
 "nbformat_minor": 2
}
