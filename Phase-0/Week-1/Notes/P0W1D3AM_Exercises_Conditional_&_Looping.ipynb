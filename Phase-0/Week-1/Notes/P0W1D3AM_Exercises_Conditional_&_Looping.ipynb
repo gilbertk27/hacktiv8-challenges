{
  "cells": [
    {
      "cell_type": "markdown",
      "metadata": {
        "id": "f3fwm9AXSf4W"
      },
      "source": [
        "# LATIHAN - P0W1D3AM : Conditional & Looping"
      ]
    },
    {
      "cell_type": "markdown",
      "metadata": {
        "id": "KwQ65oWbSk3E"
      },
      "source": [
        "**NOMOR 1**\n",
        "\n",
        "Buatlah sebuah kondisi untuk mengecek apakah variabel `a` **lebih kecil** dari variabel `b` berdasarkan nilai dibawah ini :\n",
        "* `a` = 100\n",
        "* `b` = 200\n",
        "\n",
        "Jika `True` maka tulis/cetak `a lebih kecil dari b`"
      ]
    },
    {
      "cell_type": "code",
      "execution_count": 8,
      "metadata": {
        "colab": {
          "base_uri": "https://localhost:8080/"
        },
        "id": "AX9Py_rX3Yia",
        "outputId": "633105e5-379d-4a1c-bb4c-af15c98e94a7"
      },
      "outputs": [
        {
          "name": "stdout",
          "output_type": "stream",
          "text": [
            "100 lebih kecil dari 200\n"
          ]
        }
      ],
      "source": [
        "a = 100\n",
        "b = 200\n",
        "if (a<b):\n",
        "  print(str(a) + ' lebih kecil dari '+ str(b))"
      ]
    },
    {
      "cell_type": "markdown",
      "metadata": {
        "id": "3VTram85TxLA"
      },
      "source": [
        "**NOMOR 2**\n",
        "\n",
        "Buatlah sebuah kondisi untuk mengecek apakah variabel `a` **lebih besar** dari variabel `b` berdasarkan nilai dibawah ini :\n",
        "* `a` = 100\n",
        "* `b` = 200\n",
        "\n",
        "Jika `True` maka tulis/cetak `a lebih besar dari b`"
      ]
    },
    {
      "cell_type": "code",
      "execution_count": 9,
      "metadata": {
        "colab": {
          "base_uri": "https://localhost:8080/"
        },
        "id": "vrpx5rzQ5F0w",
        "outputId": "735032ad-34fa-487c-923f-ea7ba0f213d2"
      },
      "outputs": [
        {
          "name": "stdout",
          "output_type": "stream",
          "text": [
            "300 lebih besar dari 200\n"
          ]
        }
      ],
      "source": [
        "a = 300\n",
        "b = 200\n",
        "if (a>b):\n",
        "  print(str(a) + ' lebih besar dari '+ str(b))"
      ]
    },
    {
      "cell_type": "markdown",
      "metadata": {
        "id": "nJ04rhbDUDuI"
      },
      "source": [
        "**NOMOR 3**\n",
        "\n",
        "Buatlah sebuah kondisi untuk mengecek apakah variabel `a` **tidak sama dengan**  variabel `b` berdasarkan nilai dibawah ini :\n",
        "* `a` = `januari`\n",
        "* `b` = `februari`\n",
        "\n",
        "Jika `True` maka tulis/cetak `a tidak sama dengan b`\n",
        "\n",
        "Jika `False` maka tulis/cetak `a sama dengan b`"
      ]
    },
    {
      "cell_type": "code",
      "execution_count": 11,
      "metadata": {
        "colab": {
          "base_uri": "https://localhost:8080/"
        },
        "id": "HeK1oDUU5GzF",
        "outputId": "2a73b52e-f688-4c1d-fc7b-92b802ad134e"
      },
      "outputs": [
        {
          "name": "stdout",
          "output_type": "stream",
          "text": [
            "januari tidak sama dengan februari\n"
          ]
        }
      ],
      "source": [
        "a = \"januari\"\n",
        "b = \"februari\"\n",
        "if (a==b):\n",
        "  print(a + ' sama dengan '+ b)\n",
        "else:\n",
        "  print(a + ' tidak sama dengan '+ b)\n"
      ]
    },
    {
      "cell_type": "markdown",
      "metadata": {
        "id": "bbHY6mLEfCtm"
      },
      "source": [
        "**NOMOR 4**\n",
        "\n",
        "Buatlah sebuah kondisi untuk mengecek apakah variabel `a` **sama dengan**  variabel `b` berdasarkan nilai dibawah ini :\n",
        "* `a` = 1000\n",
        "* `b` = 1000.0\n",
        "\n",
        "Jika `True` maka jangan menampilkan apapun\n",
        "\n",
        "Jika `False` maka tulis/cetak `a tidak sama dengan b`"
      ]
    },
    {
      "cell_type": "code",
      "execution_count": null,
      "metadata": {
        "id": "rNMl8DBt5H4M"
      },
      "outputs": [],
      "source": []
    },
    {
      "cell_type": "markdown",
      "metadata": {
        "id": "b_v1w6L-VsD8"
      },
      "source": [
        "**NOMOR 5**\n",
        "\n",
        "Buatlah sebuah kondisi untuk mengecek apakah variabel `a` **berbeda**  variabel `b` berdasarkan nilai dibawah ini :\n",
        "* `angka_ganjil` = `[1, 3, 5, 7]`\n",
        "* `angka_genap`  = `[2, 4, 6, 8]`\n",
        "\n",
        "Jika `True` maka tulis/cetak `angka_ganjil berbeda dengan angka_genap`\n",
        "\n",
        "Jika `False` maka tulis/cetak `angka_ganjil sama dengan angka_genap`"
      ]
    },
    {
      "cell_type": "code",
      "execution_count": 1,
      "metadata": {
        "id": "z7EYadWl57Ff"
      },
      "outputs": [
        {
          "name": "stdout",
          "output_type": "stream",
          "text": [
            "angka ganjil tidak sama dengan angka genap\n"
          ]
        }
      ],
      "source": [
        "#native\n",
        "\n",
        "angka_ganjil = [1, 3, 5, 7]\n",
        "angka_genap  = [2, 4, 6, 8]\n",
        "\n",
        "if angka_ganjil != angka_genap:\n",
        "    print(\"angka ganjil tidak sama dengan angka genap\")\n",
        "else:\n",
        "    print(\"angka ganjil sama dengan angka genap\")"
      ]
    },
    {
      "cell_type": "code",
      "execution_count": 6,
      "metadata": {},
      "outputs": [
        {
          "name": "stdout",
          "output_type": "stream",
          "text": [
            "10000\n"
          ]
        }
      ],
      "source": [
        "#ternary\n",
        "a = 100\n",
        "b = 200\n",
        "\n",
        "# (\"angka ganjil tidak sama dengan angka genap\") if angka_ganjil != angka_genap else (\"angka ganjil sama dengan angka genap\")\n",
        "\n",
        "c=10000 if a<b else 20000\n",
        "print(c)"
      ]
    },
    {
      "cell_type": "markdown",
      "metadata": {
        "id": "SYcUlu-Qch44"
      },
      "source": [
        "**NOMOR 6**\n",
        "\n",
        "Buatlah sebuah kondisi untuk mengecek apakah variabel-variabel dibawah ini mempunyai nilai atau tidak\n",
        "\n",
        "* `nama` = `budi`\n",
        "* `usia` = 20\n",
        "* `jenis_kelamin_pria` = True\n",
        "* `alamat` = `None`\n",
        "* `jumlah_motor` = 0\n",
        "* `punya_rumah` = `False`\n",
        "\n",
        "Jika True maka tulis/cetak `ada`\n",
        "\n",
        "Jika False maka tulis/cetak `tidak ada`"
      ]
    },
    {
      "cell_type": "code",
      "execution_count": 21,
      "metadata": {},
      "outputs": [
        {
          "name": "stdout",
          "output_type": "stream",
          "text": [
            "usia tidak lengkap\n"
          ]
        }
      ],
      "source": [
        "nama = \"asdsd\"\n",
        "usia = None\n",
        "jenis_kelamin = \"laki-laki\"\n",
        "alamat = \"bandung\"\n",
        "jumlah_motor = 2\n",
        "punya_rumah = True\n",
        "\n",
        "# if nama.isnull() and usia.isnull() and jenis_kelamin.isnull() and alamat.isnull() and jumlah_motor.isnull() and punya_rumah.isnull():\n",
        "#     print(\"data tidak lengkap\")\n",
        "    \n",
        "if nama and usia and jenis_kelamin and alamat and jumlah_motor and punya_rumah:\n",
        "    print(\"data lengkap\")\n",
        "elif not nama:\n",
        "    print(\"nama tidak lengkap\")\n",
        "elif not usia:\n",
        "    print(\"usia tidak lengkap\")\n",
        "elif not jenis_kelamin:\n",
        "    print(\"jenis kelamin tidak lengkap\")\n",
        "elif not alamat:\n",
        "    print(\"alamat tidak lengkap\")\n",
        "elif not jumlah_motor:\n",
        "    print(\"jumlah motor tidak lengkap\")\n",
        "elif not punya_rumah:\n",
        "    print(\"punya rumah tidak lengkap\")"
      ]
    },
    {
      "cell_type": "code",
      "execution_count": 54,
      "metadata": {},
      "outputs": [
        {
          "name": "stdout",
          "output_type": "stream",
          "text": [
            "dict_keys(['nama', 'usia', 'jenis_kelamin', 'alamat', 'jumlah_motor', 'punya_rumah'])\n",
            "dict_values(['anton ', None, True, 'bandung', 2, True])\n"
          ]
        },
        {
          "ename": "TypeError",
          "evalue": "'dict' object is not callable",
          "output_type": "error",
          "traceback": [
            "\u001b[1;31m---------------------------------------------------------------------------\u001b[0m",
            "\u001b[1;31mTypeError\u001b[0m                                 Traceback (most recent call last)",
            "\u001b[1;32m<ipython-input-54-7b7bdac8408c>\u001b[0m in \u001b[0;36m<module>\u001b[1;34m\u001b[0m\n\u001b[0;32m      5\u001b[0m \u001b[1;33m\u001b[0m\u001b[0m\n\u001b[0;32m      6\u001b[0m \u001b[1;32mfor\u001b[0m \u001b[0mkey\u001b[0m \u001b[1;32min\u001b[0m \u001b[0mlist1\u001b[0m\u001b[1;33m.\u001b[0m\u001b[0mkeys\u001b[0m\u001b[1;33m(\u001b[0m\u001b[1;33m)\u001b[0m\u001b[1;33m:\u001b[0m\u001b[1;33m\u001b[0m\u001b[1;33m\u001b[0m\u001b[0m\n\u001b[1;32m----> 7\u001b[1;33m     \u001b[1;32mif\u001b[0m \u001b[0mlist1\u001b[0m\u001b[1;33m(\u001b[0m\u001b[0mkey\u001b[0m\u001b[1;33m)\u001b[0m\u001b[1;33m:\u001b[0m\u001b[1;33m\u001b[0m\u001b[1;33m\u001b[0m\u001b[0m\n\u001b[0m\u001b[0;32m      8\u001b[0m         \u001b[0mprint\u001b[0m\u001b[1;33m(\u001b[0m\u001b[0mkey\u001b[0m\u001b[1;33m,\u001b[0m \u001b[1;34m\"ada\"\u001b[0m\u001b[1;33m)\u001b[0m\u001b[1;33m\u001b[0m\u001b[1;33m\u001b[0m\u001b[0m\n\u001b[0;32m      9\u001b[0m     \u001b[1;32melse\u001b[0m\u001b[1;33m:\u001b[0m\u001b[1;33m\u001b[0m\u001b[1;33m\u001b[0m\u001b[0m\n",
            "\u001b[1;31mTypeError\u001b[0m: 'dict' object is not callable"
          ]
        }
      ],
      "source": [
        "list1 = { 'nama': nama, 'usia':usia, 'jenis_kelamin': True, 'alamat':alamat,'jumlah_motor': jumlah_motor,  'punya_rumah': punya_rumah}\n",
        "\n",
        "print(list1.keys())\n",
        "print(list1.values())\n",
        "\n",
        "for key in list1.keys():\n",
        "    if list1(key):\n",
        "        print(key, \"ada\")\n",
        "    else:\n",
        "        print(key, \"tidak ada\")"
      ]
    },
    {
      "cell_type": "markdown",
      "metadata": {
        "id": "QAuu7AtZeHHo"
      },
      "source": [
        "**NOMOR 7**\n",
        "\n",
        "Buatlah sebuah kondisi untuk mengecek apakah variabel-variabel dibawah ini termasuk salah satu nilai dari variabel lain atau tidak\n",
        "\n",
        "* *`pendidikan` = `s1`* terhadap *`daftar_pendidikan` = ['s1', 's2', 's3']*\n",
        "* *`nama` = `budi`* terhadap *`nama_lengkap` = `budi kurniawan`*\n",
        "\n",
        "Jika True maka tulis/cetak `merupakan bagian`\n",
        "\n",
        "Jika False maka tulis/cetak `bukan merupakan bagian`"
      ]
    },
    {
      "cell_type": "code",
      "execution_count": 23,
      "metadata": {},
      "outputs": [
        {
          "name": "stdout",
          "output_type": "stream",
          "text": [
            "pendidikan tidak ada di dalam daftar pendidikan\n"
          ]
        }
      ],
      "source": [
        "pendidikan = 's11'\n",
        "daftar_pendidikan = ['s1', 's2', 's3']\n",
        "\n",
        "if pendidikan in daftar_pendidikan:\n",
        "    print(\"pendidikan ada di dalam daftar pendidikan\")\n",
        "else:\n",
        "    print(\"pendidikan tidak ada di dalam daftar pendidikan\")"
      ]
    },
    {
      "cell_type": "code",
      "execution_count": 28,
      "metadata": {},
      "outputs": [
        {
          "name": "stdout",
          "output_type": "stream",
          "text": [
            "nama tidak ada di dalam nama lengkap\n"
          ]
        }
      ],
      "source": [
        "nama = \"anton \"\n",
        "nama_lengkap = \"budi susanto\"\n",
        "\n",
        "if nama in nama_lengkap:\n",
        "    print(\"nama merupakan bagian dari nama lengkap\")\n",
        "else:\n",
        "    print(\"nama bukan merupakan bagian dari nama lengkap\")"
      ]
    },
    {
      "cell_type": "markdown",
      "metadata": {
        "id": "xKB0rquQgyU1"
      },
      "source": [
        "**NOMOR 8 (IF-ELIF-ELSE)**\n",
        "\n",
        "Buatlah sebuah kondisi untuk mengecek hubungan dua variabel dibawah ini :\n",
        "\n",
        "* `a` = 100\n",
        "* `b` = 100\n",
        "\n",
        "Jika `a < b` maka tulis/cetak `a lebih kecil dari b`\n",
        "\n",
        "Jika `a > b` maka tulis/cetak `a lebih besar dari b`\n",
        "\n",
        "Selain kondisi diatas, maka tulis/cetak `a sama dengan b`"
      ]
    },
    {
      "cell_type": "code",
      "execution_count": 32,
      "metadata": {},
      "outputs": [
        {
          "name": "stdout",
          "output_type": "stream",
          "text": [
            "100 sama dengan 100\n"
          ]
        }
      ],
      "source": [
        "a = 100\n",
        "b = 100\n",
        "\n",
        "if a<b:\n",
        "    print(\"a lebih kecil dari b\")\n",
        "elif a>b:\n",
        "    print(\"a lebih besar dari b\")\n",
        "else:\n",
        "    print(str(a) + \" sama dengan \" + str(b))\n",
        "    \n",
        "#lebih efisien soalnya else tidak dijalankan jika salah satu if atau elif sudah terpenuhi\n",
        "    "
      ]
    },
    {
      "cell_type": "code",
      "execution_count": 33,
      "metadata": {},
      "outputs": [
        {
          "name": "stdout",
          "output_type": "stream",
          "text": [
            "100 sama dengan 100\n"
          ]
        }
      ],
      "source": [
        "#cara 2: dengan 3 if\n",
        "a = 100\n",
        "b = 100\n",
        "\n",
        "if a<b:\n",
        "    print(\"a lebih kecil dari b\")\n",
        "if a>b:\n",
        "    print(\"a lebih besar dari b\")\n",
        "if a==b:\n",
        "    print(str(a) + \" sama dengan \" + str(b))\n",
        "\n",
        "# kurang efisien karena semua if dijalankan\n",
        "    "
      ]
    },
    {
      "cell_type": "markdown",
      "metadata": {
        "id": "6-2lRRq0e0v2"
      },
      "source": [
        "**NOMOR 9 (NESTED IF)**\n",
        "\n",
        "Buatlah sebuah kondisi untuk memilih menu makanan dengan syarat :\n",
        "\n",
        "* Pilih `nasi goreng` jika uang yang dimiliki lebih dari sama dengan Rp 15.000,-\n",
        "* Pilih `ketoprak` jika uang yang dimiliki lebih dari sama dengan Rp 10.000 dan kurang dari Rp 15.000,-\n",
        "* Pilih `batagor` jika uang yang dimiliki lebih dari sama dengan Rp 5.000 dan kurang Rp 10.000,-\n",
        "* Pilih `es teh manis` jika uang yang dimiliki kurang dari Rp 5000"
      ]
    },
    {
      "cell_type": "code",
      "execution_count": 39,
      "metadata": {},
      "outputs": [
        {
          "name": "stdout",
          "output_type": "stream",
          "text": [
            "beli es teh manis\n"
          ]
        }
      ],
      "source": [
        "uang = 2000\n",
        "\n",
        "if uang >= 15000:\n",
        "    print(\"beli nasgor\")\n",
        "elif uang >= 10000:\n",
        "    print(\"beli ketoprak\")\n",
        "elif uang >= 5000:\n",
        "    print(\"beli batagor\")\n",
        "else:\n",
        "    print(\"beli es teh manis\") \n",
        "  \n",
        "# slower   \n",
        "# if uang >= 15000:\n",
        "#     print(\"beli nasgor\")\n",
        "# elif 10000<=uang<15000:\n",
        "#     print(\"beli ketoprak\")\n",
        "# elif 5000<=uang<10000:\n",
        "#     print(\"beli batagor\")\n",
        "# else:\n",
        "#     print(\"beli es teh manis\")"
      ]
    },
    {
      "cell_type": "markdown",
      "metadata": {
        "id": "0LRQikHLhzxx"
      },
      "source": [
        "**NOMOR 10**\n",
        "\n",
        "Buatlah sebuah perulangan untuk mencetak/menulis kata `hello` sebanyak `5` kali."
      ]
    },
    {
      "cell_type": "code",
      "execution_count": 42,
      "metadata": {},
      "outputs": [
        {
          "name": "stdout",
          "output_type": "stream",
          "text": [
            "0 hello world\n",
            "1 hello world\n",
            "2 hello world\n",
            "3 hello world\n",
            "4 hello world\n"
          ]
        }
      ],
      "source": [
        "# cara 1 : tanpa loop\n",
        "# print(\"hello world\")\n",
        "# print(\"hello world\")\n",
        "# print(\"hello world\")\n",
        "# print(\"hello world\")\n",
        "# print(\"hello world\")\n",
        "\n",
        "#cara 2: loop\n",
        "# for loop in range(5):\n",
        "#     print(\"hello world\")\n",
        "\n",
        "#cara 3: while\n",
        "loop = 0\n",
        "while loop < 5:\n",
        "    print(loop, \"hello world\")\n",
        "    loop += 1"
      ]
    },
    {
      "cell_type": "markdown",
      "metadata": {
        "id": "q1u5JgNcjDER"
      },
      "source": [
        "**NOMOR 11**\n",
        "\n",
        "Buatlah sebuah perulangan untuk menampilkan angka dari `0` - `5`\n",
        "\n",
        "*Hasil : 0 1 2 3 4 5*"
      ]
    },
    {
      "cell_type": "code",
      "execution_count": 55,
      "metadata": {},
      "outputs": [
        {
          "name": "stdout",
          "output_type": "stream",
          "text": [
            "0 1 2 3 4 5 "
          ]
        }
      ],
      "source": [
        "a = 0\n",
        "b = 5\n",
        "while a != b+1:\n",
        "    print (a, end=\" \")\n",
        "    a += 1"
      ]
    },
    {
      "cell_type": "markdown",
      "metadata": {
        "id": "1D-AQ-pij46e"
      },
      "source": [
        "**NOMOR 12**\n",
        "\n",
        "Buatlah sebuah perulangan untuk menampilkan angka dari `3` - `5`\n",
        "\n",
        "*Hasil : 3 4 5*"
      ]
    },
    {
      "cell_type": "code",
      "execution_count": 69,
      "metadata": {},
      "outputs": [
        {
          "name": "stdout",
          "output_type": "stream",
          "text": [
            "5 4 3 "
          ]
        }
      ],
      "source": [
        "a = 0\n",
        "b = 5\n",
        "\n",
        "# for a in range(a+3, b+1, 1): #index mulai, berhenti, lompatan\n",
        "#     print(a, end=\" \")\n",
        "   \n",
        "a = 5\n",
        "b = 0\n",
        " \n",
        "# for a in range(a, b , -1): #index mulai, berhenti, lompatan\n",
        "#     print(a, end=\" \")\n",
        "    \n",
        "a = 0\n",
        "b = 5\n",
        " \n",
        "for a in reversed(range(a+3, b+1, 1)): #index mulai, berhenti, lompatan\n",
        "    print(a, end=\" \")"
      ]
    },
    {
      "cell_type": "markdown",
      "metadata": {
        "id": "uSEVraIukViN"
      },
      "source": [
        "**NOMOR 13**\n",
        "\n",
        "Buatlah sebuah perulangan untuk menampilkan angka dari `1` - `10` dengan jarak angka adalah `3`\n",
        "\n",
        "*Hasil : 1 4 7 10*"
      ]
    },
    {
      "cell_type": "code",
      "execution_count": 71,
      "metadata": {},
      "outputs": [
        {
          "name": "stdout",
          "output_type": "stream",
          "text": [
            "1 4 7 10 "
          ]
        }
      ],
      "source": [
        "a = 1\n",
        "for a in range(a, 11, 3): #index mulai, berhenti, lompatan\n",
        "    print(a, end=\" \")\n",
        "   "
      ]
    },
    {
      "cell_type": "markdown",
      "metadata": {
        "id": "DtDfto_5k75u"
      },
      "source": [
        "**NOMOR 14**\n",
        "\n",
        "Buatlah sebuah perulangan untuk menampilkan angka dari `1` - `10` dan berhenti dengan kondisi jika angka tersebut adalah `8`\n",
        "\n",
        "*Hasil : 1 2 3 4 5 6 7 8*"
      ]
    },
    {
      "cell_type": "code",
      "execution_count": 4,
      "metadata": {},
      "outputs": [
        {
          "name": "stdout",
          "output_type": "stream",
          "text": [
            "1 2 3 4 5 6 7 8 "
          ]
        }
      ],
      "source": [
        "a = 1\n",
        "\n",
        "for a in range(a, 10, 1): #index mulai, berhenti, lompatan\n",
        "    if a>8:\n",
        "        break\n",
        "    print(a, end=\" \")\n",
        "   "
      ]
    },
    {
      "cell_type": "markdown",
      "metadata": {
        "id": "xHUh5DxDmkjm"
      },
      "source": [
        "**NOMOR 15**\n",
        "\n",
        "Buatlah sebuah perulangan untuk menampilkan angka genap dari `1` - `10` dan angka tersebut kurang dari sama dengan 6\n",
        "\n",
        "*Hasil : 2 4 6*"
      ]
    },
    {
      "cell_type": "code",
      "execution_count": 7,
      "metadata": {},
      "outputs": [
        {
          "name": "stdout",
          "output_type": "stream",
          "text": [
            "2 4 6 "
          ]
        }
      ],
      "source": [
        "a = 2\n",
        "\n",
        "for a in range(2, 10, 2): #index mulai, berhenti, lompatan\n",
        "    if a <= 6:\n",
        "        print(a, end=\" \")\n",
        "    else: \n",
        "        break\n",
        "    \n",
        "   "
      ]
    },
    {
      "cell_type": "markdown",
      "metadata": {
        "id": "Xl0dIVvb3TjA"
      },
      "source": [
        "**NOMOR 16**\n",
        "\n",
        "Buatlah sebuah perulangan untuk menampilkan angka dari `1` - `5` dan angka tersebut bukan angka `3` dan masing-masing element dikalikan dengan angka `100`\n",
        "\n",
        "Hasil :\n",
        "```\n",
        "Angka : 1\n",
        "Hasil Perkalian : 100\n",
        "Angka : 2\n",
        "Hasil Perkalian : 200\n",
        "Angka : 4\n",
        "Hasil Perkalian : 400\n",
        "Angka : 5\n",
        "Hasil Perkalian : 500\n",
        "```"
      ]
    },
    {
      "cell_type": "code",
      "execution_count": 9,
      "metadata": {},
      "outputs": [
        {
          "name": "stdout",
          "output_type": "stream",
          "text": [
            "2 x 1 = 100\n",
            "2 x 2 = 200\n",
            "2 x 4 = 400\n",
            "2 x 5 = 500\n"
          ]
        }
      ],
      "source": [
        "angka = 1\n",
        "hasil_kali = 0\n",
        "\n",
        "for angka in range(1, 6, 1):\n",
        "    hasil_kali = angka * 100\n",
        "    if angka == 3:\n",
        "        continue\n",
        "    print(\"2 x\", angka, \"=\", hasil_kali)"
      ]
    },
    {
      "cell_type": "markdown",
      "metadata": {
        "id": "eHuyyy7cmFTc"
      },
      "source": [
        "**NOMOR 17**\n",
        "\n",
        "Buatlah sebuah perulangan untuk menampilkan isi dari variabel list dibawah ini :\n",
        "\n",
        "* `daftar_nama` = `['anwar', 'budi', 'cecep', 'deny']`"
      ]
    },
    {
      "cell_type": "code",
      "execution_count": 16,
      "metadata": {},
      "outputs": [
        {
          "name": "stdout",
          "output_type": "stream",
          "text": [
            "0 nama 1 usia 2 jenis_kelamin 3 alamat 4 jumlah_motor 5 punya_rumah "
          ]
        }
      ],
      "source": [
        "daftar_nama = [\"budi\", \"susi\", \"andi\", \"joko\"]\n",
        "\n",
        "# while daftar_nama:\n",
        "#     print(daftar_nama.pop(), end=\" \")\n",
        "\n",
        "# for nama in daftar_nama:\n",
        "#     print(nama, end=\" \")\n",
        "\n",
        "# for index, daftar_nama in enumerate(daftar_nama):\n",
        "#     print(index, daftar_nama, end=\" \")\n",
        "    \n",
        "list1 = { 'nama': 'gkh', 'usia' : '10', 'jenis_kelamin': True, 'alamat':\"asdsd\",'jumlah_motor': \"1\",  'punya_rumah': False}\n",
        "\n",
        "for key, value in enumerate(list1):\n",
        "    print(key, value, end=\" \")"
      ]
    }
  ],
  "metadata": {
    "colab": {
      "provenance": []
    },
    "kernelspec": {
      "display_name": "Python 3",
      "name": "python3"
    },
    "language_info": {
      "codemirror_mode": {
        "name": "ipython",
        "version": 3
      },
      "file_extension": ".py",
      "mimetype": "text/x-python",
      "name": "python",
      "nbconvert_exporter": "python",
      "pygments_lexer": "ipython3",
      "version": "3.8.5"
    }
  },
  "nbformat": 4,
  "nbformat_minor": 0
}
