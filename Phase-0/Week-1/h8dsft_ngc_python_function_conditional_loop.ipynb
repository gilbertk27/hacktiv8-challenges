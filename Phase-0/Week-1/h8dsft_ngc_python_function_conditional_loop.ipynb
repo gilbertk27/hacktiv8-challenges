{
 "cells": [
  {
   "attachments": {},
   "cell_type": "markdown",
   "metadata": {},
   "source": [
    "### Task #1 - Number of Word\n",
    "\n",
    "Create a function that count the number of word in a sentence.\n",
    "\n",
    "Instruction:\n",
    "\n",
    "1. Create function called `number_of_word`.\n",
    "\n",
    "2. This function takes 1 input, `sentence`.\n",
    "\n",
    "3. Inside this function, you can utilize `.split()` method to split the sentence into list of word(s).\n",
    "\n",
    "4. Also, `len()` function to count the element inside a list.\n",
    "\n",
    "5. Return the number of word from the sentence.\n",
    "\n",
    "Example:\n",
    "```\n",
    "- Input: number_of_word(sentence = ’Hello World!’)\n",
    "\n",
    "- Output: 2\n",
    "```\n",
    "```\n",
    "- Input: number_of_word(sentence = ’Once Upon a Time in a faraway land’)\n",
    "\n",
    "- Output: 8\n",
    "```"
   ]
  },
  {
   "cell_type": "code",
   "execution_count": 6,
   "metadata": {},
   "outputs": [
    {
     "data": {
      "text/plain": [
       "8"
      ]
     },
     "execution_count": 6,
     "metadata": {},
     "output_type": "execute_result"
    }
   ],
   "source": [
    "def number_of_word(sentence):\n",
    "    split_word = sentence.split(\" \")\n",
    "    split_word_length = len(split_word)\n",
    "    return (split_word_length)\n",
    "\n",
    "sentence = \"Once Upon a Time in a faraway land\"\n",
    "number_of_word(sentence)"
   ]
  },
  {
   "attachments": {},
   "cell_type": "markdown",
   "metadata": {},
   "source": [
    "### Task #2 - Find Multiple\n",
    "\n",
    "Create a function that will get list of number(s) from a certain range that multiples of given number.\n",
    "\n",
    "Instruction:\n",
    "\n",
    "1. Create function called `find_multiples`.\n",
    "\n",
    "2. This function takes 3 input: `start_range`, `end_range`, and `multiple`.\n",
    "\n",
    "3. From every number within the given range, check if that number is the mutliples of `multiple`.\n",
    "\n",
    "4. Return list of the possible multiple number(s).\n",
    "\n",
    "Example:\n",
    "\n",
    "```\n",
    "- Input: find_multiple(start_range= 1, end_range= 20, multiple= 5)\n",
    "\n",
    "- Output: [5, 10, 15, 20]\n",
    "\n",
    "- Input: find_multiple(start_range= 1, end_range= 50, multiple= 10)\n",
    "\n",
    "- Output: [10, 20, 30, 40, 50]\n",
    "```\n"
   ]
  },
  {
   "cell_type": "code",
   "execution_count": 4,
   "metadata": {},
   "outputs": [
    {
     "name": "stdout",
     "output_type": "stream",
     "text": [
      "[10, 20, 30, 40, 50]\n"
     ]
    }
   ],
   "source": [
    "def find_multiple(start_range, end_range, multiple):\n",
    "    list_output = []\n",
    "    for i in range(start_range, end_range+1):\n",
    "        if i % multiple == 0 or i == end_range:\n",
    "            list_output.append(i)\n",
    "    return list_output\n",
    "\n",
    "list_output = find_multiple(1, 50, 10)\n",
    "print(list_output)"
   ]
  },
  {
   "attachments": {},
   "cell_type": "markdown",
   "metadata": {},
   "source": [
    "### Task #3 - Grade Converter\n",
    "\n",
    "Create a function that will convert student’s grade to GPA.\n",
    "\n",
    "Instruction:\n",
    "\n",
    "1. Create function called `Grade_Converter`.\n",
    "\n",
    "2. This function takes input: `convert_to` and n-paired of student(s) name with its respective score.\n",
    "\n",
    "3. Input argument for `convert_to` is either `letter_grade` or `gpa`.\n",
    "\n",
    "4. You can utilize **kwargs input argument to generate n-length paired of student(s) name with its respective score (Dictionary).\n",
    "\n",
    "5. This function will return dictionary of student’s name along with converted Letter Grade or GPA, depending on user input in `convert_to` parameter.\n",
    "\n",
    "Example:\n",
    "\n",
    "```\n",
    "- Input: Grade_Converter(convert_to='gpa', Adam=62, Faiz=91)\n",
    "\n",
    "- Output: {'Adam': 2.5, 'Faiz': 4}\n",
    "\n",
    "- Input: Grade_Converter(convert_to='letter_grade', Albert=90, Dwi=82, Syahdan=58, Veronica=84)\n",
    "\n",
    "- Output: {'Albert': 'A', 'Dwi': 'B', 'Syahdan': 'D','Veronica': 'B'}\n",
    "```"
   ]
  },
  {
   "cell_type": "code",
   "execution_count": 3,
   "metadata": {},
   "outputs": [
    {
     "name": "stdout",
     "output_type": "stream",
     "text": [
      "{'Adam': 2.5, 'Faiz': 4}\n",
      "{'Adam': 'C', 'Faiz': 'A'}\n"
     ]
    }
   ],
   "source": [
    "def grade_converter(**student_grades):\n",
    "    gpa = {}\n",
    "    letter_grade = {}\n",
    "    if student_grades['convert_to'] == 'gpa':\n",
    "        for key, value in student_grades.items():\n",
    "            if key == 'convert_to':\n",
    "                continue\n",
    "            if value >= 85:\n",
    "                gpa[key] = 4\n",
    "            elif value >= 70:\n",
    "                gpa[key] = 3\n",
    "            elif value >= 60:\n",
    "                gpa[key] = 2.5\n",
    "            elif value >= 50:\n",
    "                gpa[key] = 2\n",
    "            elif value >= 40:\n",
    "                gpa[key] = 1.5\n",
    "            else:\n",
    "                gpa[key] = 1\n",
    "    elif student_grades['convert_to'] == 'letter_grade':\n",
    "            for key, value in student_grades.items():\n",
    "                if key == 'convert_to':\n",
    "                    continue\n",
    "                if value >= 85:\n",
    "                    letter_grade[key] = 'A'\n",
    "                elif value >= 70:\n",
    "                    letter_grade[key] = 'B'\n",
    "                elif value >= 60:\n",
    "                    letter_grade[key] = 'C'\n",
    "                elif value >= 50:\n",
    "                    letter_grade[key] = 'D'\n",
    "                elif value >= 40:\n",
    "                    letter_grade[key] = 'E' \n",
    "                else:\n",
    "                    letter_grade[key] = 'F'\n",
    "                    \n",
    "    if student_grades['convert_to'] == 'gpa':\n",
    "        return print(gpa)  \n",
    "    else:\n",
    "        return print(letter_grade) \n",
    "\n",
    "grade_converter(convert_to='gpa', Adam=62, Faiz=91)    \n",
    "grade_converter(convert_to='letter_grade', Adam=62, Faiz=91)    "
   ]
  },
  {
   "attachments": {},
   "cell_type": "markdown",
   "metadata": {},
   "source": [
    "### Task #4 - Fibonacci Sequence\n",
    "\n",
    "create a function that will return the value of n-th fibonacci number.\n",
    "\n",
    "Instruction:\n",
    "\n",
    "1. The function will take 1 input parameter, n, represents the asked number from our fibonacci sequence index.\n",
    "\n",
    "2. The fibonacci sequence will start with the value of 0 and 1.\n",
    "\n",
    "3. This function will return the n-th value from fibonacci sequence.\n",
    "\n",
    "\n",
    "Example:\n",
    "\n",
    "```\n",
    "- Input: my_function(n=0)\n",
    "- Output: 0\n",
    "\n",
    "- Input: my_function(n=4)\n",
    "- Output: 3\n",
    "\n",
    "- Input: my_function(n=10)\n",
    "- Output: 55\n",
    "```"
   ]
  },
  {
   "cell_type": "code",
   "execution_count": 6,
   "metadata": {},
   "outputs": [
    {
     "name": "stdout",
     "output_type": "stream",
     "text": [
      "55\n"
     ]
    }
   ],
   "source": [
    "def my_function(n):\n",
    "    num1 = 0\n",
    "    count = 0\n",
    "    num2 = 1\n",
    "    next_number = 0\n",
    "    while count < n-1:\n",
    "        count += 1\n",
    "        next_number = num1 + num2\n",
    "        num1, num2 = num2, next_number\n",
    "\n",
    "    return print(next_number)\n",
    "\n",
    "my_function(n=10)"
   ]
  }
 ],
 "metadata": {
  "kernelspec": {
   "display_name": "base",
   "language": "python",
   "name": "python3"
  },
  "language_info": {
   "codemirror_mode": {
    "name": "ipython",
    "version": 3
   },
   "file_extension": ".py",
   "mimetype": "text/x-python",
   "name": "python",
   "nbconvert_exporter": "python",
   "pygments_lexer": "ipython3",
   "version": "3.8.5"
  },
  "orig_nbformat": 4
 },
 "nbformat": 4,
 "nbformat_minor": 2
}
