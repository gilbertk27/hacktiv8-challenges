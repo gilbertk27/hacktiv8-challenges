{
  "cells": [
    {
      "cell_type": "markdown",
      "metadata": {},
      "source": [
        "- Nama :   \n",
        "- Batch : \n",
        "- Objective : "
      ]
    },
    {
      "cell_type": "markdown",
      "metadata": {
        "id": "A3oM9pFnN2wR"
      },
      "source": [
        "# P0 LC2 Exercise"
      ]
    },
    {
      "cell_type": "markdown",
      "metadata": {
        "id": "SGqE3FKON87V"
      },
      "source": [
        "- bigquery project_id: **`bigquery-public-data`**\n",
        "- dataset: **`austin_bikeshare`**\n",
        "- tabel: **`bikeshare_stations`**"
      ]
    },
    {
      "cell_type": "markdown",
      "metadata": {
        "id": "Q2cRu8gycdLa"
      },
      "source": [
        "# Setup"
      ]
    },
    {
      "cell_type": "code",
      "execution_count": null,
      "metadata": {
        "id": "Rcf92H3KYtvY"
      },
      "outputs": [],
      "source": [
        "from google.colab import auth\n",
        "from google.cloud import bigquery\n",
        "import pandas as pd\n",
        "\n",
        "auth.authenticate_user()\n",
        "\n",
        "project_id = \"your_project_id\" # <- your project id\n",
        "client = bigquery.Client(project=project_id)"
      ]
    },
    {
      "cell_type": "markdown",
      "metadata": {
        "id": "4l2Qjp9mNuox"
      },
      "source": [
        "# Soal"
      ]
    },
    {
      "cell_type": "markdown",
      "metadata": {
        "id": "BZjCZetTZLyx"
      },
      "source": [
        "## SQL"
      ]
    },
    {
      "cell_type": "markdown",
      "metadata": {
        "id": "UK_u7ti_Oqea"
      },
      "source": [
        "Jawab masing-masing pertanyaan ini dengan 1 query:\n",
        "\n",
        "1. Apa saja nama station yang memiliki status `active`?\n",
        "2. Berapa banyak station yang berada di `council_district = 9` dan memiliki status `active`?\n",
        "3. Bandingkan banyaknya station antara `power_type = solar` dengan `power type = non-metered`?"
      ]
    },
    {
      "cell_type": "markdown",
      "metadata": {
        "id": "-j7bQjdYp0kW"
      },
      "source": [
        "## Pandas"
      ]
    },
    {
      "cell_type": "markdown",
      "metadata": {
        "id": "_6uQ0ny6p2gE"
      },
      "source": [
        "Jawab masing-masing pertanyaan dengan pandas:\n",
        "1. Tampilkan summary data! Berikan insight terkait summary data yang ditemukan!\n",
        "2. Buatkan kolom baru `keterangan` yang memiliki ketentuan berikut\n",
        "  - Jika `number_of_docks` antara 0 - 5 -> value `station kecil`\n",
        "  - Jika `number_of_docks` antara 6 - 10 -> value `station sedang`\n",
        "  - Jika `number_of_docks` lebih dari/sama dengan 11 -> value `station besar`\n",
        "3. Tampilkan nama station yang memiliki `power_type = solar` dan `council_district = 10`"
      ]
    },
    {
      "cell_type": "markdown",
      "metadata": {
        "id": "ZkQ0sEbEcfap"
      },
      "source": [
        "## Sample Query"
      ]
    },
    {
      "cell_type": "code",
      "execution_count": null,
      "metadata": {
        "colab": {
          "base_uri": "https://localhost:8080/",
          "height": 348
        },
        "id": "q_Yh4RFecjm2",
        "outputId": "41f6b095-38e4-48d8-b5b6-e6fe79a77724"
      },
      "outputs": [
        {
          "data": {
            "text/html": [
              "\n",
              "  <div id=\"df-9bef3b71-fce9-4914-a645-518fdd264c60\" class=\"colab-df-container\">\n",
              "    <div>\n",
              "<style scoped>\n",
              "    .dataframe tbody tr th:only-of-type {\n",
              "        vertical-align: middle;\n",
              "    }\n",
              "\n",
              "    .dataframe tbody tr th {\n",
              "        vertical-align: top;\n",
              "    }\n",
              "\n",
              "    .dataframe thead th {\n",
              "        text-align: right;\n",
              "    }\n",
              "</style>\n",
              "<table border=\"1\" class=\"dataframe\">\n",
              "  <thead>\n",
              "    <tr style=\"text-align: right;\">\n",
              "      <th></th>\n",
              "      <th>station_id</th>\n",
              "      <th>name</th>\n",
              "      <th>status</th>\n",
              "      <th>address</th>\n",
              "      <th>alternate_name</th>\n",
              "      <th>city_asset_number</th>\n",
              "      <th>property_type</th>\n",
              "      <th>number_of_docks</th>\n",
              "      <th>power_type</th>\n",
              "      <th>footprint_length</th>\n",
              "      <th>footprint_width</th>\n",
              "      <th>notes</th>\n",
              "      <th>council_district</th>\n",
              "      <th>modified_date</th>\n",
              "    </tr>\n",
              "  </thead>\n",
              "  <tbody>\n",
              "    <tr>\n",
              "      <th>0</th>\n",
              "      <td>1003</td>\n",
              "      <td>8th &amp; Guadalupe</td>\n",
              "      <td>closed</td>\n",
              "      <td>800 Guadalupe St.</td>\n",
              "      <td>None</td>\n",
              "      <td>&lt;NA&gt;</td>\n",
              "      <td>None</td>\n",
              "      <td>&lt;NA&gt;</td>\n",
              "      <td>None</td>\n",
              "      <td>&lt;NA&gt;</td>\n",
              "      <td>NaN</td>\n",
              "      <td>None</td>\n",
              "      <td>9</td>\n",
              "      <td>2021-01-04 12:00:00+00:00</td>\n",
              "    </tr>\n",
              "    <tr>\n",
              "      <th>1</th>\n",
              "      <td>1006</td>\n",
              "      <td>Zilker Park West</td>\n",
              "      <td>closed</td>\n",
              "      <td>Barton Springs Rd</td>\n",
              "      <td>None</td>\n",
              "      <td>&lt;NA&gt;</td>\n",
              "      <td>None</td>\n",
              "      <td>&lt;NA&gt;</td>\n",
              "      <td>None</td>\n",
              "      <td>&lt;NA&gt;</td>\n",
              "      <td>NaN</td>\n",
              "      <td>None</td>\n",
              "      <td>8</td>\n",
              "      <td>2021-01-04 12:00:00+00:00</td>\n",
              "    </tr>\n",
              "    <tr>\n",
              "      <th>2</th>\n",
              "      <td>1008</td>\n",
              "      <td>Nueces @ 3rd</td>\n",
              "      <td>closed</td>\n",
              "      <td>311 Nueces</td>\n",
              "      <td>None</td>\n",
              "      <td>&lt;NA&gt;</td>\n",
              "      <td>None</td>\n",
              "      <td>&lt;NA&gt;</td>\n",
              "      <td>None</td>\n",
              "      <td>&lt;NA&gt;</td>\n",
              "      <td>NaN</td>\n",
              "      <td>None</td>\n",
              "      <td>9</td>\n",
              "      <td>2021-01-04 12:00:00+00:00</td>\n",
              "    </tr>\n",
              "    <tr>\n",
              "      <th>3</th>\n",
              "      <td>2500</td>\n",
              "      <td>Republic Square</td>\n",
              "      <td>closed</td>\n",
              "      <td>425 W 4th Street</td>\n",
              "      <td>None</td>\n",
              "      <td>&lt;NA&gt;</td>\n",
              "      <td>None</td>\n",
              "      <td>&lt;NA&gt;</td>\n",
              "      <td>None</td>\n",
              "      <td>&lt;NA&gt;</td>\n",
              "      <td>NaN</td>\n",
              "      <td>None</td>\n",
              "      <td>9</td>\n",
              "      <td>2021-01-04 12:00:00+00:00</td>\n",
              "    </tr>\n",
              "    <tr>\n",
              "      <th>4</th>\n",
              "      <td>2536</td>\n",
              "      <td>Waller &amp; 6th St.</td>\n",
              "      <td>closed</td>\n",
              "      <td>602 Waller St.</td>\n",
              "      <td>None</td>\n",
              "      <td>&lt;NA&gt;</td>\n",
              "      <td>None</td>\n",
              "      <td>&lt;NA&gt;</td>\n",
              "      <td>None</td>\n",
              "      <td>&lt;NA&gt;</td>\n",
              "      <td>NaN</td>\n",
              "      <td>None</td>\n",
              "      <td>3</td>\n",
              "      <td>2021-01-04 12:00:00+00:00</td>\n",
              "    </tr>\n",
              "  </tbody>\n",
              "</table>\n",
              "</div>\n",
              "    <div class=\"colab-df-buttons\">\n",
              "\n",
              "  <div class=\"colab-df-container\">\n",
              "    <button class=\"colab-df-convert\" onclick=\"convertToInteractive('df-9bef3b71-fce9-4914-a645-518fdd264c60')\"\n",
              "            title=\"Convert this dataframe to an interactive table.\"\n",
              "            style=\"display:none;\">\n",
              "\n",
              "  <svg xmlns=\"http://www.w3.org/2000/svg\" height=\"24px\" viewBox=\"0 -960 960 960\">\n",
              "    <path d=\"M120-120v-720h720v720H120Zm60-500h600v-160H180v160Zm220 220h160v-160H400v160Zm0 220h160v-160H400v160ZM180-400h160v-160H180v160Zm440 0h160v-160H620v160ZM180-180h160v-160H180v160Zm440 0h160v-160H620v160Z\"/>\n",
              "  </svg>\n",
              "    </button>\n",
              "\n",
              "  <style>\n",
              "    .colab-df-container {\n",
              "      display:flex;\n",
              "      gap: 12px;\n",
              "    }\n",
              "\n",
              "    .colab-df-convert {\n",
              "      background-color: #E8F0FE;\n",
              "      border: none;\n",
              "      border-radius: 50%;\n",
              "      cursor: pointer;\n",
              "      display: none;\n",
              "      fill: #1967D2;\n",
              "      height: 32px;\n",
              "      padding: 0 0 0 0;\n",
              "      width: 32px;\n",
              "    }\n",
              "\n",
              "    .colab-df-convert:hover {\n",
              "      background-color: #E2EBFA;\n",
              "      box-shadow: 0px 1px 2px rgba(60, 64, 67, 0.3), 0px 1px 3px 1px rgba(60, 64, 67, 0.15);\n",
              "      fill: #174EA6;\n",
              "    }\n",
              "\n",
              "    .colab-df-buttons div {\n",
              "      margin-bottom: 4px;\n",
              "    }\n",
              "\n",
              "    [theme=dark] .colab-df-convert {\n",
              "      background-color: #3B4455;\n",
              "      fill: #D2E3FC;\n",
              "    }\n",
              "\n",
              "    [theme=dark] .colab-df-convert:hover {\n",
              "      background-color: #434B5C;\n",
              "      box-shadow: 0px 1px 3px 1px rgba(0, 0, 0, 0.15);\n",
              "      filter: drop-shadow(0px 1px 2px rgba(0, 0, 0, 0.3));\n",
              "      fill: #FFFFFF;\n",
              "    }\n",
              "  </style>\n",
              "\n",
              "    <script>\n",
              "      const buttonEl =\n",
              "        document.querySelector('#df-9bef3b71-fce9-4914-a645-518fdd264c60 button.colab-df-convert');\n",
              "      buttonEl.style.display =\n",
              "        google.colab.kernel.accessAllowed ? 'block' : 'none';\n",
              "\n",
              "      async function convertToInteractive(key) {\n",
              "        const element = document.querySelector('#df-9bef3b71-fce9-4914-a645-518fdd264c60');\n",
              "        const dataTable =\n",
              "          await google.colab.kernel.invokeFunction('convertToInteractive',\n",
              "                                                    [key], {});\n",
              "        if (!dataTable) return;\n",
              "\n",
              "        const docLinkHtml = 'Like what you see? Visit the ' +\n",
              "          '<a target=\"_blank\" href=https://colab.research.google.com/notebooks/data_table.ipynb>data table notebook</a>'\n",
              "          + ' to learn more about interactive tables.';\n",
              "        element.innerHTML = '';\n",
              "        dataTable['output_type'] = 'display_data';\n",
              "        await google.colab.output.renderOutput(dataTable, element);\n",
              "        const docLink = document.createElement('div');\n",
              "        docLink.innerHTML = docLinkHtml;\n",
              "        element.appendChild(docLink);\n",
              "      }\n",
              "    </script>\n",
              "  </div>\n",
              "\n",
              "\n",
              "<div id=\"df-db3fd5ef-d33b-4fb3-afc5-ae19f0129f92\">\n",
              "  <button class=\"colab-df-quickchart\" onclick=\"quickchart('df-db3fd5ef-d33b-4fb3-afc5-ae19f0129f92')\"\n",
              "            title=\"Suggest charts.\"\n",
              "            style=\"display:none;\">\n",
              "\n",
              "<svg xmlns=\"http://www.w3.org/2000/svg\" height=\"24px\"viewBox=\"0 0 24 24\"\n",
              "     width=\"24px\">\n",
              "    <g>\n",
              "        <path d=\"M19 3H5c-1.1 0-2 .9-2 2v14c0 1.1.9 2 2 2h14c1.1 0 2-.9 2-2V5c0-1.1-.9-2-2-2zM9 17H7v-7h2v7zm4 0h-2V7h2v10zm4 0h-2v-4h2v4z\"/>\n",
              "    </g>\n",
              "</svg>\n",
              "  </button>\n",
              "\n",
              "<style>\n",
              "  .colab-df-quickchart {\n",
              "      --bg-color: #E8F0FE;\n",
              "      --fill-color: #1967D2;\n",
              "      --hover-bg-color: #E2EBFA;\n",
              "      --hover-fill-color: #174EA6;\n",
              "      --disabled-fill-color: #AAA;\n",
              "      --disabled-bg-color: #DDD;\n",
              "  }\n",
              "\n",
              "  [theme=dark] .colab-df-quickchart {\n",
              "      --bg-color: #3B4455;\n",
              "      --fill-color: #D2E3FC;\n",
              "      --hover-bg-color: #434B5C;\n",
              "      --hover-fill-color: #FFFFFF;\n",
              "      --disabled-bg-color: #3B4455;\n",
              "      --disabled-fill-color: #666;\n",
              "  }\n",
              "\n",
              "  .colab-df-quickchart {\n",
              "    background-color: var(--bg-color);\n",
              "    border: none;\n",
              "    border-radius: 50%;\n",
              "    cursor: pointer;\n",
              "    display: none;\n",
              "    fill: var(--fill-color);\n",
              "    height: 32px;\n",
              "    padding: 0;\n",
              "    width: 32px;\n",
              "  }\n",
              "\n",
              "  .colab-df-quickchart:hover {\n",
              "    background-color: var(--hover-bg-color);\n",
              "    box-shadow: 0 1px 2px rgba(60, 64, 67, 0.3), 0 1px 3px 1px rgba(60, 64, 67, 0.15);\n",
              "    fill: var(--button-hover-fill-color);\n",
              "  }\n",
              "\n",
              "  .colab-df-quickchart-complete:disabled,\n",
              "  .colab-df-quickchart-complete:disabled:hover {\n",
              "    background-color: var(--disabled-bg-color);\n",
              "    fill: var(--disabled-fill-color);\n",
              "    box-shadow: none;\n",
              "  }\n",
              "\n",
              "  .colab-df-spinner {\n",
              "    border: 2px solid var(--fill-color);\n",
              "    border-color: transparent;\n",
              "    border-bottom-color: var(--fill-color);\n",
              "    animation:\n",
              "      spin 1s steps(1) infinite;\n",
              "  }\n",
              "\n",
              "  @keyframes spin {\n",
              "    0% {\n",
              "      border-color: transparent;\n",
              "      border-bottom-color: var(--fill-color);\n",
              "      border-left-color: var(--fill-color);\n",
              "    }\n",
              "    20% {\n",
              "      border-color: transparent;\n",
              "      border-left-color: var(--fill-color);\n",
              "      border-top-color: var(--fill-color);\n",
              "    }\n",
              "    30% {\n",
              "      border-color: transparent;\n",
              "      border-left-color: var(--fill-color);\n",
              "      border-top-color: var(--fill-color);\n",
              "      border-right-color: var(--fill-color);\n",
              "    }\n",
              "    40% {\n",
              "      border-color: transparent;\n",
              "      border-right-color: var(--fill-color);\n",
              "      border-top-color: var(--fill-color);\n",
              "    }\n",
              "    60% {\n",
              "      border-color: transparent;\n",
              "      border-right-color: var(--fill-color);\n",
              "    }\n",
              "    80% {\n",
              "      border-color: transparent;\n",
              "      border-right-color: var(--fill-color);\n",
              "      border-bottom-color: var(--fill-color);\n",
              "    }\n",
              "    90% {\n",
              "      border-color: transparent;\n",
              "      border-bottom-color: var(--fill-color);\n",
              "    }\n",
              "  }\n",
              "</style>\n",
              "\n",
              "  <script>\n",
              "    async function quickchart(key) {\n",
              "      const quickchartButtonEl =\n",
              "        document.querySelector('#' + key + ' button');\n",
              "      quickchartButtonEl.disabled = true;  // To prevent multiple clicks.\n",
              "      quickchartButtonEl.classList.add('colab-df-spinner');\n",
              "      try {\n",
              "        const charts = await google.colab.kernel.invokeFunction(\n",
              "            'suggestCharts', [key], {});\n",
              "      } catch (error) {\n",
              "        console.error('Error during call to suggestCharts:', error);\n",
              "      }\n",
              "      quickchartButtonEl.classList.remove('colab-df-spinner');\n",
              "      quickchartButtonEl.classList.add('colab-df-quickchart-complete');\n",
              "    }\n",
              "    (() => {\n",
              "      let quickchartButtonEl =\n",
              "        document.querySelector('#df-db3fd5ef-d33b-4fb3-afc5-ae19f0129f92 button');\n",
              "      quickchartButtonEl.style.display =\n",
              "        google.colab.kernel.accessAllowed ? 'block' : 'none';\n",
              "    })();\n",
              "  </script>\n",
              "</div>\n",
              "    </div>\n",
              "  </div>\n"
            ],
            "text/plain": [
              "   station_id              name  status            address alternate_name  \\\n",
              "0        1003   8th & Guadalupe  closed  800 Guadalupe St.           None   \n",
              "1        1006  Zilker Park West  closed  Barton Springs Rd           None   \n",
              "2        1008      Nueces @ 3rd  closed         311 Nueces           None   \n",
              "3        2500   Republic Square  closed   425 W 4th Street           None   \n",
              "4        2536  Waller & 6th St.  closed     602 Waller St.           None   \n",
              "\n",
              "   city_asset_number property_type  number_of_docks power_type  \\\n",
              "0               <NA>          None             <NA>       None   \n",
              "1               <NA>          None             <NA>       None   \n",
              "2               <NA>          None             <NA>       None   \n",
              "3               <NA>          None             <NA>       None   \n",
              "4               <NA>          None             <NA>       None   \n",
              "\n",
              "   footprint_length  footprint_width notes  council_district  \\\n",
              "0              <NA>              NaN  None                 9   \n",
              "1              <NA>              NaN  None                 8   \n",
              "2              <NA>              NaN  None                 9   \n",
              "3              <NA>              NaN  None                 9   \n",
              "4              <NA>              NaN  None                 3   \n",
              "\n",
              "              modified_date  \n",
              "0 2021-01-04 12:00:00+00:00  \n",
              "1 2021-01-04 12:00:00+00:00  \n",
              "2 2021-01-04 12:00:00+00:00  \n",
              "3 2021-01-04 12:00:00+00:00  \n",
              "4 2021-01-04 12:00:00+00:00  "
            ]
          },
          "execution_count": 13,
          "metadata": {},
          "output_type": "execute_result"
        }
      ],
      "source": [
        "df = client.query('''\n",
        "SELECT *\n",
        "FROM `bigquery-public-data.austin_bikeshare.bikeshare_stations`\n",
        "''').to_dataframe()\n",
        "\n",
        "df.head()"
      ]
    },
    {
      "cell_type": "markdown",
      "metadata": {
        "id": "_bpBYiN2fuDG"
      },
      "source": [
        "# SQL"
      ]
    },
    {
      "cell_type": "markdown",
      "metadata": {
        "id": "S93TxXCAfvgh"
      },
      "source": [
        "## 1. Apa saja nama station yang memiliki status `active`?"
      ]
    },
    {
      "cell_type": "code",
      "execution_count": null,
      "metadata": {
        "id": "zi2BI4a4fyEV"
      },
      "outputs": [],
      "source": [
        "# code here"
      ]
    },
    {
      "cell_type": "markdown",
      "metadata": {
        "id": "w9MkxxyUlRjp"
      },
      "source": [
        "Insight:"
      ]
    },
    {
      "cell_type": "markdown",
      "metadata": {
        "id": "Z0DzlHaNlhsc"
      },
      "source": [
        "## 2. Berapa banyak station yang berada di `council_district = 9` dan memiliki status `active`?"
      ]
    },
    {
      "cell_type": "code",
      "execution_count": null,
      "metadata": {
        "id": "XrWV1dM0lpko"
      },
      "outputs": [],
      "source": [
        "# code here"
      ]
    },
    {
      "cell_type": "markdown",
      "metadata": {
        "id": "EGdv1wREl6MZ"
      },
      "source": [
        "Insight:"
      ]
    },
    {
      "cell_type": "markdown",
      "metadata": {
        "id": "GzppIsgemHnR"
      },
      "source": [
        "## 3. Bandingkan banyaknya station antara `power_type = solar` dengan `power type = non-metered`?"
      ]
    },
    {
      "cell_type": "code",
      "execution_count": null,
      "metadata": {
        "id": "Dl2xe7_amKQP"
      },
      "outputs": [],
      "source": [
        "# code here"
      ]
    },
    {
      "cell_type": "markdown",
      "metadata": {
        "id": "kbmS0FPxmdoe"
      },
      "source": [
        "Insight:"
      ]
    },
    {
      "cell_type": "markdown",
      "metadata": {
        "id": "ntveMpGgvOZ9"
      },
      "source": [
        "# Pandas"
      ]
    },
    {
      "cell_type": "markdown",
      "metadata": {
        "id": "EcSGp8-BvU_D"
      },
      "source": [
        "## 1. Tampilkan summary data! Berikan insight terkait summary data yang ditemukan!"
      ]
    },
    {
      "cell_type": "code",
      "execution_count": null,
      "metadata": {
        "id": "3UnOUAPEvxhI"
      },
      "outputs": [],
      "source": [
        "# code here"
      ]
    },
    {
      "cell_type": "markdown",
      "metadata": {
        "id": "3DDJXsDsyHdH"
      },
      "source": [
        "Insight:"
      ]
    },
    {
      "cell_type": "markdown",
      "metadata": {
        "id": "aQacdO4Y1Uyp"
      },
      "source": [
        "## 2. Buatkan kolom baru `keterangan` yang memiliki ketentuan berikut"
      ]
    },
    {
      "cell_type": "markdown",
      "metadata": {
        "id": "P412IK_dyaP8"
      },
      "source": [
        "- Jika `number_of_docks` antara 0 - 5 -> value `station kecil`\n",
        "- Jika `number_of_docks` antara 6 - 10 -> value `station sedang`\n",
        "- Jika `number_of_docks` lebih dari/sama dengan 11 -> value `station besar`"
      ]
    },
    {
      "cell_type": "code",
      "execution_count": null,
      "metadata": {
        "id": "n-pNbnbG1WaT"
      },
      "outputs": [],
      "source": [
        "# code here"
      ]
    },
    {
      "cell_type": "markdown",
      "metadata": {
        "id": "FPUC5JZ6yknA"
      },
      "source": [
        "Insight:"
      ]
    },
    {
      "cell_type": "markdown",
      "metadata": {
        "id": "ZM2jY2aLyRAD"
      },
      "source": [
        "## 3. Tampilkan nama station yang memiliki `power_type = solar` dan `council_district = 10`"
      ]
    },
    {
      "cell_type": "code",
      "execution_count": null,
      "metadata": {
        "id": "GLS7bCAjymWM"
      },
      "outputs": [],
      "source": [
        "# code here"
      ]
    },
    {
      "cell_type": "markdown",
      "metadata": {
        "id": "0G4C634UynDf"
      },
      "source": [
        "Insight:"
      ]
    }
  ],
  "metadata": {
    "colab": {
      "collapsed_sections": [
        "BZjCZetTZLyx",
        "ZkQ0sEbEcfap",
        "_bpBYiN2fuDG",
        "EcSGp8-BvU_D",
        "aQacdO4Y1Uyp",
        "ZM2jY2aLyRAD"
      ],
      "provenance": []
    },
    "kernelspec": {
      "display_name": "Python 3",
      "name": "python3"
    },
    "language_info": {
      "name": "python"
    }
  },
  "nbformat": 4,
  "nbformat_minor": 0
}
