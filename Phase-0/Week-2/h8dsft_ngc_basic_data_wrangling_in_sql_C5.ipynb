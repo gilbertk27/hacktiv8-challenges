{
 "cells": [
  {
   "attachments": {},
   "cell_type": "markdown",
   "metadata": {},
   "source": [
    "## Task\n",
    "\n",
    "You are asked to create a customer and order table as follows \n",
    "\n",
    "`Customers` and `Orders`. \n",
    "\n",
    "Determine the right datatype to create the two tables. \n",
    "\n",
    "Here are the structures and data for both tables:\n",
    "\n",
    "Once you have successfully created both tables, create a query to retrieve the total number of orders made by each customer along with the customer name from the `Customers` and `Orders` tables. \n",
    "\n",
    "Expected Output:"
   ]
  },
  {
   "cell_type": "code",
   "execution_count": null,
   "metadata": {},
   "outputs": [],
   "source": []
  }
 ],
 "metadata": {
  "language_info": {
   "name": "python"
  },
  "orig_nbformat": 4
 },
 "nbformat": 4,
 "nbformat_minor": 2
}
