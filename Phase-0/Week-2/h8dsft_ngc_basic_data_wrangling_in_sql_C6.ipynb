{
 "cells": [
  {
   "attachments": {},
   "cell_type": "markdown",
   "metadata": {},
   "source": [
    "## Data\n",
    "\n",
    "You will use austin_bikeshare dataset from Google BigQuery Public Dataset. \n",
    "For example, you can change the following syntax:\n",
    "\n",
    "```\n",
    "from google.colab import auth\n",
    "from google.cloud import bigquery\n",
    "import pandas as pdauth.authenticate_user()\n",
    "\n",
    "project_id = \"your_project_id\"\n",
    "client = bigquery.Client(project=project_id)\n",
    "\n",
    "# put your query here\n",
    "query = \"\"\"SELECT*FROM`bigquery-public-data.austin_bikeshare.bikeshare_trips`'\"\"\"\n",
    "\n",
    "# Set up the query\n",
    "query_job = client.query(query).to_dataframe()\n",
    "query_job\n",
    "```"
   ]
  },
  {
   "attachments": {},
   "cell_type": "markdown",
   "metadata": {},
   "source": [
    "[CLIK HERE LINK COLLAB](https://colab.research.google.com/drive/1_MxP0Zciybjz8X3kmzThHbGAHst133D6?usp=sharing)"
   ]
  },
  {
   "attachments": {},
   "cell_type": "markdown",
   "metadata": {},
   "source": [
    "## Task\n",
    "\n",
    "Create a query to answer the following questions:\n",
    "1. How many tables are in the `austin_bikeshare` dataset?\n",
    "2. How many columns in the `bikeshare_stations` table have `STRING` data?\n",
    "\n",
    "Create a query to filter data based on the following conditions:\n",
    "1. Retrieve all trips where the `bike_id` is not null and the duration is greater than 1000 minutes.\n",
    "2. Filter trips where the `trip_id` is `Walk Up` and the `end_station_name`  is `Stolen`.\n"
   ]
  }
 ],
 "metadata": {
  "kernelspec": {
   "display_name": "base",
   "language": "python",
   "name": "python3"
  },
  "language_info": {
   "name": "python",
   "version": "3.8.5"
  },
  "orig_nbformat": 4
 },
 "nbformat": 4,
 "nbformat_minor": 2
}
