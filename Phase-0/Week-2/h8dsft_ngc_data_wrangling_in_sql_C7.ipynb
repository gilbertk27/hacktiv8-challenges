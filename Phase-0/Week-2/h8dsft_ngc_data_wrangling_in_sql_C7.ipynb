{
 "cells": [
  {
   "attachments": {},
   "cell_type": "markdown",
   "metadata": {},
   "source": [
    "# Task\n",
    "\n",
    "You are a Data Scientist who works for the Ministry of Law and Human Rights in a department that deals \n",
    "with patent archives. \n",
    "\n",
    "Your supervisor wants to see the cumulative number of patents related to cancer on \n",
    "an annual basis in the ministry database with condition :\n",
    "\n",
    "- the patent was registered in 2012 to 2023\n",
    "- the patent contains the keyword `data mining`\n",
    "\n",
    "Display the cumulative number of patents sorted by largest year and smallest month.\n",
    "\n",
    "# Data\n",
    "\n",
    "To answer this question, you will use dataset from Google BigQuery.\n",
    "1. Log in to Google Cloud Console and select Google BigQuery.\n",
    "2. In the Google BigQuery search bar, please type `patents`. You will see the result as shown beside.\n",
    "3. Under `patents-public-data`, you will use dataset with name `uspto_oce_cancer` and table `publications`.\n",
    "\n",
    "[CLIK HERE LINK COLLAB](https://colab.research.google.com/drive/1YHeYGYGpsR1W03p2X4Dq-C438W1v8z-n?usp=sharing)\n"
   ]
  },
  {
   "cell_type": "code",
   "execution_count": null,
   "metadata": {},
   "outputs": [],
   "source": []
  }
 ],
 "metadata": {
  "language_info": {
   "name": "python"
  },
  "orig_nbformat": 4
 },
 "nbformat": 4,
 "nbformat_minor": 2
}
