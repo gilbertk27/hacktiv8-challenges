{
 "cells": [
  {
   "attachments": {},
   "cell_type": "markdown",
   "metadata": {},
   "source": [
    "# Dataset\n",
    "\n",
    "You can access the data here:\n",
    "[Link](https://github.com/FTDS-learning-materials/phase-0/raw/main/src/data_ngc.csv4)\n"
   ]
  },
  {
   "attachments": {},
   "cell_type": "markdown",
   "metadata": {},
   "source": [
    "# Task\n",
    "\n",
    "This Non-Graded Challenge is done in notebook format with several mandatory criteria as follows:\n",
    "\n",
    "1. The library used is Pandas.\n",
    "2. The project is considered complete and ready for assessment if, when \"Run All\" is executed in the notebook, all cells successfully run to the end.\n",
    "3. The notebook's content should follow the outline below:\n",
    "    - __Introduction__: The introduction section must contain the identity, background of the problem, and the problem statement to be discussed.\n",
    "    - __Import necessary libraries__: The first cell in the notebook must contain and only contain all the libraries used in the project.\n",
    "    - __Data Loading__: This section contains the queries that have been created and the data loading process, followed by simple data exploration.\n",
    "    - __Data Cleaning__: This section contains the data preparation process, such as data cleaning, before further data exploration. The cleaning process may include assigning new names to each column, filling in missing values, deleting unused columns, and so on.\n",
    "    - __Data Exploration__: This section contains data exploration on the dataset above using queries, grouping, and so on.\n",
    "    - __Conclusion__: In this final section, there must be conclusions that reflect the results obtained by comparing them with the problem statement written in the introduction section.6\n",
    "\n"
   ]
  },
  {
   "cell_type": "code",
   "execution_count": null,
   "metadata": {},
   "outputs": [],
   "source": []
  }
 ],
 "metadata": {
  "language_info": {
   "name": "python"
  },
  "orig_nbformat": 4
 },
 "nbformat": 4,
 "nbformat_minor": 2
}
