{
  "cells": [
    {
      "cell_type": "markdown",
      "metadata": {
        "id": "_zdcF29M-bGb"
      },
      "source": [
        "# P1W2D4AM - Model Deployment - Streamlit"
      ]
    },
    {
      "cell_type": "markdown",
      "metadata": {
        "id": "SWKnbkkS-lXg"
      },
      "source": [
        "---\n",
        "## A. Introduction"
      ]
    },
    {
      "cell_type": "markdown",
      "metadata": {
        "id": "GXMWJjixMPNK"
      },
      "source": [
        "Streamlit is an open-source Python library that makes it easy to create and share beautiful, custom web apps for machine learning and data science. In just a few minutes you can build and deploy powerful data apps - so let’s get started!\n",
        "\n",
        "1. Make sure that you have Python 3.6+ installed.\n",
        "2. Install Streamlit using PIP and run the ‘hello world’ app:\n",
        "\n",
        "```sh\n",
        "pip install streamlit\n",
        "streamlit hello\n",
        "```\n",
        "\n",
        "That’s it! In the next few seconds the sample app will open in a new tab in your default browser."
      ]
    },
    {
      "cell_type": "markdown",
      "metadata": {
        "id": "K0lzjOyG-wlK"
      },
      "source": [
        "Still with us? Great! Now make your own app in just 3 more steps:\n",
        "\n",
        "1. Open a new Python file, import `Streamlit`, and write some code\n",
        "2. Run the file with :\n",
        "   ```\n",
        "   streamlit run [filename]\n",
        "   ```\n",
        "\n",
        "Now that you’re set up, let’s dive into more of how Streamlit works and how to build great apps."
      ]
    },
    {
      "cell_type": "markdown",
      "metadata": {
        "id": "9zGYoAi8_Re9"
      },
      "source": [
        "---\n",
        "## B. Getting Started"
      ]
    },
    {
      "cell_type": "markdown",
      "metadata": {
        "id": "VypFkSCtMPNQ"
      },
      "source": [
        "First, we’ll create a new Python script and import Streamlit.\n",
        "\n",
        "* Create a new Python file named `first_app.py`, then open it with your IDE or text editor.\n",
        "* Next, import `Streamlit`.\n",
        "   ```py\n",
        "   import streamlit as st\n",
        "   # To make things easier later, we're also importing numpy and pandas for working with sample data.\n",
        "   import numpy as np\n",
        "   import pandas as pd\n",
        "   ```\n",
        "* Run your app with\n",
        "   ```\n",
        "   streamlit run first_app.py\n",
        "   ```\n",
        "* A new tab will open in your default browser. It’ll be blank for now. That’s OK.\n",
        "* You can kill the app at any time by typing `Ctrl+c` in the terminal."
      ]
    },
    {
      "cell_type": "markdown",
      "metadata": {
        "id": "b2mDqptA_6ER"
      },
      "source": [
        "---\n",
        "## C. Add Text and Data"
      ]
    },
    {
      "cell_type": "markdown",
      "metadata": {
        "id": "ZucLO9yzAHrI"
      },
      "source": [
        "Streamlit has a number of ways to add text to your app. Check out [Streamlit API reference](https://docs.streamlit.io/library/api-reference) for a complete list."
      ]
    },
    {
      "cell_type": "markdown",
      "metadata": {
        "id": "aMbG1wQ6__9s"
      },
      "source": [
        "### C.1. Add A Title"
      ]
    },
    {
      "cell_type": "code",
      "execution_count": 1,
      "metadata": {},
      "outputs": [
        {
          "name": "stderr",
          "output_type": "stream",
          "text": [
            "2023-12-21 09:02:01.048 \n",
            "  \u001b[33m\u001b[1mWarning:\u001b[0m to view this Streamlit app on a browser, run it with the following\n",
            "  command:\n",
            "\n",
            "    streamlit run C:\\Users\\Gilbert KH\\AppData\\Local\\Packages\\PythonSoftwareFoundation.Python.3.9_qbz5n2kfra8p0\\LocalCache\\local-packages\\Python39\\site-packages\\ipykernel_launcher.py [ARGUMENTS]\n"
          ]
        },
        {
          "data": {
            "text/plain": [
              "DeltaGenerator()"
            ]
          },
          "execution_count": 1,
          "metadata": {},
          "output_type": "execute_result"
        }
      ],
      "source": [
        "import streamlit as st\n",
        "# To make things easier later, we're also importing numpy and pandas for working with sample data.\n",
        "import numpy as np\n",
        "import pandas as pd\n",
        "\n",
        "st.title('My first app')"
      ]
    },
    {
      "cell_type": "markdown",
      "metadata": {
        "id": "WNRnKQVM_-7t"
      },
      "source": [
        "Let’s add a title to test things out:\n",
        "\n",
        "```\n",
        "st.title('My first app')\n",
        "```\n",
        "\n",
        "That’s it ! Your app has a title. You can use specific text functions to add content to your app, or you can use `st.write()` and add your own markdown."
      ]
    },
    {
      "cell_type": "markdown",
      "metadata": {
        "id": "-tC1Ywj6AwqZ"
      },
      "source": [
        "### C.2. Write A Dataframe"
      ]
    },
    {
      "cell_type": "markdown",
      "metadata": {
        "id": "C0lbvD77A2d7"
      },
      "source": [
        "Along with magic commands, `st.write()` is Streamlit’s \"Swiss Army knife\". You can pass almost anything to `st.write()` such as text, data, Matplotlib figures, Altair charts, and more. Don’t worry, Streamlit will figure it out and render things the right way.\n",
        "\n",
        "```py\n",
        "st.write(\"Here's our first attempt at using data to create a table:\")\n",
        "st.write(pd.DataFrame({\n",
        "    'first column': [1, 2, 3, 4],\n",
        "    'second column': [10, 20, 30, 40]\n",
        "}))\n",
        "```\n",
        "\n",
        "There are other data specific functions like `st.dataframe()` and `st.table()` that you can also use for displaying data. Check our advanced guides on displaying data to understand when to use these features and how to add colors and styling to your data frames."
      ]
    },
    {
      "cell_type": "markdown",
      "metadata": {
        "id": "SM4LuUMcBpU_"
      },
      "source": [
        "---\n",
        "## D. Use Magic"
      ]
    },
    {
      "cell_type": "markdown",
      "metadata": {
        "id": "vQ6ikWzvBoQt"
      },
      "source": [
        "You can also write to your app without calling any Streamlit methods. Streamlit supports **“magic commands”**, which means you don’t have to use `st.write()` at all! Try replacing the code above with this snippet:\n",
        "\n",
        "```py\n",
        "\"\"\"\n",
        "# My first app\n",
        "Here's our first attempt at using data to create a table:\n",
        "\"\"\"\n",
        "\n",
        "df = pd.DataFrame({\n",
        "  'first column': [1, 2, 3, 4],\n",
        "  'second column': [10, 20, 30, 40]\n",
        "})\n",
        "\n",
        "df\n",
        "```\n",
        "\n",
        "*Any time that Streamlit sees a variable or a literal value on its own line, it automatically writes that to your app using `st.write()`.*"
      ]
    },
    {
      "cell_type": "markdown",
      "metadata": {
        "id": "6h6hU2-gCM1Q"
      },
      "source": [
        "---\n",
        "## E. Draw Charts and Maps"
      ]
    },
    {
      "cell_type": "markdown",
      "metadata": {
        "id": "38YUWeQkCLoP"
      },
      "source": [
        "Streamlit supports several popular data charting libraries like `Matplotlib`, `Altair`, `deck.gl`, and more. In this section, you’ll add a bar chart, line chart, and a map to your app."
      ]
    },
    {
      "cell_type": "markdown",
      "metadata": {
        "id": "tR5gPwv8CYUF"
      },
      "source": [
        "### E.1. Draw A Line Chart\n",
        "\n",
        "You can easily add a line chart to your app with `st.line_chart()`. We’ll generate a random sample using `NumPy` and then chart it.\n",
        "\n",
        "```py\n",
        "chart_data = pd.DataFrame(\n",
        "     np.random.randn(20, 3),\n",
        "     columns=['a', 'b', 'c'])\n",
        "\n",
        "st.line_chart(chart_data)\n",
        "```"
      ]
    },
    {
      "cell_type": "markdown",
      "metadata": {
        "id": "Svji1roNCjF5"
      },
      "source": [
        "### E.2. Plot A Map"
      ]
    },
    {
      "cell_type": "markdown",
      "metadata": {
        "id": "4u_69aTkCiIC"
      },
      "source": [
        "With `st.map()` you can display data points on a map. Let’s use `NumPy` to generate some sample data and plot it on a map of San Francisco.\n",
        "\n",
        "```py\n",
        "map_data = pd.DataFrame(\n",
        "    np.random.randn(1000, 2) / [50, 50] + [37.76, -122.4],\n",
        "    columns=['lat', 'lon'])\n",
        "\n",
        "st.map(map_data)\n",
        "```"
      ]
    },
    {
      "cell_type": "markdown",
      "metadata": {
        "id": "gZvBAYzXEYw_"
      },
      "source": [
        "---\n",
        "## F. Lay Out Your App"
      ]
    },
    {
      "cell_type": "markdown",
      "metadata": {
        "id": "HOWMuJBEEXoE"
      },
      "source": [
        "For a cleaner look, you can move your widgets into a sidebar. This keeps your app central, while widgets are pinned to the left. Let’s take a look at how you can use `st.sidebar` in your app.\n",
        "\n",
        "```py\n",
        "option = st.sidebar.selectbox(\n",
        "    'Which number do you like best?',\n",
        "     df['first column'])\n",
        "\n",
        "'You selected:', option\n",
        "```\n",
        "\n",
        "Most of the elements you can put into your app can also be put into a sidebar using this syntax: `st.sidebar.[element_name]()`. Here are a few examples that show how it’s used:\n",
        "* `st.sidebar.markdown()`,\n",
        "* `st.sidebar.slider()`,\n",
        "* `st.sidebar.line_chart()`.\n",
        "\n",
        "You can also use `st.columns` to lay out widgets side-by-side, or `st.expander` to conserve space by hiding away large content.\n",
        "\n",
        "```py\n",
        "left_column, right_column = st.columns(2)\n",
        "pressed = left_column.button('Press me?')\n",
        "if pressed:\n",
        "  right_column.write(\"Woohoo!\")\n",
        "\n",
        "expander = st.expander(\"FAQ\")\n",
        "expander.write(\"Here you could put in some really, really long explanations...\")\n",
        "```\n",
        "\n",
        "The only exceptions right now are `st.echo` and `st.spinner`."
      ]
    },
    {
      "cell_type": "markdown",
      "metadata": {
        "id": "yPbzCls1_0ZO"
      },
      "source": [
        "---\n",
        "## G. Show Progress\n",
        "\n",
        "When adding long running computations to an app, you can use `st.progress()` to display status in real time.\n",
        "\n",
        "First, let’s import `time`. We’re going to use the `time.sleep()` method to simulate a long running computation:\n",
        "\n",
        "```\n",
        "import time\n",
        "```\n",
        "\n",
        "Now, let’s create a progress bar:\n",
        "\n",
        "```py\n",
        "'Starting a long computation...'\n",
        "\n",
        "# Add a placeholder\n",
        "latest_iteration = st.empty()\n",
        "bar = st.progress(0)\n",
        "\n",
        "for i in range(100):\n",
        "  # Update the progress bar with each iteration.\n",
        "  latest_iteration.text(f'Iteration {i+1}')\n",
        "  bar.progress(i + 1)\n",
        "  time.sleep(0.1)\n",
        "\n",
        "'...and now we\\'re done!'\n",
        "```"
      ]
    },
    {
      "cell_type": "markdown",
      "metadata": {
        "id": "OW1_YroTF4Py"
      },
      "source": [
        "---\n",
        "## H. Interactive Widget"
      ]
    },
    {
      "cell_type": "markdown",
      "metadata": {
        "id": "D_rav7LXF9_k"
      },
      "source": [
        "### H.1. Button"
      ]
    },
    {
      "cell_type": "markdown",
      "metadata": {
        "id": "5kcq1v7YF9Kd"
      },
      "source": [
        "```py\n",
        "if st.button('Say hello'):\n",
        "    st.write('Why hello there')\n",
        "else:\n",
        "    st.write('Goodbye')\n",
        "```"
      ]
    },
    {
      "cell_type": "markdown",
      "metadata": {
        "id": "DyBoXCDwGB5y"
      },
      "source": [
        "### H.2. Download Button"
      ]
    },
    {
      "cell_type": "markdown",
      "metadata": {
        "id": "lzzFnQlTGHqS"
      },
      "source": [
        "```py\n",
        "@st.cache\n",
        "def convert_df(df):\n",
        "    # IMPORTANT: Cache the conversion to prevent computation on every rerun\n",
        "    return df.to_csv().encode('utf-8')\n",
        "csv = convert_df(my_large_df)\n",
        "st.download_button(\n",
        "    label=\"Download data as CSV\",\n",
        "    data=csv,\n",
        "    file_name='large_df.csv',\n",
        "    mime='text/csv',\n",
        ")\n",
        "```"
      ]
    },
    {
      "cell_type": "markdown",
      "metadata": {
        "id": "p0x3NLavGkRI"
      },
      "source": [
        "### H.3. Checkbox"
      ]
    },
    {
      "cell_type": "markdown",
      "metadata": {
        "id": "UCeiyAdNGja0"
      },
      "source": [
        "```py\n",
        "agree = st.checkbox('I agree')\n",
        "if agree:\n",
        "    st.write('Great!')\n",
        "```"
      ]
    },
    {
      "cell_type": "markdown",
      "metadata": {
        "id": "5-sqh_cwGrtX"
      },
      "source": [
        "### H.4. Radio Button"
      ]
    },
    {
      "cell_type": "markdown",
      "metadata": {
        "id": "PsBt8V3KGuvz"
      },
      "source": [
        "```py\n",
        "genre = st.radio(\n",
        "    \"What's your favorite movie genre\",\n",
        "    ('Comedy', 'Drama', 'Documentary'))\n",
        "if genre == 'Comedy':\n",
        "    st.write('You selected comedy.')\n",
        "else:\n",
        "    st.write(\"You didn't select comedy.\")\n",
        "```"
      ]
    },
    {
      "cell_type": "markdown",
      "metadata": {
        "id": "YRKB-ctQHCJ-"
      },
      "source": [
        "### H.5. Select"
      ]
    },
    {
      "cell_type": "markdown",
      "metadata": {
        "id": "bcG7j1z9G3p1"
      },
      "source": [
        "```py\n",
        "option = st.selectbox(\n",
        "    'How would you like to be contacted?',\n",
        "    ('Email', 'Home phone', 'Mobile phone'))\n",
        "st.write('You selected:', option)\n",
        "```"
      ]
    },
    {
      "cell_type": "markdown",
      "metadata": {
        "id": "ERYvwWnCHD8C"
      },
      "source": [
        "### H.6. Multiselect"
      ]
    },
    {
      "cell_type": "markdown",
      "metadata": {
        "id": "rHRkeKj3G7tP"
      },
      "source": [
        "```py\n",
        "options = st.multiselect(\n",
        "    'What are your favorite colors',\n",
        "    ['Green', 'Yellow', 'Red', 'Blue'],\n",
        "    ['Yellow', 'Red'])\n",
        "st.write('You selected:', options)\n",
        "```"
      ]
    },
    {
      "cell_type": "markdown",
      "metadata": {
        "id": "Ym5chy-hHHAH"
      },
      "source": [
        "### H.7. Slider"
      ]
    },
    {
      "cell_type": "markdown",
      "metadata": {
        "id": "7TNdTnxCG-z5"
      },
      "source": [
        "```py\n",
        "values = st.slider(\n",
        "    'Select a range of values',\n",
        "    0.0, 100.0, (25.0, 75.0))\n",
        "st.write('Values:', values)\n",
        "```"
      ]
    },
    {
      "cell_type": "markdown",
      "metadata": {
        "id": "ahlMtRdhHUIu"
      },
      "source": [
        "### H.8. Range Select"
      ]
    },
    {
      "cell_type": "markdown",
      "metadata": {
        "id": "u-fENAjeHTW7"
      },
      "source": [
        "```py\n",
        "start_color, end_color = st.select_slider(\n",
        "    'Select a range of color wavelength',\n",
        "    options=['red', 'orange', 'yellow', 'green', 'blue', 'indigo', 'violet'],\n",
        "    value=('red', 'blue'))\n",
        "st.write('You selected wavelengths between', start_color, 'and', end_color)\n",
        "```"
      ]
    },
    {
      "cell_type": "markdown",
      "metadata": {
        "id": "SGrRTxHTHZrl"
      },
      "source": [
        "### H.9. Text"
      ]
    },
    {
      "cell_type": "markdown",
      "metadata": {
        "id": "cExdU20UHiuh"
      },
      "source": [
        "```py\n",
        "title = st.text_input('Movie title', 'Life of Brian')\n",
        "st.write('The current movie title is', title)\n",
        "```"
      ]
    },
    {
      "cell_type": "markdown",
      "metadata": {
        "id": "3PnsZW7uHfCm"
      },
      "source": [
        "### H.10. Number"
      ]
    },
    {
      "cell_type": "markdown",
      "metadata": {
        "id": "En8yswqmHeHU"
      },
      "source": [
        "```py\n",
        "number = st.number_input('Insert a number')\n",
        "st.write('The current number is ', number)\n",
        "```"
      ]
    },
    {
      "cell_type": "markdown",
      "metadata": {
        "id": "t0RlHEijH-FC"
      },
      "source": [
        "### H.11. Text Area"
      ]
    },
    {
      "cell_type": "markdown",
      "metadata": {
        "id": "2w_qBXIgHrpw"
      },
      "source": [
        "```py\n",
        "txt = st.text_area('Text to analyze', '''\n",
        "    It was the best of times, it was the worst of times, it was\n",
        "    the age of wisdom, it was the age of foolishness, it was\n",
        "    the epoch of belief, it was the epoch of incredulity, it\n",
        "    was the season of Light, it was the season of Darkness, it\n",
        "    was the spring of hope, it was the winter of despair, (\n",
        "    ''')\n",
        "st.write('Sentiment:', run_sentiment_analysis(txt))\n",
        "```"
      ]
    },
    {
      "cell_type": "markdown",
      "metadata": {
        "id": "TjSZsq5WIGX1"
      },
      "source": [
        "### H.12. Date"
      ]
    },
    {
      "cell_type": "markdown",
      "metadata": {
        "id": "uBStcjeEIFlm"
      },
      "source": [
        "```py\n",
        "d = st.date_input(\n",
        "    \"When's your birthday\",\n",
        "    datetime.date(2019, 7, 6))\n",
        "st.write('Your birthday is:', d)\n",
        "```"
      ]
    },
    {
      "cell_type": "markdown",
      "metadata": {
        "id": "Dkg2l4y1IOXy"
      },
      "source": [
        "### H.13. Time"
      ]
    },
    {
      "cell_type": "markdown",
      "metadata": {
        "id": "IrI2M3XAIM4B"
      },
      "source": [
        "```py\n",
        "t = st.time_input('Set an alarm for', datetime.time(8, 45))\n",
        "st.write('Alarm is set for', t)\n",
        "```"
      ]
    },
    {
      "cell_type": "markdown",
      "metadata": {
        "id": "rQeeuuooIVQG"
      },
      "source": [
        "### H.14. File Upload"
      ]
    },
    {
      "cell_type": "markdown",
      "metadata": {
        "id": "bYwsr0SLIUaE"
      },
      "source": [
        "```py\n",
        "uploaded_file = st.file_uploader(\"Choose a file\")\n",
        "if uploaded_file is not None:\n",
        "    # To read file as bytes:\n",
        "    bytes_data = uploaded_file.getvalue()\n",
        "    st.write(bytes_data)\n",
        "    # To convert to a string based IO:\n",
        "    stringio = StringIO(uploaded_file.getvalue().decode(\"utf-8\"))\n",
        "    st.write(stringio)\n",
        "    # To read file as string:\n",
        "    string_data = stringio.read()\n",
        "    st.write(string_data)\n",
        "    # Can be used wherever a \"file-like\" object is accepted:\n",
        "    dataframe = pd.read_csv(uploaded_file)\n",
        "    st.write(dataframe)\n",
        "```"
      ]
    },
    {
      "cell_type": "markdown",
      "metadata": {
        "id": "-8Q9k4puIaVV"
      },
      "source": [
        "### H.15. Add Widget to Sidebar"
      ]
    },
    {
      "cell_type": "markdown",
      "metadata": {
        "id": "Yie878YoMPNT"
      },
      "source": [
        "\n",
        "```py\n",
        "import streamlit as st\n",
        "\n",
        "add_selectbox = st.sidebar.selectbox(\n",
        "    \"How would you like to be contacted?\",\n",
        "    (\"Email\", \"Home phone\", \"Mobile phone\")\n",
        ")\n",
        "```"
      ]
    },
    {
      "cell_type": "markdown",
      "metadata": {
        "id": "cLOD8HSAIoow"
      },
      "source": [
        "### H.16. Display Matplotlib Plot"
      ]
    },
    {
      "cell_type": "markdown",
      "metadata": {
        "id": "nsSmEB5fIzEO"
      },
      "source": [
        "You can use `st.pyplot` to display a Matplotlib figure.\n",
        "\n",
        "```py\n",
        "import matplotlib.pyplot as plt\n",
        "import numpy as np\n",
        "\n",
        "arr = np.random.normal(1, 1, size=100)\n",
        "fig, ax = plt.subplots()\n",
        "ax.hist(arr, bins=20)\n",
        "\n",
        "st.pyplot(fig)\n",
        "```"
      ]
    },
    {
      "cell_type": "markdown",
      "metadata": {
        "id": "_5QVeGB7I14B"
      },
      "source": [
        "### H.17. Display Plotly Plot"
      ]
    },
    {
      "cell_type": "markdown",
      "metadata": {
        "id": "aHjKEsZPxfNY"
      },
      "source": [
        "You can use `st.plotly_chart` to display a Plotly figure.\n",
        "\n",
        "```py\n",
        "import plotly.express as px\n",
        "\n",
        "df = px.data.gapminder().query(\"country=='Canada'\")\n",
        "fig = px.line(df, x=\"year\", y=\"lifeExp\", title='Life expectancy in Canada')\n",
        "\n",
        "st.plotly_chart(fig)\n",
        "```"
      ]
    },
    {
      "cell_type": "markdown",
      "metadata": {
        "id": "9sOzZgZ0QTTL"
      },
      "source": [
        "### H.18. Media and Layout"
      ]
    },
    {
      "cell_type": "markdown",
      "metadata": {
        "id": "J_P7eRcOQezI"
      },
      "source": [
        "Display an image or list of images with `st.image()`.\n",
        "\n",
        "```py\n",
        "from PIL import Image\n",
        "image = Image.open('sunrise.jpg')\n",
        "\n",
        "st.image(image, caption='Sunrise by the mountains')\n",
        "```"
      ]
    },
    {
      "cell_type": "markdown",
      "metadata": {
        "id": "PN5cy2mOQgkH"
      },
      "source": [
        "### H.19. Columns"
      ]
    },
    {
      "cell_type": "markdown",
      "metadata": {
        "id": "-VdetiBRQVqW"
      },
      "source": [
        "Insert containers laid out as side-by-side columns.\n",
        "\n",
        "Inserts a number of multi-element containers laid out side-by-side and returns a list of container objects.\n",
        "\n",
        "To add elements to the returned containers, you can use `with` notation (preferred) or just call methods directly on the returned object. See examples below.\n",
        "\n",
        "You can use `with` notation to insert any element into a column:\n",
        "\n",
        "```py\n",
        "col1, col2, col3 = st.columns(3)\n",
        "with col1:\n",
        "  st.header(\"A cat\")\n",
        "  st.image(\"https://static.streamlit.io/examples/cat.jpg\")\n",
        "\n",
        "with col2:\n",
        "  st.header(\"A dog\")\n",
        "  st.image(\"https://static.streamlit.io/examples/dog.jpg\")\n",
        "\n",
        "with col3:\n",
        "  st.header(\"An owl\")\n",
        "  st.image(\"https://static.streamlit.io/examples/owl.jpg\")\n",
        "```\n",
        "\n",
        "Or you can just call methods directly in the returned objects:\n",
        "\n",
        "```py\n",
        "col1, col2 = st.columns([3, 1])\n",
        "data = np.random.randn(10, 1)\n",
        "\n",
        "col1.subheader(\"A wide column with a chart\")\n",
        "col1.line_chart(data)\n",
        "\n",
        "col2.subheader(\"A narrow column with the data\")\n",
        "col2.write(data)\n",
        "```"
      ]
    },
    {
      "cell_type": "markdown",
      "metadata": {
        "id": "q5wBiZqiQ0r3"
      },
      "source": [
        "### H.20. Streamlit Container"
      ]
    },
    {
      "cell_type": "markdown",
      "metadata": {
        "id": "CqQXvNNFQxur"
      },
      "source": [
        "Inserts an invisible container into your app that can be used to hold multiple elements. This allows you to, for example, insert multiple elements into your app out of order.\n",
        "\n",
        "To add elements to the returned container, you can use `with` notation (preferred) or just call methods directly on the returned object. See examples below.\n",
        "\n",
        "```py\n",
        "with st.container():\n",
        "  st.write(\"This is inside the container\")\n",
        "\n",
        "  # You can call any Streamlit command, including custom components:\n",
        "  st.bar_chart(np.random.randn(50, 3))\n",
        "\n",
        "st.write(\"This is outside the container\")\n",
        "```"
      ]
    },
    {
      "cell_type": "markdown",
      "metadata": {
        "id": "K7_ibOMLRGz2"
      },
      "source": [
        "### H.21. Page Config"
      ]
    },
    {
      "cell_type": "markdown",
      "metadata": {
        "id": "moi626nvRJLx"
      },
      "source": [
        "Configures the default settings of the page using `st.set_page_config()`.\n",
        "\n",
        "```py\n",
        "st.set_page_config(\n",
        "    page_title=\"Ex-stream-ly Cool App\",\n",
        "    page_icon=\"🧊\",\n",
        "    layout=\"wide\",\n",
        "    initial_sidebar_state=\"expanded\",\n",
        "    menu_items={\n",
        "        'Get Help': 'https://www.extremelycoolapp.com/help',\n",
        "        'Report a bug': \"https://www.extremelycoolapp.com/bug\",\n",
        "        'About': \"# This is a header. This is an *extremely* cool app!\"\n",
        "    }\n",
        ")\n",
        "```"
      ]
    },
    {
      "cell_type": "markdown",
      "metadata": {
        "id": "wcG2J2rwQEng"
      },
      "source": [
        "*API Cheatsheet [here](https://share.streamlit.io/daniellewisdl/streamlit-cheat-sheet/app.py) or [here](https://docs.streamlit.io/library/api-reference)*"
      ]
    },
    {
      "cell_type": "markdown",
      "metadata": {
        "id": "i02mykw3RSa4"
      },
      "source": [
        "---\n",
        "## I. Multipage Streamlit"
      ]
    },
    {
      "cell_type": "markdown",
      "metadata": {
        "id": "gSY-I8XFRWD8"
      },
      "source": [
        "We can create multiple apps and navigate across each of them in a main app using a radio button. Let’s see how to do that.\n",
        "\n",
        "1. Create file `app1.py` and `app2.py`.\n",
        "   ```py\n",
        "   # Contents of `app1.py`\n",
        "   import streamlit as st\n",
        "   def app():\n",
        "       st.title('APP1')\n",
        "       st.write('Welcome to app1')\n",
        "   ```\n",
        "\n",
        "   ```py\n",
        "   # Contents of `app2.py`\n",
        "   import streamlit as st\n",
        "   def app():\n",
        "       st.title('APP2')\n",
        "       st.write('Welcome to app2')\n",
        "   ```\n",
        "\n",
        "2. Create a main app. Let's say `main.py` and add a navigator using radio or select buttons.\n",
        "\n",
        "   ```py\n",
        "   # Contents of main.py\n",
        "   import app1\n",
        "   import app2\n",
        "   import streamlit as st\n",
        "   PAGES = {\n",
        "       \"App1\": app1,\n",
        "       \"App2\": app2\n",
        "   }\n",
        "   st.sidebar.title('Navigation')\n",
        "   selection = st.sidebar.radio(\"Go to\", list(PAGES.keys()))\n",
        "   page = PAGES[selection]\n",
        "   page.app()\n",
        "   ```\n",
        "\n",
        "3. Now you run the `main.py` to access and navigate through both the apps."
      ]
    },
    {
      "cell_type": "markdown",
      "metadata": {
        "id": "MOBNRezgI91C"
      },
      "source": [
        "---\n",
        "## J. App Exercise"
      ]
    },
    {
      "cell_type": "markdown",
      "metadata": {
        "id": "8yr6iYqGJO5t"
      },
      "source": [
        "Streamlit is more than just a way to make data apps, it’s also a community of creators that share their apps and ideas and help each other make their work better. Please come join us on the community forum."
      ]
    },
    {
      "cell_type": "markdown",
      "metadata": {
        "id": "dd225bp-NtH_"
      },
      "source": [
        "### J.1. Create A New Python File\n",
        "\n",
        "The first step is to create a new Python script. Let's call it `uber_pickups.py`.\n",
        "\n",
        "Open `uber_pickups.py` in your favorite IDE or text editor, then add these lines:\n",
        "\n",
        "```py\n",
        "import streamlit as st\n",
        "import pandas as pd\n",
        "import numpy as np\n",
        "```\n",
        "\n",
        "Every good app has a title, so let's add one:\n",
        "\n",
        "`st.title('Uber pickups in NYC')`\n",
        "\n",
        "Now it's time to run Streamlit from the command line:\n",
        "```\n",
        "streamlit run uber_pickups.py\n",
        "```\n",
        "\n",
        "Running a Streamlit app is no different than any other Python script. Whenever you need to view the app, you can use this command"
      ]
    },
    {
      "cell_type": "markdown",
      "metadata": {
        "id": "H7mextdwJfci"
      },
      "source": [
        "### J.2. Fetch Data"
      ]
    },
    {
      "cell_type": "markdown",
      "metadata": {
        "id": "oUrWCtX2Opo4"
      },
      "source": [
        "Now that you have an app, the next thing you'll need to do is fetch the Uber dataset for pickups and drop-offs in New York City.\n",
        "\n",
        "Let's start by writing a function to load the data. Add this code to your script:\n",
        "\n",
        "```py\n",
        "DATE_COLUMN = 'date/time'\n",
        "DATA_URL = ('https://s3-us-west-2.amazonaws.com/'\n",
        "         'streamlit-demo-data/uber-raw-data-sep14.csv.gz')\n",
        "\n",
        "def load_data(nrows):\n",
        "    data = pd.read_csv(DATA_URL, nrows=nrows)\n",
        "    lowercase = lambda x: str(x).lower()\n",
        "    data.rename(lowercase, axis='columns', inplace=True)\n",
        "    data[DATE_COLUMN] = pd.to_datetime(data[DATE_COLUMN])\n",
        "    return data\n",
        "```\n",
        "\n",
        "You'll notice that `load_data` is a plain old function that downloads some data, puts it in a Pandas dataframe, and converts the date column from text to datetime. The function accepts a single parameter (`nrows`), which specifies the number of rows that you want to load into the dataframe.\n",
        "\n",
        "Now let's test the function and review the output. Below your function, add these lines:\n",
        "\n",
        "```py\n",
        "# Create a text element and let the reader know the data is loading.\n",
        "data_load_state = st.text('Loading data...')\n",
        "\n",
        "# Load 10,000 rows of data into the dataframe.\n",
        "data = load_data(10000)\n",
        "\n",
        "# Notify the reader that the data was successfully loaded.\n",
        "data_load_state.text('Loading data...done!')\n",
        "```\n",
        "\n",
        "You'll see a few buttons in the upper-right corner of your app asking if you'd like to rerun the app. Choose `Always rerun`, and you'll see your changes automatically each time you save"
      ]
    },
    {
      "cell_type": "markdown",
      "metadata": {
        "id": "GNcg4s00J1ty"
      },
      "source": [
        "### J.3. Effortless Caching"
      ]
    },
    {
      "cell_type": "markdown",
      "metadata": {
        "id": "u1KGNYqGPaV_"
      },
      "source": [
        "Try adding `@st.cache` before the `load_data` declaration:\n",
        "\n",
        "```py\n",
        "@st.cache\n",
        "def load_data(nrows):\n",
        "```\n",
        "\n",
        "Then save the script, and Streamlit will automatically rerun your app. Since this is the first time you’re running the script with `@st.cache`, you won't see anything change. Let’s tweak your file a little bit more so that you can see the power of caching.\n",
        "\n",
        "Replace the line `data_load_state.text('Loading data...done!')` with this:\n",
        "\n",
        "```\n",
        "data_load_state.text(\"Done! (using st.cache)\")\n",
        "```\n",
        "\n",
        "Now save. See how the line you added appeared immediately? If you take a step back for a second, this is actually quite amazing. Something magical is happening behind the scenes, and it only takes one line of code to activate it."
      ]
    },
    {
      "cell_type": "markdown",
      "metadata": {
        "id": "IUQt0crjLgMV"
      },
      "source": [
        "### J.4. Inspect the Raw Data"
      ]
    },
    {
      "cell_type": "markdown",
      "metadata": {
        "id": "XzNvn9HdP-Hy"
      },
      "source": [
        "It's always a good idea to take a look at the raw data you're working with before you start working with it. Let's add a subheader and a printout of the raw data to the app:\n",
        "\n",
        "```py\n",
        "st.subheader('Raw data')\n",
        "st.write(data)\n",
        "```\n",
        "\n",
        "In the previous section, you learned that `st.write` will render almost anything you pass to it. In this case, you're passing in a dataframe and it's rendering as an interactive table.\n",
        "\n",
        "`st.write` tries to do the right thing based on the data type of the input. If it isn't doing what you expect you can use a specialized command like `st.dataframe` instead."
      ]
    },
    {
      "cell_type": "markdown",
      "metadata": {
        "id": "G2qZQ36KMUTd"
      },
      "source": [
        "### J.5. Draw A Histogram"
      ]
    },
    {
      "cell_type": "markdown",
      "metadata": {
        "id": "j_iaLBeGpWye"
      },
      "source": [
        "Now that you've had a chance to take a look at the dataset and observe what's available, let's take things a step further and draw a histogram to see what Uber's busiest hours are in New York City.\n",
        "\n",
        "* To start, let's add a subheader just below the raw data section:\n",
        "   ```\n",
        "   `st.subheader('Number of pickups by hour')`\n",
        "   ```\n",
        "\n",
        "* Use `NumPy` to generate a histogram that breaks down pickup times binned by hour:\n",
        "\n",
        "   ```py\n",
        "   hist_values = np.histogram(data[DATE_COLUMN].dt.hour, bins=24, range=(0,24))[0]\n",
        "   ```\n",
        "\n",
        "* Now, let's use Streamlit's `st.bar_chart()` method to draw this histogram.\n",
        "\n",
        "   ```\n",
        "   st.bar_chart(hist_values)\n",
        "   ```\n",
        "\n",
        "* Save your script. This histogram should show up in your app right away. After a quick review, it looks like the busiest time is `17:00 (5 P.M.)`.\n",
        "\n",
        "To draw this diagram we used Streamlit's native `st.bar_chart()` method, but it's important to know that Streamlit supports more complex charting libraries like `Altair`, `Bokeh`, `Plotly`, `Matplotlib`, and more."
      ]
    },
    {
      "cell_type": "markdown",
      "metadata": {
        "id": "mEkXrduIM3Jn"
      },
      "source": [
        "### J.6. Plot Data on A Map"
      ]
    },
    {
      "cell_type": "markdown",
      "metadata": {
        "id": "gxeJUi8opjuE"
      },
      "source": [
        "Using a histogram with Uber's dataset helped us determine what the busiest times are for pickups, but **what if we wanted to figure out where pickups were concentrated throughout the city ?** While you could use a bar chart to show this data, it wouldn't be easy to interpret unless you were intimately familiar with latitudinal and longitudinal coordinates in the city. To show pickup concentration, let's use Streamlit `st.map()` function to overlay the data on a map of New York City.\n",
        "\n",
        "* Add a subheader for the section:\n",
        "   ```\n",
        "   st.subheader('Map of all pickups')\n",
        "   ```\n",
        "\n",
        "* Use the `st.map()` function to plot the data:\n",
        "   ```\n",
        "   st.map(data)\n",
        "   ```\n",
        "\n",
        "* Save your script. The map is fully interactive. Give it a try by panning or zooming in a bit."
      ]
    },
    {
      "cell_type": "markdown",
      "metadata": {
        "id": "zmgf7RIYNpzp"
      },
      "source": [
        "---\n",
        "After drawing your histogram, you determined that the busiest hour for Uber pickups was `17:00`. Let's redraw the map to show the concentration of pickups at `17:00`.\n",
        "\n",
        "* Locate the following code snippet:\n",
        "   ```py\n",
        "   st.subheader('Map of all pickups')\n",
        "   st.map(data)\n",
        "   ```\n",
        "\n",
        "* Replace it with:\n",
        "   ```py\n",
        "   hour_to_filter = 17\n",
        "   filtered_data = data[data[DATE_COLUMN].dt.hour == hour_to_filter]\n",
        "   st.subheader(f'Map of all pickups at {hour_to_filter}:00')\n",
        "   st.map(filtered_data)\n",
        "   ```\n",
        "\n",
        "* You should see the data update instantly.\n",
        "\n",
        "To draw this map, we used the `st.map()` function that's built into Streamlit, but if you'd like to visualize complex map data, we encourage you to take a look at the `st.pydeck_chart()`."
      ]
    },
    {
      "cell_type": "markdown",
      "metadata": {
        "id": "ZSTueuVhNtPv"
      },
      "source": [
        "### J.7. Filter Results with A Slider"
      ]
    },
    {
      "cell_type": "markdown",
      "metadata": {
        "id": "SITIsjSfN7Sf"
      },
      "source": [
        "In the last section, when you drew the map, the time used to filter results was hardcoded into the script, but what if we wanted to let a reader dynamically filter the data in real time? Using Streamlit's widgets you can. Let's add a slider to the app with the `st.slider()` method.\n",
        "\n",
        "* Locate hour_to_filter and replace it with this code snippet:\n",
        "   ```\n",
        "   hour_to_filter = st.slider('hour', 0, 23, 17)  # min: 0h, max: 23h, default: 17h\n",
        "   ```\n",
        "\n",
        "* Use the slider and watch the map update in real time."
      ]
    },
    {
      "cell_type": "markdown",
      "metadata": {
        "id": "VYRutqKHN9pT"
      },
      "source": [
        "### J.8. Use A Button to Toggle Data"
      ]
    },
    {
      "cell_type": "markdown",
      "metadata": {
        "id": "J93AlIx_p1mR"
      },
      "source": [
        "Sliders are just one way to dynamically change the composition of your app. Let's use the `st.checkbox` function to add a checkbox to your app. We'll use this checkbox to show/hide the raw data table at the top of your app.\n",
        "\n",
        "* Locate these lines:\n",
        "   ```py\n",
        "   st.subheader('Raw data')\n",
        "   st.write(data)\n",
        "   ```\n",
        "\n",
        "* Replace these lines with the following code:\n",
        "   ```\n",
        "   if st.checkbox('Show raw data'):\n",
        "       st.subheader('Raw data')\n",
        "       st.write(data)\n",
        "   ```"
      ]
    },
    {
      "cell_type": "markdown",
      "metadata": {
        "id": "_MWP0sROONXI"
      },
      "source": [
        "### J.9. Let's Put It All Together"
      ]
    },
    {
      "cell_type": "markdown",
      "metadata": {
        "id": "q2vHnuLJqFWa"
      },
      "source": [
        "\n",
        "\n",
        "That's it, you've made it to the end. Here's the complete script for our interactive app.\n",
        "\n",
        "```py\n",
        "import streamlit as st\n",
        "import pandas as pd\n",
        "import numpy as np\n",
        "\n",
        "st.title('Uber pickups in NYC')\n",
        "\n",
        "DATE_COLUMN = 'date/time'\n",
        "DATA_URL = ('https://s3-us-west-2.amazonaws.com/'\n",
        "            'streamlit-demo-data/uber-raw-data-sep14.csv.gz')\n",
        "\n",
        "@st.cache\n",
        "def load_data(nrows):\n",
        "    data = pd.read_csv(DATA_URL, nrows=nrows)\n",
        "    lowercase = lambda x: str(x).lower()\n",
        "    data.rename(lowercase, axis='columns', inplace=True)\n",
        "    data[DATE_COLUMN] = pd.to_datetime(data[DATE_COLUMN])\n",
        "    return data\n",
        "\n",
        "data_load_state = st.text('Loading data...')\n",
        "data = load_data(10000)\n",
        "data_load_state.text(\"Done! (using st.cache)\")\n",
        "\n",
        "if st.checkbox('Show raw data'):\n",
        "    st.subheader('Raw data')\n",
        "    st.write(data)\n",
        "\n",
        "st.subheader('Number of pickups by hour')\n",
        "hist_values = np.histogram(data[DATE_COLUMN].dt.hour, bins=24, range=(0,24))[0]\n",
        "st.bar_chart(hist_values)\n",
        "\n",
        "# Some number in the range 0-23\n",
        "hour_to_filter = st.slider('hour', 0, 23, 17)\n",
        "filtered_data = data[data[DATE_COLUMN].dt.hour == hour_to_filter]\n",
        "\n",
        "st.subheader('Map of all pickups at %s:00' % hour_to_filter)\n",
        "st.map(filtered_data)\n",
        "```\n"
      ]
    }
  ],
  "metadata": {
    "colab": {
      "provenance": [],
      "toc_visible": true
    },
    "interpreter": {
      "hash": "60716cfbf8f6257f052921a35c79929cd52e6aa52b65b24e32100e25d3fdc1e3"
    },
    "kernelspec": {
      "display_name": "Python 3.8.5 64-bit",
      "name": "python3"
    },
    "language_info": {
      "codemirror_mode": {
        "name": "ipython",
        "version": 3
      },
      "file_extension": ".py",
      "mimetype": "text/x-python",
      "name": "python",
      "nbconvert_exporter": "python",
      "pygments_lexer": "ipython3",
      "version": "3.9.10"
    },
    "orig_nbformat": 4
  },
  "nbformat": 4,
  "nbformat_minor": 0
}
